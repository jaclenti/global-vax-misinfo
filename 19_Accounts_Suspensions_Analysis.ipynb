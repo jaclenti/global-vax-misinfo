{
 "cells": [
  {
   "cell_type": "markdown",
   "metadata": {},
   "source": [
    "# 19 Accounts Suspensions - Analysis\n",
    "We have previously queried the status of all the accounts we have. \n",
    "They can be \"found\" (if still existing in Twitter), \"not found\" (if the owners deleted the account), \"suspended\" (if Twitter ban the account).\n",
    "\n",
    "In this notebook we analyse the users that have been suspended.\n",
    "- where are they from?\n",
    "- where them in no-vax communities?\n",
    "- when have they been suspended?\n",
    "- did they spread misinformation?\n",
    "- did the suspension affect misinformation spread?"
   ]
  },
  {
   "cell_type": "code",
   "execution_count": 341,
   "metadata": {},
   "outputs": [],
   "source": [
    "import pandas as pd\n",
    "import numpy as np\n",
    "import seaborn as sns\n",
    "from itertools import repeat\n",
    "from glob import glob\n",
    "from scipy.stats import ttest_ind\n",
    "import matplotlib.pyplot as plt\n",
    "import matplotlib.patches as mpatches\n",
    "import matplotlib.dates as mdates"
   ]
  },
  {
   "cell_type": "code",
   "execution_count": 300,
   "metadata": {},
   "outputs": [],
   "source": [
    "folder = \"/data/public/jlenti/multilang-vax/EuropeAmerica_RTCO\"\n",
    "folder_data = \"/data/public/jlenti/m*/EuropeAmerica*\"\n",
    "folder_RTURLS = \"/data/public/jlenti/multilang-vax/RT_edgelists_with_urls\"\n",
    "\n",
    "#list of all countries (size ordered)\n",
    "countries = [\"US\", \"BR\", \"AR\", \"GB\", \"ES\", \"MX\", \"FR\", \"CA\", \"TR\", \"VE\", \"AU\", \"CO\", \"IT\", \"CL\", \"DE\",\n",
    "             \"PT\", \"IE\", \"PY\", \"EC\", \"RU\", \"UY\", \"NZ\", \"PL\", \"NL\", \"PE\", \"CU\", \"PA\", \"GR\"]\n",
    "#sorted by language\n",
    "lang_sort = [\"US\", \"IE\", \"GB\", \"CA\", \"NZ\", \"AU\", \"FR\", \"IT\", \"PL\", \"NL\", \"DE\", \"RU\", \"TR\", \n",
    "             \"BR\", \"PT\", \"GR\", \"AR\", \"ES\", \"MX\",\"VE\", \"CO\", \"CL\",\n",
    "             \"PY\", \"EC\", \"UY\", \"PE\", \"CU\", \"PA\"]\n",
    "#named periods\n",
    "periods = [\"period\" + str(u + 1) for u in range(4)]\n",
    "\n",
    "country_lang = pd.DataFrame([u.split(\"/\")[-1].split(\"_\")[:2] \n",
    "                             for u in sorted(glob(\"/\".join([folder_data, \"*1\", \"*RT*mod*\"])))], \n",
    "                            columns = [\"country\", \"lang\"]).set_index(\"country\")\n",
    "\n",
    "#list of novax communities\n",
    "#i transform it into a dataframe with columns (id, country, period, community)\n",
    "#novax_com = pd.read_csv(\"/home/jlenti/Files/novax_communities_thres066_0402.csv\", index_col = 0).apply(lambda x: pd.Series([x[0]] + x[0].split(\"_\"), index = [\"com\", \"country\", \"period\", \"community\"]), axis = 1)\n",
    "novax_com = pd.read_csv(\"/home/jlenti/Files/novax_communities_9tot_antivax_0902.csv\", index_col = 0).apply(lambda x: pd.Series([x[0]] + x[0].split(\"_\"), index = [\"com\", \"country\", \"period\", \"community\"]), axis = 1)\n",
    "\n",
    "#list of neutral domains (url shorteners, twitter.com, facebook.com)\n",
    "neutrals = pd.read_csv(\"/home/jlenti/Files/neutral_domains_1309.txt\")[\"0\"].tolist()\n",
    "#list of low-credible domains\n",
    "blacklist = pd.read_csv(\"/home/jlenti/Files/merged_blacklist_1309.txt\")[\"0\"].tolist()\n",
    "blacklist.extend(pd.read_csv( '/home/jlenti/Files/lemonde_blacklist_2709.txt')[\"domain\"].tolist())\n",
    "blacklist.extend(pd.read_csv('/home/jlenti/Files/greek_blacklist_1009.txt')[\"0\"].tolist())\n",
    "#domains associated to youtube\n",
    "youtube_domains = [\"youtube.com\", \"youtu.be\"]"
   ]
  },
  {
   "cell_type": "code",
   "execution_count": 5,
   "metadata": {},
   "outputs": [
    {
     "data": {
      "text/plain": [
       "'/data/public/jlenti/multilang-vax/EuropeAmerica_RTCO/period1/AR_es_period1_user_status.csv'"
      ]
     },
     "execution_count": 5,
     "metadata": {},
     "output_type": "execute_result"
    }
   ],
   "source": [
    "sorted(glob(\"/\".join([folder, \"*\", \"*status*\"])))[0]"
   ]
  },
  {
   "cell_type": "code",
   "execution_count": 290,
   "metadata": {},
   "outputs": [],
   "source": [
    "#functions to read the data about edgelist, and community assignement for the users of the given country/period\n",
    "def read_data(period, country, obj, network = \"RT\"):\n",
    "    l = sorted(glob(\"/\".join([folder_data, period, \"*\".join([country, obj, network,\"\"])])))\n",
    "    if len(l) > 1:\n",
    "        print(l)\n",
    "    D = pd.read_csv(sorted(glob(\"/\".join([folder_data, period, \"*\".join([country, network, obj, \"\"])])))[0])\n",
    "    return D\n",
    "#functions to read the data about the rteweet edgelist in the given country/period for retweets containing a url\n",
    "def read_data_urls(period, country):\n",
    "    lang = country_lang.loc[country, \"lang\"]\n",
    "    l = sorted(glob(\"/data/public/jlenti/multilang-vax/RT_edgelists_with_urls/{0}/{1}/*\".format(lang, period)))\n",
    "    if len(l) > 1:\n",
    "        print(l)\n",
    "    D = pd.read_csv(l[0]) \\\n",
    "    .query(\"country_RT == @country\")\n",
    "    return D"
   ]
  },
  {
   "cell_type": "code",
   "execution_count": 6,
   "metadata": {},
   "outputs": [],
   "source": [
    "#dataframe with all the account status of the users considered\n",
    "accounts_status = pd.concat([pd.read_csv(file) \\\n",
    "                             .assign(lang = file.split(\"_\")[2], country = file.split(\"_\")[1][-2:]) \n",
    "                             for file in sorted(glob(\"/\".join([folder, \"*\", \"*status*\"])))])\n"
   ]
  },
  {
   "cell_type": "code",
   "execution_count": 8,
   "metadata": {},
   "outputs": [
    {
     "data": {
      "text/html": [
       "<div>\n",
       "<style scoped>\n",
       "    .dataframe tbody tr th:only-of-type {\n",
       "        vertical-align: middle;\n",
       "    }\n",
       "\n",
       "    .dataframe tbody tr th {\n",
       "        vertical-align: top;\n",
       "    }\n",
       "\n",
       "    .dataframe thead th {\n",
       "        text-align: right;\n",
       "    }\n",
       "</style>\n",
       "<table border=\"1\" class=\"dataframe\">\n",
       "  <thead>\n",
       "    <tr style=\"text-align: right;\">\n",
       "      <th></th>\n",
       "      <th>user_screen_name</th>\n",
       "      <th>status</th>\n",
       "      <th>lang</th>\n",
       "      <th>country</th>\n",
       "    </tr>\n",
       "  </thead>\n",
       "  <tbody>\n",
       "    <tr>\n",
       "      <th>0</th>\n",
       "      <td>AdopcionesQ</td>\n",
       "      <td>found</td>\n",
       "      <td>es</td>\n",
       "      <td>AR</td>\n",
       "    </tr>\n",
       "    <tr>\n",
       "      <th>1</th>\n",
       "      <td>Aleneyrubi</td>\n",
       "      <td>found</td>\n",
       "      <td>es</td>\n",
       "      <td>AR</td>\n",
       "    </tr>\n",
       "    <tr>\n",
       "      <th>2</th>\n",
       "      <td>AngeloDonatoni1</td>\n",
       "      <td>found</td>\n",
       "      <td>es</td>\n",
       "      <td>AR</td>\n",
       "    </tr>\n",
       "    <tr>\n",
       "      <th>3</th>\n",
       "      <td>BumperCrop1</td>\n",
       "      <td>found</td>\n",
       "      <td>es</td>\n",
       "      <td>AR</td>\n",
       "    </tr>\n",
       "    <tr>\n",
       "      <th>4</th>\n",
       "      <td>DamianFresolone</td>\n",
       "      <td>found</td>\n",
       "      <td>es</td>\n",
       "      <td>AR</td>\n",
       "    </tr>\n",
       "  </tbody>\n",
       "</table>\n",
       "</div>"
      ],
      "text/plain": [
       "  user_screen_name status lang country\n",
       "0      AdopcionesQ  found   es      AR\n",
       "1       Aleneyrubi  found   es      AR\n",
       "2  AngeloDonatoni1  found   es      AR\n",
       "3      BumperCrop1  found   es      AR\n",
       "4  DamianFresolone  found   es      AR"
      ]
     },
     "execution_count": 8,
     "metadata": {},
     "output_type": "execute_result"
    }
   ],
   "source": [
    "accounts_status.head()"
   ]
  },
  {
   "cell_type": "markdown",
   "metadata": {},
   "source": [
    "### Account Status per Network\n",
    "For each country each period count the account status for all the users in the RT network and save it in a dataframe."
   ]
  },
  {
   "cell_type": "markdown",
   "metadata": {},
   "source": [
    "#### Example"
   ]
  },
  {
   "cell_type": "code",
   "execution_count": 326,
   "metadata": {},
   "outputs": [],
   "source": [
    "country = \"IT\"\n",
    "period = \"period1\"\n",
    "users = read_data(period, country, \"com\", \"RT\")[\"user\"].tolist()"
   ]
  },
  {
   "cell_type": "code",
   "execution_count": 327,
   "metadata": {},
   "outputs": [
    {
     "data": {
      "text/plain": [
       "period       period1\n",
       "country           IT\n",
       "found          13436\n",
       "not found        860\n",
       "suspended        467\n",
       "dtype: object"
      ]
     },
     "execution_count": 327,
     "metadata": {},
     "output_type": "execute_result"
    }
   ],
   "source": [
    "count_status = pd.Series([period, country], index = [\"period\", \"country\"]) \\\n",
    ".append(accounts_status.query(\"user_screen_name in @users\")[\"status\"].value_counts())\n",
    "count_status"
   ]
  },
  {
   "cell_type": "markdown",
   "metadata": {},
   "source": [
    "#### All countries"
   ]
  },
  {
   "cell_type": "code",
   "execution_count": 324,
   "metadata": {},
   "outputs": [],
   "source": [
    "count_status_countries = []\n",
    "for country in countries:\n",
    "    for period in periods:\n",
    "        users = read_data(period, country, \"com\", \"RT\")[\"user\"].tolist()\n",
    "        count_status_countries.append(pd.Series([period, country], index = [\"period\", \"country\"]) \\\n",
    "                                      .append(accounts_status.query(\"user_screen_name in @users\")[\"status\"].value_counts()))"
   ]
  },
  {
   "cell_type": "code",
   "execution_count": 325,
   "metadata": {},
   "outputs": [
    {
     "data": {
      "text/html": [
       "<div>\n",
       "<style scoped>\n",
       "    .dataframe tbody tr th:only-of-type {\n",
       "        vertical-align: middle;\n",
       "    }\n",
       "\n",
       "    .dataframe tbody tr th {\n",
       "        vertical-align: top;\n",
       "    }\n",
       "\n",
       "    .dataframe thead th {\n",
       "        text-align: right;\n",
       "    }\n",
       "</style>\n",
       "<table border=\"1\" class=\"dataframe\">\n",
       "  <thead>\n",
       "    <tr style=\"text-align: right;\">\n",
       "      <th></th>\n",
       "      <th></th>\n",
       "      <th>found</th>\n",
       "      <th>suspended</th>\n",
       "      <th>not found</th>\n",
       "    </tr>\n",
       "    <tr>\n",
       "      <th>country</th>\n",
       "      <th>period</th>\n",
       "      <th></th>\n",
       "      <th></th>\n",
       "      <th></th>\n",
       "    </tr>\n",
       "  </thead>\n",
       "  <tbody>\n",
       "    <tr>\n",
       "      <th rowspan=\"4\" valign=\"top\">US</th>\n",
       "      <th>period1</th>\n",
       "      <td>25835</td>\n",
       "      <td>6216</td>\n",
       "      <td>2662</td>\n",
       "    </tr>\n",
       "    <tr>\n",
       "      <th>period2</th>\n",
       "      <td>167093</td>\n",
       "      <td>31312</td>\n",
       "      <td>19861</td>\n",
       "    </tr>\n",
       "    <tr>\n",
       "      <th>period3</th>\n",
       "      <td>302043</td>\n",
       "      <td>43685</td>\n",
       "      <td>34242</td>\n",
       "    </tr>\n",
       "    <tr>\n",
       "      <th>period4</th>\n",
       "      <td>368737</td>\n",
       "      <td>19651</td>\n",
       "      <td>21316</td>\n",
       "    </tr>\n",
       "    <tr>\n",
       "      <th>BR</th>\n",
       "      <th>period1</th>\n",
       "      <td>72884</td>\n",
       "      <td>3103</td>\n",
       "      <td>21208</td>\n",
       "    </tr>\n",
       "  </tbody>\n",
       "</table>\n",
       "</div>"
      ],
      "text/plain": [
       "                  found  suspended  not found\n",
       "country period                               \n",
       "US      period1   25835       6216       2662\n",
       "        period2  167093      31312      19861\n",
       "        period3  302043      43685      34242\n",
       "        period4  368737      19651      21316\n",
       "BR      period1   72884       3103      21208"
      ]
     },
     "execution_count": 325,
     "metadata": {},
     "output_type": "execute_result"
    }
   ],
   "source": [
    "status_countries = pd.concat(count_status_countries, axis = 1).transpose().set_index([\"country\", \"period\"]).fillna(0)\n",
    "status_countries.head()"
   ]
  },
  {
   "cell_type": "markdown",
   "metadata": {},
   "source": [
    "#### Proportion account status per nework"
   ]
  },
  {
   "cell_type": "code",
   "execution_count": 63,
   "metadata": {},
   "outputs": [
    {
     "data": {
      "text/html": [
       "<div>\n",
       "<style scoped>\n",
       "    .dataframe tbody tr th:only-of-type {\n",
       "        vertical-align: middle;\n",
       "    }\n",
       "\n",
       "    .dataframe tbody tr th {\n",
       "        vertical-align: top;\n",
       "    }\n",
       "\n",
       "    .dataframe thead th {\n",
       "        text-align: right;\n",
       "    }\n",
       "</style>\n",
       "<table border=\"1\" class=\"dataframe\">\n",
       "  <thead>\n",
       "    <tr style=\"text-align: right;\">\n",
       "      <th></th>\n",
       "      <th></th>\n",
       "      <th>found</th>\n",
       "      <th>suspended</th>\n",
       "      <th>not found</th>\n",
       "    </tr>\n",
       "    <tr>\n",
       "      <th>country</th>\n",
       "      <th>period</th>\n",
       "      <th></th>\n",
       "      <th></th>\n",
       "      <th></th>\n",
       "    </tr>\n",
       "  </thead>\n",
       "  <tbody>\n",
       "    <tr>\n",
       "      <th>US</th>\n",
       "      <th>period1</th>\n",
       "      <td>0.744246</td>\n",
       "      <td>0.179068</td>\n",
       "      <td>0.076686</td>\n",
       "    </tr>\n",
       "    <tr>\n",
       "      <th>BR</th>\n",
       "      <th>period1</th>\n",
       "      <td>0.749874</td>\n",
       "      <td>0.031926</td>\n",
       "      <td>0.218201</td>\n",
       "    </tr>\n",
       "    <tr>\n",
       "      <th>US</th>\n",
       "      <th>period2</th>\n",
       "      <td>0.765548</td>\n",
       "      <td>0.143458</td>\n",
       "      <td>0.090994</td>\n",
       "    </tr>\n",
       "    <tr>\n",
       "      <th rowspan=\"2\" valign=\"top\">EC</th>\n",
       "      <th>period3</th>\n",
       "      <td>0.765871</td>\n",
       "      <td>0.077154</td>\n",
       "      <td>0.156974</td>\n",
       "    </tr>\n",
       "    <tr>\n",
       "      <th>period2</th>\n",
       "      <td>0.790722</td>\n",
       "      <td>0.082543</td>\n",
       "      <td>0.126736</td>\n",
       "    </tr>\n",
       "    <tr>\n",
       "      <th>NZ</th>\n",
       "      <th>period2</th>\n",
       "      <td>0.794198</td>\n",
       "      <td>0.135495</td>\n",
       "      <td>0.070307</td>\n",
       "    </tr>\n",
       "    <tr>\n",
       "      <th>US</th>\n",
       "      <th>period3</th>\n",
       "      <td>0.794913</td>\n",
       "      <td>0.114970</td>\n",
       "      <td>0.090118</td>\n",
       "    </tr>\n",
       "    <tr>\n",
       "      <th>NZ</th>\n",
       "      <th>period3</th>\n",
       "      <td>0.823028</td>\n",
       "      <td>0.119264</td>\n",
       "      <td>0.057708</td>\n",
       "    </tr>\n",
       "    <tr>\n",
       "      <th>TR</th>\n",
       "      <th>period1</th>\n",
       "      <td>0.840603</td>\n",
       "      <td>0.040370</td>\n",
       "      <td>0.119028</td>\n",
       "    </tr>\n",
       "    <tr>\n",
       "      <th>RU</th>\n",
       "      <th>period1</th>\n",
       "      <td>0.847096</td>\n",
       "      <td>0.093072</td>\n",
       "      <td>0.059832</td>\n",
       "    </tr>\n",
       "  </tbody>\n",
       "</table>\n",
       "</div>"
      ],
      "text/plain": [
       "                    found  suspended  not found\n",
       "country period                                 \n",
       "US      period1  0.744246   0.179068   0.076686\n",
       "BR      period1  0.749874   0.031926   0.218201\n",
       "US      period2  0.765548   0.143458   0.090994\n",
       "EC      period3  0.765871   0.077154   0.156974\n",
       "        period2  0.790722   0.082543   0.126736\n",
       "NZ      period2  0.794198   0.135495   0.070307\n",
       "US      period3  0.794913   0.114970   0.090118\n",
       "NZ      period3  0.823028   0.119264   0.057708\n",
       "TR      period1  0.840603   0.040370   0.119028\n",
       "RU      period1  0.847096   0.093072   0.059832"
      ]
     },
     "execution_count": 63,
     "metadata": {},
     "output_type": "execute_result"
    }
   ],
   "source": [
    "status_countries.apply(lambda x: x / x.sum(), axis = 1).sort_values(\"found\").head(10)"
   ]
  },
  {
   "cell_type": "markdown",
   "metadata": {},
   "source": [
    "#### Proportion account status per period\n",
    "Plot in a single figure the proportion of found, not found, suspended accounts, per period."
   ]
  },
  {
   "cell_type": "code",
   "execution_count": 67,
   "metadata": {
    "collapsed": true
   },
   "outputs": [
    {
     "data": {
      "text/html": [
       "<div>\n",
       "<style scoped>\n",
       "    .dataframe tbody tr th:only-of-type {\n",
       "        vertical-align: middle;\n",
       "    }\n",
       "\n",
       "    .dataframe tbody tr th {\n",
       "        vertical-align: top;\n",
       "    }\n",
       "\n",
       "    .dataframe thead th {\n",
       "        text-align: right;\n",
       "    }\n",
       "</style>\n",
       "<table border=\"1\" class=\"dataframe\">\n",
       "  <thead>\n",
       "    <tr style=\"text-align: right;\">\n",
       "      <th></th>\n",
       "      <th>found</th>\n",
       "      <th>suspended</th>\n",
       "      <th>not found</th>\n",
       "    </tr>\n",
       "    <tr>\n",
       "      <th>period</th>\n",
       "      <th></th>\n",
       "      <th></th>\n",
       "      <th></th>\n",
       "    </tr>\n",
       "  </thead>\n",
       "  <tbody>\n",
       "    <tr>\n",
       "      <th>period1</th>\n",
       "      <td>0.863654</td>\n",
       "      <td>0.036992</td>\n",
       "      <td>0.099353</td>\n",
       "    </tr>\n",
       "    <tr>\n",
       "      <th>period2</th>\n",
       "      <td>0.880996</td>\n",
       "      <td>0.042035</td>\n",
       "      <td>0.076970</td>\n",
       "    </tr>\n",
       "    <tr>\n",
       "      <th>period3</th>\n",
       "      <td>0.888443</td>\n",
       "      <td>0.038263</td>\n",
       "      <td>0.073294</td>\n",
       "    </tr>\n",
       "    <tr>\n",
       "      <th>period4</th>\n",
       "      <td>0.916513</td>\n",
       "      <td>0.022205</td>\n",
       "      <td>0.061282</td>\n",
       "    </tr>\n",
       "  </tbody>\n",
       "</table>\n",
       "</div>"
      ],
      "text/plain": [
       "            found  suspended  not found\n",
       "period                                 \n",
       "period1  0.863654   0.036992   0.099353\n",
       "period2  0.880996   0.042035   0.076970\n",
       "period3  0.888443   0.038263   0.073294\n",
       "period4  0.916513   0.022205   0.061282"
      ]
     },
     "execution_count": 67,
     "metadata": {},
     "output_type": "execute_result"
    }
   ],
   "source": [
    "status_countries.groupby(\"period\").sum().apply(lambda x: x / x.sum(), axis = 1).sort_values(\"found\")"
   ]
  },
  {
   "cell_type": "code",
   "execution_count": 115,
   "metadata": {},
   "outputs": [
    {
     "data": {
      "text/plain": [
       "(array([0. , 0.2, 0.4, 0.6, 0.8, 1. , 1.2]),\n",
       " [Text(0, 0, ''),\n",
       "  Text(0, 0, ''),\n",
       "  Text(0, 0, ''),\n",
       "  Text(0, 0, ''),\n",
       "  Text(0, 0, ''),\n",
       "  Text(0, 0, ''),\n",
       "  Text(0, 0, '')])"
      ]
     },
     "execution_count": 115,
     "metadata": {},
     "output_type": "execute_result"
    },
    {
     "data": {
      "image/png": "[encoded data removed]",
      "text/plain": [
       "<Figure size 432x432 with 1 Axes>"
      ]
     },
     "metadata": {
      "needs_background": "light"
     },
     "output_type": "display_data"
    }
   ],
   "source": [
    "fig, axes = plt.subplots(1,1, figsize = [6, 6])\n",
    "\n",
    "df = status_countries.groupby(\"period\").sum().apply(lambda x: x / x.sum(), axis = 1) \\\n",
    ".stack().reset_index().rename(columns = {\"level_1\": \"status\", 0: \"proportion\"})\n",
    "sns.histplot(data = df, x = \"period\", weights = \"proportion\", hue = \"status\", multiple = \"stack\", \n",
    "             hue_order = [\"suspended\", \"not found\", \"found\"])\n",
    "\n",
    "axes.set_ylabel(\"Users Proportion\", fontsize = 20)\n",
    "axes.set_xlabel(\"\", fontsize = 20)\n",
    "\n",
    "plt.rc(\"legend\", fontsize = 20)\n",
    "legend = axes.get_legend()\n",
    "legend.set_title(\"\")\n",
    "legend.set_bbox_to_anchor((1, 1))\n",
    "\n",
    "plt.xticks(fontsize = 15)\n",
    "plt.yticks(fontsize = 17)"
   ]
  },
  {
   "cell_type": "markdown",
   "metadata": {},
   "source": [
    "Proportion of suspended/not found accounts is decreasing, because the older ones had more time to be suspended"
   ]
  },
  {
   "cell_type": "markdown",
   "metadata": {},
   "source": [
    "#### Proportion account status per country\n",
    "Same plot by country, instead of by period."
   ]
  },
  {
   "cell_type": "code",
   "execution_count": 66,
   "metadata": {
    "collapsed": true
   },
   "outputs": [
    {
     "data": {
      "text/html": [
       "<div>\n",
       "<style scoped>\n",
       "    .dataframe tbody tr th:only-of-type {\n",
       "        vertical-align: middle;\n",
       "    }\n",
       "\n",
       "    .dataframe tbody tr th {\n",
       "        vertical-align: top;\n",
       "    }\n",
       "\n",
       "    .dataframe thead th {\n",
       "        text-align: right;\n",
       "    }\n",
       "</style>\n",
       "<table border=\"1\" class=\"dataframe\">\n",
       "  <thead>\n",
       "    <tr style=\"text-align: right;\">\n",
       "      <th></th>\n",
       "      <th>found</th>\n",
       "      <th>suspended</th>\n",
       "      <th>not found</th>\n",
       "    </tr>\n",
       "    <tr>\n",
       "      <th>country</th>\n",
       "      <th></th>\n",
       "      <th></th>\n",
       "      <th></th>\n",
       "    </tr>\n",
       "  </thead>\n",
       "  <tbody>\n",
       "    <tr>\n",
       "      <th>EC</th>\n",
       "      <td>0.827609</td>\n",
       "      <td>0.052185</td>\n",
       "      <td>0.120206</td>\n",
       "    </tr>\n",
       "    <tr>\n",
       "      <th>US</th>\n",
       "      <td>0.828375</td>\n",
       "      <td>0.096738</td>\n",
       "      <td>0.074887</td>\n",
       "    </tr>\n",
       "    <tr>\n",
       "      <th>BR</th>\n",
       "      <td>0.853200</td>\n",
       "      <td>0.027667</td>\n",
       "      <td>0.119133</td>\n",
       "    </tr>\n",
       "    <tr>\n",
       "      <th>TR</th>\n",
       "      <td>0.854464</td>\n",
       "      <td>0.037326</td>\n",
       "      <td>0.108211</td>\n",
       "    </tr>\n",
       "    <tr>\n",
       "      <th>NZ</th>\n",
       "      <td>0.858360</td>\n",
       "      <td>0.077017</td>\n",
       "      <td>0.064622</td>\n",
       "    </tr>\n",
       "    <tr>\n",
       "      <th>PT</th>\n",
       "      <td>0.880109</td>\n",
       "      <td>0.008661</td>\n",
       "      <td>0.111230</td>\n",
       "    </tr>\n",
       "    <tr>\n",
       "      <th>RU</th>\n",
       "      <td>0.889842</td>\n",
       "      <td>0.056044</td>\n",
       "      <td>0.054115</td>\n",
       "    </tr>\n",
       "    <tr>\n",
       "      <th>FR</th>\n",
       "      <td>0.891936</td>\n",
       "      <td>0.018700</td>\n",
       "      <td>0.089363</td>\n",
       "    </tr>\n",
       "    <tr>\n",
       "      <th>VE</th>\n",
       "      <td>0.901960</td>\n",
       "      <td>0.063806</td>\n",
       "      <td>0.034234</td>\n",
       "    </tr>\n",
       "    <tr>\n",
       "      <th>AU</th>\n",
       "      <td>0.903884</td>\n",
       "      <td>0.039406</td>\n",
       "      <td>0.056710</td>\n",
       "    </tr>\n",
       "    <tr>\n",
       "      <th>NL</th>\n",
       "      <td>0.908667</td>\n",
       "      <td>0.025418</td>\n",
       "      <td>0.065915</td>\n",
       "    </tr>\n",
       "    <tr>\n",
       "      <th>CA</th>\n",
       "      <td>0.910904</td>\n",
       "      <td>0.027696</td>\n",
       "      <td>0.061400</td>\n",
       "    </tr>\n",
       "    <tr>\n",
       "      <th>CU</th>\n",
       "      <td>0.912509</td>\n",
       "      <td>0.051981</td>\n",
       "      <td>0.035511</td>\n",
       "    </tr>\n",
       "    <tr>\n",
       "      <th>GB</th>\n",
       "      <td>0.912557</td>\n",
       "      <td>0.027870</td>\n",
       "      <td>0.059572</td>\n",
       "    </tr>\n",
       "    <tr>\n",
       "      <th>PL</th>\n",
       "      <td>0.914763</td>\n",
       "      <td>0.019765</td>\n",
       "      <td>0.065472</td>\n",
       "    </tr>\n",
       "    <tr>\n",
       "      <th>UY</th>\n",
       "      <td>0.914860</td>\n",
       "      <td>0.008524</td>\n",
       "      <td>0.076616</td>\n",
       "    </tr>\n",
       "    <tr>\n",
       "      <th>DE</th>\n",
       "      <td>0.915128</td>\n",
       "      <td>0.019349</td>\n",
       "      <td>0.065523</td>\n",
       "    </tr>\n",
       "    <tr>\n",
       "      <th>PE</th>\n",
       "      <td>0.917489</td>\n",
       "      <td>0.012353</td>\n",
       "      <td>0.070158</td>\n",
       "    </tr>\n",
       "    <tr>\n",
       "      <th>CO</th>\n",
       "      <td>0.918332</td>\n",
       "      <td>0.010711</td>\n",
       "      <td>0.070957</td>\n",
       "    </tr>\n",
       "    <tr>\n",
       "      <th>CL</th>\n",
       "      <td>0.918573</td>\n",
       "      <td>0.009980</td>\n",
       "      <td>0.071447</td>\n",
       "    </tr>\n",
       "    <tr>\n",
       "      <th>AR</th>\n",
       "      <td>0.919469</td>\n",
       "      <td>0.011980</td>\n",
       "      <td>0.068551</td>\n",
       "    </tr>\n",
       "    <tr>\n",
       "      <th>GR</th>\n",
       "      <td>0.920683</td>\n",
       "      <td>0.010294</td>\n",
       "      <td>0.069023</td>\n",
       "    </tr>\n",
       "    <tr>\n",
       "      <th>IT</th>\n",
       "      <td>0.922045</td>\n",
       "      <td>0.021033</td>\n",
       "      <td>0.056922</td>\n",
       "    </tr>\n",
       "    <tr>\n",
       "      <th>PA</th>\n",
       "      <td>0.924316</td>\n",
       "      <td>0.007039</td>\n",
       "      <td>0.068645</td>\n",
       "    </tr>\n",
       "    <tr>\n",
       "      <th>IE</th>\n",
       "      <td>0.926186</td>\n",
       "      <td>0.013631</td>\n",
       "      <td>0.060183</td>\n",
       "    </tr>\n",
       "    <tr>\n",
       "      <th>ES</th>\n",
       "      <td>0.929065</td>\n",
       "      <td>0.011953</td>\n",
       "      <td>0.058982</td>\n",
       "    </tr>\n",
       "    <tr>\n",
       "      <th>MX</th>\n",
       "      <td>0.930150</td>\n",
       "      <td>0.018533</td>\n",
       "      <td>0.051317</td>\n",
       "    </tr>\n",
       "    <tr>\n",
       "      <th>PY</th>\n",
       "      <td>0.931670</td>\n",
       "      <td>0.006383</td>\n",
       "      <td>0.061947</td>\n",
       "    </tr>\n",
       "  </tbody>\n",
       "</table>\n",
       "</div>"
      ],
      "text/plain": [
       "            found  suspended  not found\n",
       "country                                \n",
       "EC       0.827609   0.052185   0.120206\n",
       "US       0.828375   0.096738   0.074887\n",
       "BR       0.853200   0.027667   0.119133\n",
       "TR       0.854464   0.037326   0.108211\n",
       "NZ       0.858360   0.077017   0.064622\n",
       "PT       0.880109   0.008661   0.111230\n",
       "RU       0.889842   0.056044   0.054115\n",
       "FR       0.891936   0.018700   0.089363\n",
       "VE       0.901960   0.063806   0.034234\n",
       "AU       0.903884   0.039406   0.056710\n",
       "NL       0.908667   0.025418   0.065915\n",
       "CA       0.910904   0.027696   0.061400\n",
       "CU       0.912509   0.051981   0.035511\n",
       "GB       0.912557   0.027870   0.059572\n",
       "PL       0.914763   0.019765   0.065472\n",
       "UY       0.914860   0.008524   0.076616\n",
       "DE       0.915128   0.019349   0.065523\n",
       "PE       0.917489   0.012353   0.070158\n",
       "CO       0.918332   0.010711   0.070957\n",
       "CL       0.918573   0.009980   0.071447\n",
       "AR       0.919469   0.011980   0.068551\n",
       "GR       0.920683   0.010294   0.069023\n",
       "IT       0.922045   0.021033   0.056922\n",
       "PA       0.924316   0.007039   0.068645\n",
       "IE       0.926186   0.013631   0.060183\n",
       "ES       0.929065   0.011953   0.058982\n",
       "MX       0.930150   0.018533   0.051317\n",
       "PY       0.931670   0.006383   0.061947"
      ]
     },
     "execution_count": 66,
     "metadata": {},
     "output_type": "execute_result"
    }
   ],
   "source": [
    "status_countries.groupby(\"country\").sum().apply(lambda x: x / x.sum(), axis = 1).sort_values(\"found\")"
   ]
  },
  {
   "cell_type": "code",
   "execution_count": 108,
   "metadata": {},
   "outputs": [
    {
     "data": {
      "text/plain": [
       "(array([0. , 0.2, 0.4, 0.6, 0.8, 1. , 1.2]),\n",
       " [Text(0, 0, ''),\n",
       "  Text(0, 0, ''),\n",
       "  Text(0, 0, ''),\n",
       "  Text(0, 0, ''),\n",
       "  Text(0, 0, ''),\n",
       "  Text(0, 0, ''),\n",
       "  Text(0, 0, '')])"
      ]
     },
     "execution_count": 108,
     "metadata": {},
     "output_type": "execute_result"
    },
    {
     "data": {
      "image/png": "[encoded data removed]",
      "text/plain": [
       "<Figure size 864x360 with 1 Axes>"
      ]
     },
     "metadata": {
      "needs_background": "light"
     },
     "output_type": "display_data"
    }
   ],
   "source": [
    "fig, axes = plt.subplots(1,1, figsize = [12, 5])\n",
    "\n",
    "df = status_countries.groupby(\"country\").sum().apply(lambda x: x / x.sum(), axis = 1) \\\n",
    ".sort_values(\"suspended\", ascending = False).stack().reset_index().rename(columns = {\"level_1\": \"status\", 0: \"proportion\"})\n",
    "sns.histplot(data = df, x = \"country\", weights = \"proportion\", hue = \"status\", multiple = \"stack\", \n",
    "             hue_order = [\"suspended\", \"not found\", \"found\"])\n",
    "\n",
    "axes.set_ylabel(\"Users Proportion\", fontsize = 20)\n",
    "axes.set_xlabel(\"\", fontsize = 20)\n",
    "\n",
    "plt.rc(\"legend\", fontsize = 20)\n",
    "legend = axes.get_legend()\n",
    "legend.set_title(\"\")\n",
    "legend.set_bbox_to_anchor((1, 1))\n",
    "\n",
    "plt.xticks(fontsize = 15)\n",
    "plt.yticks(fontsize = 17)"
   ]
  },
  {
   "cell_type": "code",
   "execution_count": 74,
   "metadata": {},
   "outputs": [
    {
     "data": {
      "text/html": [
       "<div>\n",
       "<style scoped>\n",
       "    .dataframe tbody tr th:only-of-type {\n",
       "        vertical-align: middle;\n",
       "    }\n",
       "\n",
       "    .dataframe tbody tr th {\n",
       "        vertical-align: top;\n",
       "    }\n",
       "\n",
       "    .dataframe thead th {\n",
       "        text-align: right;\n",
       "    }\n",
       "</style>\n",
       "<table border=\"1\" class=\"dataframe\">\n",
       "  <thead>\n",
       "    <tr style=\"text-align: right;\">\n",
       "      <th></th>\n",
       "      <th>country</th>\n",
       "      <th>status</th>\n",
       "      <th>proportion</th>\n",
       "    </tr>\n",
       "  </thead>\n",
       "  <tbody>\n",
       "    <tr>\n",
       "      <th>0</th>\n",
       "      <td>EC</td>\n",
       "      <td>found</td>\n",
       "      <td>0.827609</td>\n",
       "    </tr>\n",
       "    <tr>\n",
       "      <th>1</th>\n",
       "      <td>EC</td>\n",
       "      <td>suspended</td>\n",
       "      <td>0.052185</td>\n",
       "    </tr>\n",
       "    <tr>\n",
       "      <th>2</th>\n",
       "      <td>EC</td>\n",
       "      <td>not found</td>\n",
       "      <td>0.120206</td>\n",
       "    </tr>\n",
       "    <tr>\n",
       "      <th>3</th>\n",
       "      <td>US</td>\n",
       "      <td>found</td>\n",
       "      <td>0.828375</td>\n",
       "    </tr>\n",
       "    <tr>\n",
       "      <th>4</th>\n",
       "      <td>US</td>\n",
       "      <td>suspended</td>\n",
       "      <td>0.096738</td>\n",
       "    </tr>\n",
       "    <tr>\n",
       "      <th>...</th>\n",
       "      <td>...</td>\n",
       "      <td>...</td>\n",
       "      <td>...</td>\n",
       "    </tr>\n",
       "    <tr>\n",
       "      <th>79</th>\n",
       "      <td>MX</td>\n",
       "      <td>suspended</td>\n",
       "      <td>0.018533</td>\n",
       "    </tr>\n",
       "    <tr>\n",
       "      <th>80</th>\n",
       "      <td>MX</td>\n",
       "      <td>not found</td>\n",
       "      <td>0.051317</td>\n",
       "    </tr>\n",
       "    <tr>\n",
       "      <th>81</th>\n",
       "      <td>PY</td>\n",
       "      <td>found</td>\n",
       "      <td>0.931670</td>\n",
       "    </tr>\n",
       "    <tr>\n",
       "      <th>82</th>\n",
       "      <td>PY</td>\n",
       "      <td>suspended</td>\n",
       "      <td>0.006383</td>\n",
       "    </tr>\n",
       "    <tr>\n",
       "      <th>83</th>\n",
       "      <td>PY</td>\n",
       "      <td>not found</td>\n",
       "      <td>0.061947</td>\n",
       "    </tr>\n",
       "  </tbody>\n",
       "</table>\n",
       "<p>84 rows × 3 columns</p>\n",
       "</div>"
      ],
      "text/plain": [
       "   country     status  proportion\n",
       "0       EC      found    0.827609\n",
       "1       EC  suspended    0.052185\n",
       "2       EC  not found    0.120206\n",
       "3       US      found    0.828375\n",
       "4       US  suspended    0.096738\n",
       "..     ...        ...         ...\n",
       "79      MX  suspended    0.018533\n",
       "80      MX  not found    0.051317\n",
       "81      PY      found    0.931670\n",
       "82      PY  suspended    0.006383\n",
       "83      PY  not found    0.061947\n",
       "\n",
       "[84 rows x 3 columns]"
      ]
     },
     "execution_count": 74,
     "metadata": {},
     "output_type": "execute_result"
    }
   ],
   "source": [
    "status_countries.groupby(\"country\").sum().apply(lambda x: x / x.sum(), axis = 1) \\\n",
    ".sort_values(\"found\").stack().reset_index().rename(columns = {\"level_1\": \"status\", 0: \"proportion\"})"
   ]
  },
  {
   "cell_type": "markdown",
   "metadata": {},
   "source": [
    "### Suspended Accounts and NoVax Communities\n",
    "Let us compare the proportion of suspended accounts in novax communities and rest of the networks."
   ]
  },
  {
   "cell_type": "code",
   "execution_count": 123,
   "metadata": {},
   "outputs": [],
   "source": [
    "#transform the dataframe containing novax communities [(country, period, community), (country, period, community)]\n",
    "#in a dataframe [(country, period, (list of communities))]\n",
    "novax_coms_list = novax_com.assign(period = lambda x: [\"period\" + str(u) for u in x[\"period\"]]).groupby([\"country\", \"period\"]).apply(lambda x: list(x[\"community\"]))"
   ]
  },
  {
   "cell_type": "code",
   "execution_count": 328,
   "metadata": {},
   "outputs": [],
   "source": [
    "novax_status_count = []\n",
    "#for each period having a novax community I extract users and their labelling\n",
    "for _, (country, period, coms) in novax_coms_list.reset_index().iterrows():\n",
    "    #dataframe with users and communities\n",
    "    #and label 'novax' the ones in a novax community\n",
    "    users = read_data(period, country, \"com\", \"RT\") \\\n",
    "    .assign(novax = lambda x: x[\"community\"].isin([int(u) for u in coms]))\n",
    "    #merge information about users communities with their status, to compare the membership to a novax community\n",
    "    #with their suspension\n",
    "    #and count the found/not found/suspended users per period, per country, per label\n",
    "    novax_status_count.append(users.merge(accounts_status, left_on = \"user\",\n",
    "                                          right_on = \"user_screen_name\")[[\"novax\", \"status\"]].value_counts() \\\n",
    "                              .reset_index().rename(columns = {0: \"users\"}).assign(period = period, country = country))"
   ]
  },
  {
   "cell_type": "code",
   "execution_count": 329,
   "metadata": {},
   "outputs": [
    {
     "data": {
      "text/html": [
       "<div>\n",
       "<style scoped>\n",
       "    .dataframe tbody tr th:only-of-type {\n",
       "        vertical-align: middle;\n",
       "    }\n",
       "\n",
       "    .dataframe tbody tr th {\n",
       "        vertical-align: top;\n",
       "    }\n",
       "\n",
       "    .dataframe thead th {\n",
       "        text-align: right;\n",
       "    }\n",
       "</style>\n",
       "<table border=\"1\" class=\"dataframe\">\n",
       "  <thead>\n",
       "    <tr style=\"text-align: right;\">\n",
       "      <th></th>\n",
       "      <th>novax</th>\n",
       "      <th>status</th>\n",
       "      <th>users</th>\n",
       "      <th>period</th>\n",
       "      <th>country</th>\n",
       "    </tr>\n",
       "  </thead>\n",
       "  <tbody>\n",
       "    <tr>\n",
       "      <th>0</th>\n",
       "      <td>False</td>\n",
       "      <td>found</td>\n",
       "      <td>9903</td>\n",
       "      <td>period1</td>\n",
       "      <td>AU</td>\n",
       "    </tr>\n",
       "    <tr>\n",
       "      <th>1</th>\n",
       "      <td>False</td>\n",
       "      <td>not found</td>\n",
       "      <td>483</td>\n",
       "      <td>period1</td>\n",
       "      <td>AU</td>\n",
       "    </tr>\n",
       "    <tr>\n",
       "      <th>2</th>\n",
       "      <td>True</td>\n",
       "      <td>found</td>\n",
       "      <td>271</td>\n",
       "      <td>period1</td>\n",
       "      <td>AU</td>\n",
       "    </tr>\n",
       "    <tr>\n",
       "      <th>3</th>\n",
       "      <td>False</td>\n",
       "      <td>suspended</td>\n",
       "      <td>156</td>\n",
       "      <td>period1</td>\n",
       "      <td>AU</td>\n",
       "    </tr>\n",
       "    <tr>\n",
       "      <th>4</th>\n",
       "      <td>True</td>\n",
       "      <td>suspended</td>\n",
       "      <td>127</td>\n",
       "      <td>period1</td>\n",
       "      <td>AU</td>\n",
       "    </tr>\n",
       "  </tbody>\n",
       "</table>\n",
       "</div>"
      ],
      "text/plain": [
       "   novax     status  users   period country\n",
       "0  False      found   9903  period1      AU\n",
       "1  False  not found    483  period1      AU\n",
       "2   True      found    271  period1      AU\n",
       "3  False  suspended    156  period1      AU\n",
       "4   True  suspended    127  period1      AU"
      ]
     },
     "execution_count": 329,
     "metadata": {},
     "output_type": "execute_result"
    }
   ],
   "source": [
    "novax_status = pd.concat(novax_status_count)\n",
    "novax_status.head()"
   ]
  },
  {
   "cell_type": "code",
   "execution_count": 331,
   "metadata": {},
   "outputs": [
    {
     "data": {
      "text/html": [
       "<div>\n",
       "<style scoped>\n",
       "    .dataframe tbody tr th:only-of-type {\n",
       "        vertical-align: middle;\n",
       "    }\n",
       "\n",
       "    .dataframe tbody tr th {\n",
       "        vertical-align: top;\n",
       "    }\n",
       "\n",
       "    .dataframe thead tr th {\n",
       "        text-align: left;\n",
       "    }\n",
       "\n",
       "    .dataframe thead tr:last-of-type th {\n",
       "        text-align: right;\n",
       "    }\n",
       "</style>\n",
       "<table border=\"1\" class=\"dataframe\">\n",
       "  <thead>\n",
       "    <tr>\n",
       "      <th></th>\n",
       "      <th></th>\n",
       "      <th colspan=\"3\" halign=\"left\">users</th>\n",
       "    </tr>\n",
       "    <tr>\n",
       "      <th></th>\n",
       "      <th>status</th>\n",
       "      <th>found</th>\n",
       "      <th>not found</th>\n",
       "      <th>suspended</th>\n",
       "    </tr>\n",
       "    <tr>\n",
       "      <th>period</th>\n",
       "      <th>novax</th>\n",
       "      <th></th>\n",
       "      <th></th>\n",
       "      <th></th>\n",
       "    </tr>\n",
       "  </thead>\n",
       "  <tbody>\n",
       "    <tr>\n",
       "      <th rowspan=\"2\" valign=\"top\">period1</th>\n",
       "      <th>False</th>\n",
       "      <td>0.930619</td>\n",
       "      <td>0.052513</td>\n",
       "      <td>0.016868</td>\n",
       "    </tr>\n",
       "    <tr>\n",
       "      <th>True</th>\n",
       "      <td>0.661585</td>\n",
       "      <td>0.104233</td>\n",
       "      <td>0.234182</td>\n",
       "    </tr>\n",
       "    <tr>\n",
       "      <th rowspan=\"2\" valign=\"top\">period2</th>\n",
       "      <th>False</th>\n",
       "      <td>0.919791</td>\n",
       "      <td>0.065198</td>\n",
       "      <td>0.015011</td>\n",
       "    </tr>\n",
       "    <tr>\n",
       "      <th>True</th>\n",
       "      <td>0.757335</td>\n",
       "      <td>0.108961</td>\n",
       "      <td>0.133704</td>\n",
       "    </tr>\n",
       "    <tr>\n",
       "      <th rowspan=\"2\" valign=\"top\">period3</th>\n",
       "      <th>False</th>\n",
       "      <td>0.923330</td>\n",
       "      <td>0.063232</td>\n",
       "      <td>0.013437</td>\n",
       "    </tr>\n",
       "    <tr>\n",
       "      <th>True</th>\n",
       "      <td>0.765656</td>\n",
       "      <td>0.109707</td>\n",
       "      <td>0.124638</td>\n",
       "    </tr>\n",
       "    <tr>\n",
       "      <th rowspan=\"2\" valign=\"top\">period4</th>\n",
       "      <th>False</th>\n",
       "      <td>0.942626</td>\n",
       "      <td>0.049633</td>\n",
       "      <td>0.007741</td>\n",
       "    </tr>\n",
       "    <tr>\n",
       "      <th>True</th>\n",
       "      <td>0.864490</td>\n",
       "      <td>0.080129</td>\n",
       "      <td>0.055381</td>\n",
       "    </tr>\n",
       "  </tbody>\n",
       "</table>\n",
       "</div>"
      ],
      "text/plain": [
       "                  users                    \n",
       "status            found not found suspended\n",
       "period  novax                              \n",
       "period1 False  0.930619  0.052513  0.016868\n",
       "        True   0.661585  0.104233  0.234182\n",
       "period2 False  0.919791  0.065198  0.015011\n",
       "        True   0.757335  0.108961  0.133704\n",
       "period3 False  0.923330  0.063232  0.013437\n",
       "        True   0.765656  0.109707  0.124638\n",
       "period4 False  0.942626  0.049633  0.007741\n",
       "        True   0.864490  0.080129  0.055381"
      ]
     },
     "execution_count": 331,
     "metadata": {},
     "output_type": "execute_result"
    }
   ],
   "source": [
    "#sum all the found/not found/suspended users in the same period and check the proportion\n",
    "df = novax_status.groupby([\"period\", \"novax\", \"status\"]).sum() \\\n",
    ".unstack().apply(lambda x: x / x.sum(), axis = 1)\n",
    "df"
   ]
  },
  {
   "cell_type": "code",
   "execution_count": 344,
   "metadata": {
    "scrolled": false
   },
   "outputs": [
    {
     "data": {
      "image/png": "[encoded data removed]",
      "text/plain": [
       "<Figure size 576x1080 with 8 Axes>"
      ]
     },
     "metadata": {},
     "output_type": "display_data"
    }
   ],
   "source": [
    "fig, axes = plt.subplots(4, 2, figsize = [8, 15])\n",
    "\n",
    "#int(k) / 2 for k in range(8) is [0,0,1,1,2,2,3,3] is the y coordinate for the plot\n",
    "#k % 2 == 0 for k in range(8) is [True, False, True, False, True, False, True, False] is the x coordinate\n",
    "for k in range(8):\n",
    "    ax, period, novax = axes.ravel()[k], periods[int(k / 2)], k % 2 == 0\n",
    "    #create a piechart considering the given period/label \n",
    "    ax.pie(x = df.loc[(period, novax), \"users\"][[\"suspended\", \"not found\", \"found\"]])\n",
    "    if novax:\n",
    "        side = \"NoVax\"\n",
    "    else:\n",
    "        side = \"Other\"\n",
    "    ax.set_title(side + \" - \" + period, fontsize = 18)\n",
    "    #define the colors (the same as before)\n",
    "    cols = sns.color_palette(\"tab10\")[:3]\n",
    "    #define the patches for the legend\n",
    "    l1 = mpatches.Patch(color = cols[0], label = \"suspended\")\n",
    "    l2 = mpatches.Patch(color = cols[1], label = \"not found\")\n",
    "    l3 = mpatches.Patch(color = cols[2], label = \"found\")\n",
    "    #define manually the legend and put it outside the plots\n",
    "    plt.legend(handles=[l1, l2, l3], bbox_to_anchor = (2.5, 4.5))\n"
   ]
  },
  {
   "cell_type": "markdown",
   "metadata": {},
   "source": [
    "## When they have been suspended?\n",
    "For each suspended account that we have I check when did he posted a tweet or he has been retweeted for last time in our dataset."
   ]
  },
  {
   "cell_type": "code",
   "execution_count": null,
   "metadata": {},
   "outputs": [],
   "source": [
    "#pandas Series of all suspended accounts\n",
    "suspended_accounts_mar_df = pd.concat([pd.read_csv(file).assign(lang = file.split(\"_\")[2], country = file.split(\"_\")[1][-2:]) \n",
    "                                for file in sorted(glob(\"/\".join([folder, \"*\", \"*status*\"])))]) \\\n",
    ".query(\"status == 'suspended'\")\n",
    "#corresponding set to deduplicate them\n",
    "suspended_accounts_mar = set(suspended_accounts_mar_df[\"user_screen_name\"].tolist())\n",
    "#dictionary with keys day\n",
    "#starting from last day, for each day I store all the users in suspended_accounts_mar\n",
    "#and remove them from suspended_accounts_mar\n",
    "#in this way, I am storing only the users that are appearing for last time\n",
    "last_day_mar = {u: set() for u in set(files_df.query(\"day < '20210401'\")[\"day\"])}\n",
    "\n",
    "for _, (file, day) in files_df.query(\"day < '20210401'\").iterrows():\n",
    "    #set of users that tweeted or have been retweeted that day\n",
    "    users = set(pd.read_csv(file, sep = \"\\t\", lineterminator = \"\\n\",\n",
    "                            low_memory = False, quoting = False,\n",
    "                            escapechar = None)[[\"user_screen_name\", \"RT_user_screen_name\"]].stack().tolist())\n",
    "    #I add at last_day_mar[day] all the users appearing that day and that have been suspended\n",
    "    last_day_mar[day] = last_day_mar[day] | (users & suspended_accounts_mar)\n",
    "    #remove from the set all the users that have appeared that day\n",
    "    suspended_accounts_mar = suspended_accounts_mar - users"
   ]
  },
  {
   "cell_type": "code",
   "execution_count": null,
   "metadata": {},
   "outputs": [],
   "source": [
    "#create a dataframe with columns day (that is the day extracted from file name, i.e. 2021-01-01 from 20210101filename) \n",
    "#and users, that is the list of suspended accounts that have posted their last tweet that day\n",
    "suspended_users_date_mar = pd.Series(last_day_mar).reset_index().sort_values(\"index\") \\\n",
    ".rename(columns = {0: \"users\"}).assign(number_users = lambda x: [len(u) for u in x[\"users\"]]) \\\n",
    ".assign(date = lambda x: pd.to_datetime(x[\"index\"] \\\n",
    "                                        .apply(lambda s: \"-\".join([s[:4], s[4:6], s[6:]])))) \\\n",
    ".replace({0 : np.nan})"
   ]
  },
  {
   "cell_type": "code",
   "execution_count": 235,
   "metadata": {},
   "outputs": [
    {
     "data": {
      "text/html": [
       "<div>\n",
       "<style scoped>\n",
       "    .dataframe tbody tr th:only-of-type {\n",
       "        vertical-align: middle;\n",
       "    }\n",
       "\n",
       "    .dataframe tbody tr th {\n",
       "        vertical-align: top;\n",
       "    }\n",
       "\n",
       "    .dataframe thead th {\n",
       "        text-align: right;\n",
       "    }\n",
       "</style>\n",
       "<table border=\"1\" class=\"dataframe\">\n",
       "  <thead>\n",
       "    <tr style=\"text-align: right;\">\n",
       "      <th></th>\n",
       "      <th>index</th>\n",
       "      <th>users</th>\n",
       "      <th>number_users</th>\n",
       "      <th>date</th>\n",
       "      <th>status</th>\n",
       "      <th>lang</th>\n",
       "      <th>country</th>\n",
       "    </tr>\n",
       "  </thead>\n",
       "  <tbody>\n",
       "    <tr>\n",
       "      <th>0</th>\n",
       "      <td>20191001</td>\n",
       "      <td>fikrihur1453</td>\n",
       "      <td>32.0</td>\n",
       "      <td>2019-10-01</td>\n",
       "      <td>suspended</td>\n",
       "      <td>tr</td>\n",
       "      <td>TR</td>\n",
       "    </tr>\n",
       "    <tr>\n",
       "      <th>1</th>\n",
       "      <td>20191001</td>\n",
       "      <td>diana_schlemin</td>\n",
       "      <td>32.0</td>\n",
       "      <td>2019-10-01</td>\n",
       "      <td>suspended</td>\n",
       "      <td>es</td>\n",
       "      <td>MX</td>\n",
       "    </tr>\n",
       "    <tr>\n",
       "      <th>2</th>\n",
       "      <td>20191001</td>\n",
       "      <td>calgary_spunky</td>\n",
       "      <td>32.0</td>\n",
       "      <td>2019-10-01</td>\n",
       "      <td>suspended</td>\n",
       "      <td>en</td>\n",
       "      <td>CA</td>\n",
       "    </tr>\n",
       "    <tr>\n",
       "      <th>3</th>\n",
       "      <td>20191001</td>\n",
       "      <td>Marianalobinho</td>\n",
       "      <td>32.0</td>\n",
       "      <td>2019-10-01</td>\n",
       "      <td>suspended</td>\n",
       "      <td>pt</td>\n",
       "      <td>BR</td>\n",
       "    </tr>\n",
       "    <tr>\n",
       "      <th>4</th>\n",
       "      <td>20191001</td>\n",
       "      <td>Bdglr_</td>\n",
       "      <td>32.0</td>\n",
       "      <td>2019-10-01</td>\n",
       "      <td>suspended</td>\n",
       "      <td>fr</td>\n",
       "      <td>FR</td>\n",
       "    </tr>\n",
       "    <tr>\n",
       "      <th>...</th>\n",
       "      <td>...</td>\n",
       "      <td>...</td>\n",
       "      <td>...</td>\n",
       "      <td>...</td>\n",
       "      <td>...</td>\n",
       "      <td>...</td>\n",
       "      <td>...</td>\n",
       "    </tr>\n",
       "    <tr>\n",
       "      <th>133510</th>\n",
       "      <td>20210331</td>\n",
       "      <td>Alejand26557780</td>\n",
       "      <td>7301.0</td>\n",
       "      <td>2021-03-31</td>\n",
       "      <td>suspended</td>\n",
       "      <td>es</td>\n",
       "      <td>VE</td>\n",
       "    </tr>\n",
       "    <tr>\n",
       "      <th>133511</th>\n",
       "      <td>20210331</td>\n",
       "      <td>Alejand26557780</td>\n",
       "      <td>7301.0</td>\n",
       "      <td>2021-03-31</td>\n",
       "      <td>suspended</td>\n",
       "      <td>es</td>\n",
       "      <td>VE</td>\n",
       "    </tr>\n",
       "    <tr>\n",
       "      <th>133512</th>\n",
       "      <td>20210331</td>\n",
       "      <td>Q_to_the_resQue</td>\n",
       "      <td>7301.0</td>\n",
       "      <td>2021-03-31</td>\n",
       "      <td>suspended</td>\n",
       "      <td>en</td>\n",
       "      <td>US</td>\n",
       "    </tr>\n",
       "    <tr>\n",
       "      <th>133513</th>\n",
       "      <td>20210331</td>\n",
       "      <td>WaltonirB</td>\n",
       "      <td>7301.0</td>\n",
       "      <td>2021-03-31</td>\n",
       "      <td>suspended</td>\n",
       "      <td>pt</td>\n",
       "      <td>BR</td>\n",
       "    </tr>\n",
       "    <tr>\n",
       "      <th>133514</th>\n",
       "      <td>20210331</td>\n",
       "      <td>rizdindebanane</td>\n",
       "      <td>7301.0</td>\n",
       "      <td>2021-03-31</td>\n",
       "      <td>suspended</td>\n",
       "      <td>fr</td>\n",
       "      <td>FR</td>\n",
       "    </tr>\n",
       "  </tbody>\n",
       "</table>\n",
       "<p>133515 rows × 7 columns</p>\n",
       "</div>"
      ],
      "text/plain": [
       "           index            users  number_users        date     status lang  \\\n",
       "0       20191001     fikrihur1453          32.0  2019-10-01  suspended   tr   \n",
       "1       20191001   diana_schlemin          32.0  2019-10-01  suspended   es   \n",
       "2       20191001   calgary_spunky          32.0  2019-10-01  suspended   en   \n",
       "3       20191001   Marianalobinho          32.0  2019-10-01  suspended   pt   \n",
       "4       20191001           Bdglr_          32.0  2019-10-01  suspended   fr   \n",
       "...          ...              ...           ...         ...        ...  ...   \n",
       "133510  20210331  Alejand26557780        7301.0  2021-03-31  suspended   es   \n",
       "133511  20210331  Alejand26557780        7301.0  2021-03-31  suspended   es   \n",
       "133512  20210331  Q_to_the_resQue        7301.0  2021-03-31  suspended   en   \n",
       "133513  20210331        WaltonirB        7301.0  2021-03-31  suspended   pt   \n",
       "133514  20210331   rizdindebanane        7301.0  2021-03-31  suspended   fr   \n",
       "\n",
       "       country  \n",
       "0           TR  \n",
       "1           MX  \n",
       "2           CA  \n",
       "3           BR  \n",
       "4           FR  \n",
       "...        ...  \n",
       "133510      VE  \n",
       "133511      VE  \n",
       "133512      US  \n",
       "133513      BR  \n",
       "133514      FR  \n",
       "\n",
       "[133515 rows x 7 columns]"
      ]
     },
     "execution_count": 235,
     "metadata": {},
     "output_type": "execute_result"
    }
   ],
   "source": [
    "last_tweet_country_mar = suspended_users_date_mar.explode(\"users\") \\\n",
    ".merge(suspended_accounts_df.rename(columns = {\"user_screen_name\": \"users\"}))\n",
    "#last_tweet_country_mar.to_csv(\"/home/jlenti/Files/last_tweet_suspaccounts_march_0404.csv\", index = False)\n",
    "last_tweet_country_mar"
   ]
  },
  {
   "cell_type": "code",
   "execution_count": 237,
   "metadata": {},
   "outputs": [],
   "source": [
    "#for each country and date count the number of suspended accounts having aljust posted last that day\n",
    "#to know when accounts have been suspended for each country\n",
    "countries_cumsum_df_mar = last_tweet_country_mar.groupby([\"date\", \"country\"]) \\\n",
    ".count()[\"users\"].unstack().fillna(0).cumsum()"
   ]
  },
  {
   "cell_type": "code",
   "execution_count": 252,
   "metadata": {},
   "outputs": [
    {
     "data": {
      "text/plain": [
       "Index(['US', 'VE', 'BR', 'GB', 'MX', 'FR', 'CA', 'EC', 'AR', 'TR', 'ES', 'AU',\n",
       "       'CO', 'DE', 'IT', 'RU', 'CL', 'NL', 'IE', 'CU', 'NZ', 'PL', 'PT', 'PE',\n",
       "       'PY', 'UY', 'PA', 'GR'],\n",
       "      dtype='object', name='country')"
      ]
     },
     "execution_count": 252,
     "metadata": {},
     "output_type": "execute_result"
    }
   ],
   "source": [
    "#list of countries sorted by number of accounts suspended \n",
    "countries_susp_order_mar = countries_cumsum_df_mar.loc[\"2021-03-31\"].sort_values(ascending = False).index\n",
    "countries_susp_order_mar"
   ]
  },
  {
   "cell_type": "code",
   "execution_count": 274,
   "metadata": {},
   "outputs": [
    {
     "data": {
      "text/plain": [
       "[<matplotlib.lines.Line2D at 0x7fffa2c1d220>]"
      ]
     },
     "execution_count": 274,
     "metadata": {},
     "output_type": "execute_result"
    },
    {
     "data": {
      "image/png": "[encoded data removed]",
      "text/plain": [
       "<Figure size 864x432 with 2 Axes>"
      ]
     },
     "metadata": {
      "needs_background": "light"
     },
     "output_type": "display_data"
    }
   ],
   "source": [
    "fig, (ax1, ax2) = plt.subplots(1,2, figsize = (12, 6), sharey = True, \n",
    "                               gridspec_kw = {\"width_ratios\": [1, 3]})\n",
    "\n",
    "df = countries_cumsum_df_mar.reset_index().assign(date = lambda x: [pd.to_datetime(u) for u in x[\"date\"]]).set_index(\"date\")\n",
    "dates1 = df.loc[df.index < \"2020-01-01\"].index\n",
    "prev_series1 = df.loc[df.index < \"2020-01-01\"].assign(users = 0)[\"users\"]\n",
    "dates2 = df.loc[(df.index > \"2020-06-30\")&(df.index < \"2021-04-01\")].index\n",
    "prev_series2 = df.loc[(df.index > \"2020-06-30\")&(df.index < \"2021-04-01\")].assign(users = 0)[\"users\"]\n",
    "\n",
    "for country in countries_susp_order_mar:    \n",
    "    series1 = prev_series1.add(df.loc[df.index < \"2020-01-01\", country], fill_value = 0)\n",
    "    series2 = prev_series2.add(df.loc[(df.index > \"2020-06-30\")&(df.index < \"2021-04-01\"), country], fill_value = 0)\n",
    "    ax1.plot(dates1, series1)\n",
    "    ax2.plot(dates2, series2)\n",
    "    ax1.fill_between(x = dates1, y1 = prev_series1, y2 = series1, alpha = 0.5)\n",
    "    ax2.fill_between(x = dates2, y1 = prev_series2, y2 = series2, alpha = 0.5)\n",
    "    y_countrylab = np.mean([series2[-20], prev_series2[-20]])\n",
    "    if y_countrylab < 70000:\n",
    "        ax2.text(pd.to_datetime(\"2021-03-15\"), y_countrylab, country)\n",
    "    prev_series1, prev_series2 = series1, series2\n",
    "\n",
    "ax2.axvline(pd.to_datetime(\"2021-01-06\"), color = \"red\", linestyle = \"dotted\", lw = 0.8)\n",
    "\n",
    "ax2.text(pd.to_datetime(\"2020-12-28\"), 63000, \"Washington Riots\", rotation = 90) \n",
    "\n",
    "#hide plot between two breaks\n",
    "ax1.spines[\"right\"].set_visible(False)\n",
    "ax2.spines[\"left\"].set_visible(False)\n",
    "#ax2.yaxis.set_ticks([])\n",
    "\n",
    "height_periods = 130000\n",
    "ax1.text(pd.to_datetime(\"2019-11-01\"), height_periods, \"period1\") \n",
    "ax2.text(pd.to_datetime(\"2020-08-01\"), height_periods, \"period2\") \n",
    "ax2.text(pd.to_datetime(\"2020-11-01\"), height_periods, \"period3\") \n",
    "ax2.text(pd.to_datetime(\"2021-02-01\"), height_periods, \"period4\") \n",
    "        \n",
    "#ax.set_title(\"Last Tweets posted by Suspended Accounts\", fontsize = 20)\n",
    "ax1.set_ylabel(\"#Suspended Users Last Tweet\", fontsize = 15)\n",
    "#ax1.set_xlim([pd.to_datetime(\"2019-10-01\"), pd.to_datetime(\"2021-03-31\")])\n",
    "\n",
    "col_plot = \"lightgray\"\n",
    "ax1.axvspan(pd.to_datetime(\"2019-10-01\"), pd.to_datetime(\"2019-12-31\"), facecolor = col_plot, alpha = 0.2)\n",
    "ax2.axvspan(pd.to_datetime(\"2020-06-30\"), pd.to_datetime(\"2020-09-30\"), facecolor = col_plot, alpha = 0.3)\n",
    "ax2.axvspan(pd.to_datetime(\"2020-09-30\"), pd.to_datetime(\"2020-12-31\"), facecolor = col_plot, alpha = 0.2)\n",
    "ax2.axvspan(pd.to_datetime(\"2020-12-31\"), pd.to_datetime(\"2021-03-31\"), facecolor = col_plot, alpha = 0.3)\n",
    "\n",
    "ax1.xaxis.set_major_locator(mdates.MonthLocator())\n",
    "ax1.xaxis.set_major_formatter(mdates.DateFormatter('%Y %b'))\n",
    "ax2.xaxis.set_major_locator(mdates.MonthLocator())\n",
    "ax2.xaxis.set_major_formatter(mdates.DateFormatter('%Y %b'))\n",
    "labels = ax1.get_xticklabels() + ax2.get_xticklabels()\n",
    "\n",
    "ax1.set_xlim([pd.to_datetime(\"2019-09-20\"), pd.to_datetime(\"2020-01-15\")])\n",
    "\n",
    "plt.setp(labels, fontsize = 8, rotation = 70)\n",
    "\n",
    "# Make the spacing between the two axes a bit smaller\n",
    "plt.subplots_adjust(wspace = 0.02)\n",
    "d = .015 # how big to make the diagonal lines in axes coordinates\n",
    "# arguments to pass plot, just so we don't keep repeating them\n",
    "kwargs = dict(transform = ax1.transAxes, color = \"k\", clip_on = False)\n",
    "ax1.plot((1 - d, 1 + d), (-d, +d), **kwargs) # top-left diagonal\n",
    "ax1.plot((1 - d, 1 + d), (1 - d, 1 + d), **kwargs) # bottom-left diagonal\n",
    "\n",
    "kwargs.update(transform = ax2.transAxes) # switch to the bottom axes\n",
    "ax2.plot((-d / 3, d / 3), (-d, +d), **kwargs) # top-right diagonal\n",
    "ax2.plot((-d / 3, d / 3), (1 - d, 1 + d), **kwargs) # bottom-right diagonal\n",
    "    \n"
   ]
  },
  {
   "cell_type": "markdown",
   "metadata": {},
   "source": [
    "#### When did Donald Trump have been suspended?"
   ]
  },
  {
   "cell_type": "code",
   "execution_count": 279,
   "metadata": {},
   "outputs": [
    {
     "data": {
      "text/html": [
       "<div>\n",
       "<style scoped>\n",
       "    .dataframe tbody tr th:only-of-type {\n",
       "        vertical-align: middle;\n",
       "    }\n",
       "\n",
       "    .dataframe tbody tr th {\n",
       "        vertical-align: top;\n",
       "    }\n",
       "\n",
       "    .dataframe thead th {\n",
       "        text-align: right;\n",
       "    }\n",
       "</style>\n",
       "<table border=\"1\" class=\"dataframe\">\n",
       "  <thead>\n",
       "    <tr style=\"text-align: right;\">\n",
       "      <th></th>\n",
       "      <th>index</th>\n",
       "      <th>users</th>\n",
       "      <th>number_users</th>\n",
       "      <th>date</th>\n",
       "      <th>status</th>\n",
       "      <th>lang</th>\n",
       "      <th>country</th>\n",
       "    </tr>\n",
       "  </thead>\n",
       "  <tbody>\n",
       "    <tr>\n",
       "      <th>64808</th>\n",
       "      <td>20210108</td>\n",
       "      <td>realDonaldTrump</td>\n",
       "      <td>3785.0</td>\n",
       "      <td>2021-01-08</td>\n",
       "      <td>suspended</td>\n",
       "      <td>en</td>\n",
       "      <td>US</td>\n",
       "    </tr>\n",
       "    <tr>\n",
       "      <th>64809</th>\n",
       "      <td>20210108</td>\n",
       "      <td>realDonaldTrump</td>\n",
       "      <td>3785.0</td>\n",
       "      <td>2021-01-08</td>\n",
       "      <td>suspended</td>\n",
       "      <td>en</td>\n",
       "      <td>US</td>\n",
       "    </tr>\n",
       "    <tr>\n",
       "      <th>64810</th>\n",
       "      <td>20210108</td>\n",
       "      <td>realDonaldTrump</td>\n",
       "      <td>3785.0</td>\n",
       "      <td>2021-01-08</td>\n",
       "      <td>suspended</td>\n",
       "      <td>en</td>\n",
       "      <td>US</td>\n",
       "    </tr>\n",
       "    <tr>\n",
       "      <th>64811</th>\n",
       "      <td>20210108</td>\n",
       "      <td>realDonaldTrump</td>\n",
       "      <td>3785.0</td>\n",
       "      <td>2021-01-08</td>\n",
       "      <td>suspended</td>\n",
       "      <td>en</td>\n",
       "      <td>US</td>\n",
       "    </tr>\n",
       "  </tbody>\n",
       "</table>\n",
       "</div>"
      ],
      "text/plain": [
       "          index            users  number_users        date     status lang  \\\n",
       "64808  20210108  realDonaldTrump        3785.0  2021-01-08  suspended   en   \n",
       "64809  20210108  realDonaldTrump        3785.0  2021-01-08  suspended   en   \n",
       "64810  20210108  realDonaldTrump        3785.0  2021-01-08  suspended   en   \n",
       "64811  20210108  realDonaldTrump        3785.0  2021-01-08  suspended   en   \n",
       "\n",
       "      country  \n",
       "64808      US  \n",
       "64809      US  \n",
       "64810      US  \n",
       "64811      US  "
      ]
     },
     "execution_count": 279,
     "metadata": {},
     "output_type": "execute_result"
    }
   ],
   "source": [
    "last_tweet_country_mar.query(\"users == 'realDonaldTrump'\")"
   ]
  },
  {
   "cell_type": "markdown",
   "metadata": {},
   "source": [
    "#### Where are the suspended accounts from?"
   ]
  },
  {
   "cell_type": "code",
   "execution_count": 283,
   "metadata": {
    "scrolled": true
   },
   "outputs": [
    {
     "data": {
      "text/html": [
       "<div>\n",
       "<style scoped>\n",
       "    .dataframe tbody tr th:only-of-type {\n",
       "        vertical-align: middle;\n",
       "    }\n",
       "\n",
       "    .dataframe tbody tr th {\n",
       "        vertical-align: top;\n",
       "    }\n",
       "\n",
       "    .dataframe thead th {\n",
       "        text-align: right;\n",
       "    }\n",
       "</style>\n",
       "<table border=\"1\" class=\"dataframe\">\n",
       "  <thead>\n",
       "    <tr style=\"text-align: right;\">\n",
       "      <th></th>\n",
       "      <th>country</th>\n",
       "      <th>suspended_users</th>\n",
       "      <th>users</th>\n",
       "      <th>susp_prob</th>\n",
       "    </tr>\n",
       "  </thead>\n",
       "  <tbody>\n",
       "    <tr>\n",
       "      <th>0</th>\n",
       "      <td>US</td>\n",
       "      <td>0.416530</td>\n",
       "      <td>0.333698</td>\n",
       "      <td>1.248225</td>\n",
       "    </tr>\n",
       "    <tr>\n",
       "      <th>1</th>\n",
       "      <td>VE</td>\n",
       "      <td>0.066989</td>\n",
       "      <td>0.023423</td>\n",
       "      <td>2.859963</td>\n",
       "    </tr>\n",
       "    <tr>\n",
       "      <th>2</th>\n",
       "      <td>BR</td>\n",
       "      <td>0.059364</td>\n",
       "      <td>0.152972</td>\n",
       "      <td>0.388071</td>\n",
       "    </tr>\n",
       "    <tr>\n",
       "      <th>3</th>\n",
       "      <td>GB</td>\n",
       "      <td>0.056188</td>\n",
       "      <td>0.101108</td>\n",
       "      <td>0.555725</td>\n",
       "    </tr>\n",
       "    <tr>\n",
       "      <th>4</th>\n",
       "      <td>MX</td>\n",
       "      <td>0.043793</td>\n",
       "      <td>0.058247</td>\n",
       "      <td>0.751846</td>\n",
       "    </tr>\n",
       "    <tr>\n",
       "      <th>5</th>\n",
       "      <td>FR</td>\n",
       "      <td>0.040759</td>\n",
       "      <td>0.036091</td>\n",
       "      <td>1.129361</td>\n",
       "    </tr>\n",
       "    <tr>\n",
       "      <th>6</th>\n",
       "      <td>CA</td>\n",
       "      <td>0.039404</td>\n",
       "      <td>0.036240</td>\n",
       "      <td>1.087299</td>\n",
       "    </tr>\n",
       "    <tr>\n",
       "      <th>7</th>\n",
       "      <td>EC</td>\n",
       "      <td>0.038475</td>\n",
       "      <td>0.012346</td>\n",
       "      <td>3.116410</td>\n",
       "    </tr>\n",
       "    <tr>\n",
       "      <th>8</th>\n",
       "      <td>AR</td>\n",
       "      <td>0.037427</td>\n",
       "      <td>0.050719</td>\n",
       "      <td>0.737918</td>\n",
       "    </tr>\n",
       "    <tr>\n",
       "      <th>9</th>\n",
       "      <td>TR</td>\n",
       "      <td>0.037052</td>\n",
       "      <td>0.008941</td>\n",
       "      <td>4.144272</td>\n",
       "    </tr>\n",
       "    <tr>\n",
       "      <th>10</th>\n",
       "      <td>ES</td>\n",
       "      <td>0.031285</td>\n",
       "      <td>0.042469</td>\n",
       "      <td>0.736658</td>\n",
       "    </tr>\n",
       "    <tr>\n",
       "      <th>11</th>\n",
       "      <td>AU</td>\n",
       "      <td>0.023803</td>\n",
       "      <td>0.015391</td>\n",
       "      <td>1.546506</td>\n",
       "    </tr>\n",
       "    <tr>\n",
       "      <th>12</th>\n",
       "      <td>CO</td>\n",
       "      <td>0.018170</td>\n",
       "      <td>0.025809</td>\n",
       "      <td>0.704031</td>\n",
       "    </tr>\n",
       "    <tr>\n",
       "      <th>13</th>\n",
       "      <td>DE</td>\n",
       "      <td>0.015279</td>\n",
       "      <td>0.014768</td>\n",
       "      <td>1.034630</td>\n",
       "    </tr>\n",
       "    <tr>\n",
       "      <th>14</th>\n",
       "      <td>IT</td>\n",
       "      <td>0.013953</td>\n",
       "      <td>0.019336</td>\n",
       "      <td>0.721646</td>\n",
       "    </tr>\n",
       "    <tr>\n",
       "      <th>15</th>\n",
       "      <td>RU</td>\n",
       "      <td>0.010815</td>\n",
       "      <td>0.003432</td>\n",
       "      <td>3.151570</td>\n",
       "    </tr>\n",
       "    <tr>\n",
       "      <th>16</th>\n",
       "      <td>CL</td>\n",
       "      <td>0.008636</td>\n",
       "      <td>0.011171</td>\n",
       "      <td>0.773020</td>\n",
       "    </tr>\n",
       "    <tr>\n",
       "      <th>17</th>\n",
       "      <td>NL</td>\n",
       "      <td>0.007512</td>\n",
       "      <td>0.005127</td>\n",
       "      <td>1.465139</td>\n",
       "    </tr>\n",
       "    <tr>\n",
       "      <th>18</th>\n",
       "      <td>IE</td>\n",
       "      <td>0.006628</td>\n",
       "      <td>0.007883</td>\n",
       "      <td>0.840819</td>\n",
       "    </tr>\n",
       "    <tr>\n",
       "      <th>19</th>\n",
       "      <td>CU</td>\n",
       "      <td>0.006029</td>\n",
       "      <td>0.001662</td>\n",
       "      <td>3.626950</td>\n",
       "    </tr>\n",
       "    <tr>\n",
       "      <th>20</th>\n",
       "      <td>NZ</td>\n",
       "      <td>0.004981</td>\n",
       "      <td>0.001950</td>\n",
       "      <td>2.553636</td>\n",
       "    </tr>\n",
       "    <tr>\n",
       "      <th>21</th>\n",
       "      <td>PL</td>\n",
       "      <td>0.004441</td>\n",
       "      <td>0.010177</td>\n",
       "      <td>0.436404</td>\n",
       "    </tr>\n",
       "    <tr>\n",
       "      <th>22</th>\n",
       "      <td>PT</td>\n",
       "      <td>0.002517</td>\n",
       "      <td>0.003815</td>\n",
       "      <td>0.659710</td>\n",
       "    </tr>\n",
       "    <tr>\n",
       "      <th>23</th>\n",
       "      <td>PE</td>\n",
       "      <td>0.002457</td>\n",
       "      <td>0.008463</td>\n",
       "      <td>0.290275</td>\n",
       "    </tr>\n",
       "    <tr>\n",
       "      <th>24</th>\n",
       "      <td>PY</td>\n",
       "      <td>0.002329</td>\n",
       "      <td>0.003866</td>\n",
       "      <td>0.602481</td>\n",
       "    </tr>\n",
       "    <tr>\n",
       "      <th>25</th>\n",
       "      <td>UY</td>\n",
       "      <td>0.002105</td>\n",
       "      <td>0.004758</td>\n",
       "      <td>0.442290</td>\n",
       "    </tr>\n",
       "    <tr>\n",
       "      <th>26</th>\n",
       "      <td>PA</td>\n",
       "      <td>0.001550</td>\n",
       "      <td>0.003158</td>\n",
       "      <td>0.490864</td>\n",
       "    </tr>\n",
       "    <tr>\n",
       "      <th>27</th>\n",
       "      <td>GR</td>\n",
       "      <td>0.001528</td>\n",
       "      <td>0.002978</td>\n",
       "      <td>0.513091</td>\n",
       "    </tr>\n",
       "  </tbody>\n",
       "</table>\n",
       "</div>"
      ],
      "text/plain": [
       "   country  suspended_users     users  susp_prob\n",
       "0       US         0.416530  0.333698   1.248225\n",
       "1       VE         0.066989  0.023423   2.859963\n",
       "2       BR         0.059364  0.152972   0.388071\n",
       "3       GB         0.056188  0.101108   0.555725\n",
       "4       MX         0.043793  0.058247   0.751846\n",
       "5       FR         0.040759  0.036091   1.129361\n",
       "6       CA         0.039404  0.036240   1.087299\n",
       "7       EC         0.038475  0.012346   3.116410\n",
       "8       AR         0.037427  0.050719   0.737918\n",
       "9       TR         0.037052  0.008941   4.144272\n",
       "10      ES         0.031285  0.042469   0.736658\n",
       "11      AU         0.023803  0.015391   1.546506\n",
       "12      CO         0.018170  0.025809   0.704031\n",
       "13      DE         0.015279  0.014768   1.034630\n",
       "14      IT         0.013953  0.019336   0.721646\n",
       "15      RU         0.010815  0.003432   3.151570\n",
       "16      CL         0.008636  0.011171   0.773020\n",
       "17      NL         0.007512  0.005127   1.465139\n",
       "18      IE         0.006628  0.007883   0.840819\n",
       "19      CU         0.006029  0.001662   3.626950\n",
       "20      NZ         0.004981  0.001950   2.553636\n",
       "21      PL         0.004441  0.010177   0.436404\n",
       "22      PT         0.002517  0.003815   0.659710\n",
       "23      PE         0.002457  0.008463   0.290275\n",
       "24      PY         0.002329  0.003866   0.602481\n",
       "25      UY         0.002105  0.004758   0.442290\n",
       "26      PA         0.001550  0.003158   0.490864\n",
       "27      GR         0.001528  0.002978   0.513091"
      ]
     },
     "execution_count": 283,
     "metadata": {},
     "output_type": "execute_result"
    }
   ],
   "source": [
    "(last_tweet_country_mar.country.value_counts() / len(last_tweet_country_mar)).reset_index() \\\n",
    ".rename(columns = {\"country\": \"suspended_users\", \"index\": \"country\"}) \\\n",
    ".merge(pd.read_csv(\"/home/jlenti/Files/users_per_country_lang_other_nongeo.csv\").groupby(\"country\").sum().loc[countries] \\\n",
    ".apply(lambda x: x / x.sum()).reset_index()).assign(susp_prob = lambda x: x[\"suspended_users\"] / x[\"users\"]) \\\n",
    ".sort_values(\"suspended_users\", ascending = False)"
   ]
  },
  {
   "cell_type": "markdown",
   "metadata": {},
   "source": [
    "- **Some countries are much more likely to be suspended** (susp_prob column)\n",
    "- **40% accounts are from US**"
   ]
  },
  {
   "cell_type": "markdown",
   "metadata": {},
   "source": [
    "#### Before Washington Riots"
   ]
  },
  {
   "cell_type": "code",
   "execution_count": 288,
   "metadata": {
    "scrolled": true
   },
   "outputs": [
    {
     "data": {
      "text/html": [
       "<div>\n",
       "<style scoped>\n",
       "    .dataframe tbody tr th:only-of-type {\n",
       "        vertical-align: middle;\n",
       "    }\n",
       "\n",
       "    .dataframe tbody tr th {\n",
       "        vertical-align: top;\n",
       "    }\n",
       "\n",
       "    .dataframe thead th {\n",
       "        text-align: right;\n",
       "    }\n",
       "</style>\n",
       "<table border=\"1\" class=\"dataframe\">\n",
       "  <thead>\n",
       "    <tr style=\"text-align: right;\">\n",
       "      <th></th>\n",
       "      <th>country</th>\n",
       "    </tr>\n",
       "    <tr>\n",
       "      <th>index</th>\n",
       "      <th></th>\n",
       "    </tr>\n",
       "  </thead>\n",
       "  <tbody>\n",
       "    <tr>\n",
       "      <th>US</th>\n",
       "      <td>0.312668</td>\n",
       "    </tr>\n",
       "    <tr>\n",
       "      <th>EC</th>\n",
       "      <td>0.086509</td>\n",
       "    </tr>\n",
       "    <tr>\n",
       "      <th>VE</th>\n",
       "      <td>0.085024</td>\n",
       "    </tr>\n",
       "    <tr>\n",
       "      <th>BR</th>\n",
       "      <td>0.075053</td>\n",
       "    </tr>\n",
       "    <tr>\n",
       "      <th>GB</th>\n",
       "      <td>0.064111</td>\n",
       "    </tr>\n",
       "  </tbody>\n",
       "</table>\n",
       "</div>"
      ],
      "text/plain": [
       "        country\n",
       "index          \n",
       "US     0.312668\n",
       "EC     0.086509\n",
       "VE     0.085024\n",
       "BR     0.075053\n",
       "GB     0.064111"
      ]
     },
     "execution_count": 288,
     "metadata": {},
     "output_type": "execute_result"
    }
   ],
   "source": [
    "last_tweet_country_mar[(last_tweet_country_mar[\"index\"] < 20201222)].country.value_counts() \\\n",
    ".reset_index().set_index(\"index\").apply(lambda x: x / x.sum()).head()"
   ]
  },
  {
   "cell_type": "markdown",
   "metadata": {},
   "source": [
    "#### During Washington Riots"
   ]
  },
  {
   "cell_type": "code",
   "execution_count": 287,
   "metadata": {
    "scrolled": true
   },
   "outputs": [
    {
     "data": {
      "text/html": [
       "<div>\n",
       "<style scoped>\n",
       "    .dataframe tbody tr th:only-of-type {\n",
       "        vertical-align: middle;\n",
       "    }\n",
       "\n",
       "    .dataframe tbody tr th {\n",
       "        vertical-align: top;\n",
       "    }\n",
       "\n",
       "    .dataframe thead th {\n",
       "        text-align: right;\n",
       "    }\n",
       "</style>\n",
       "<table border=\"1\" class=\"dataframe\">\n",
       "  <thead>\n",
       "    <tr style=\"text-align: right;\">\n",
       "      <th></th>\n",
       "      <th>country</th>\n",
       "    </tr>\n",
       "    <tr>\n",
       "      <th>index</th>\n",
       "      <th></th>\n",
       "    </tr>\n",
       "  </thead>\n",
       "  <tbody>\n",
       "    <tr>\n",
       "      <th>US</th>\n",
       "      <td>0.751006</td>\n",
       "    </tr>\n",
       "    <tr>\n",
       "      <th>CA</th>\n",
       "      <td>0.042435</td>\n",
       "    </tr>\n",
       "    <tr>\n",
       "      <th>GB</th>\n",
       "      <td>0.041170</td>\n",
       "    </tr>\n",
       "    <tr>\n",
       "      <th>AU</th>\n",
       "      <td>0.030618</td>\n",
       "    </tr>\n",
       "    <tr>\n",
       "      <th>FR</th>\n",
       "      <td>0.021003</td>\n",
       "    </tr>\n",
       "  </tbody>\n",
       "</table>\n",
       "</div>"
      ],
      "text/plain": [
       "        country\n",
       "index          \n",
       "US     0.751006\n",
       "CA     0.042435\n",
       "GB     0.041170\n",
       "AU     0.030618\n",
       "FR     0.021003"
      ]
     },
     "execution_count": 287,
     "metadata": {},
     "output_type": "execute_result"
    }
   ],
   "source": [
    "last_tweet_country_mar[(last_tweet_country_mar[\"index\"] > 20201222)&(last_tweet_country_mar[\"index\"] < 20210113)].country.value_counts() \\\n",
    ".reset_index().set_index(\"index\").apply(lambda x: x / x.sum()).head()"
   ]
  },
  {
   "cell_type": "markdown",
   "metadata": {},
   "source": [
    "The proportion of suspended accounts coming from US jumps from 31% to 77% in the days of Capitol Hill Attacks."
   ]
  },
  {
   "cell_type": "markdown",
   "metadata": {},
   "source": [
    "## Did misinformation in US decrease in period 4?"
   ]
  },
  {
   "cell_type": "code",
   "execution_count": 293,
   "metadata": {},
   "outputs": [],
   "source": [
    "US_urls = pd.concat([read_data(period, \"US\", \"\", \"url\").query(\"domain not in @neutrals\") \\\n",
    "                     .assign(LC = lambda x: x[\"domain\"].isin(blacklist), period = period)\n",
    "                     for period in periods])"
   ]
  },
  {
   "cell_type": "code",
   "execution_count": 346,
   "metadata": {},
   "outputs": [
    {
     "name": "stdout",
     "output_type": "stream",
     "text": [
      "Proportion of Low-Credible Domains in US\n"
     ]
    },
    {
     "data": {
      "text/plain": [
       "period\n",
       "period1    0.186122\n",
       "period2    0.155503\n",
       "period3    0.143356\n",
       "period4    0.074198\n",
       "Name: True, dtype: float64"
      ]
     },
     "execution_count": 346,
     "metadata": {},
     "output_type": "execute_result"
    }
   ],
   "source": [
    "print(\"Proportion of Low-Credible Domains in US\")\n",
    "US_urls.groupby([\"period\", \"LC\"]).count()[\"urls\"].unstack().apply(lambda x: x / x.sum(), axis = 1)[True]"
   ]
  },
  {
   "cell_type": "markdown",
   "metadata": {},
   "source": [
    "It is halved after period3."
   ]
  },
  {
   "cell_type": "markdown",
   "metadata": {},
   "source": [
    "## Is misinformation in US shared by suspended accounts?"
   ]
  },
  {
   "cell_type": "code",
   "execution_count": 348,
   "metadata": {},
   "outputs": [
    {
     "name": "stdout",
     "output_type": "stream",
     "text": [
      "Proportion of Low-Credible Domains that have been shared by suspended accounts\n"
     ]
    },
    {
     "data": {
      "text/plain": [
       "period\n",
       "period1    0.357805\n",
       "period2    0.352169\n",
       "period3    0.362176\n",
       "period4    0.106602\n",
       "Name: True, dtype: float64"
      ]
     },
     "execution_count": 348,
     "metadata": {},
     "output_type": "execute_result"
    }
   ],
   "source": [
    "print(\"Proportion of Low-Credible Domains that have been shared by suspended accounts\")\n",
    "suspended_users = set(last_tweet_country_mar[\"users\"])\n",
    "US_urls.query(\"LC\").assign(suspended = lambda x: x[\"user\"].isin(suspended_users)).groupby([\"period\", \"suspended\"]).count()[\"urls\"].unstack() \\\n",
    ".apply(lambda x: x / x.sum(), axis = 1)[True]"
   ]
  },
  {
   "cell_type": "markdown",
   "metadata": {},
   "source": [
    "It was quite high, and it was strongly reduced, telling that Twitter was suspending accounts spreading misinformation."
   ]
  },
  {
   "cell_type": "markdown",
   "metadata": {},
   "source": [
    "## Does misinformation in US come from suspended accounts?"
   ]
  },
  {
   "cell_type": "code",
   "execution_count": 301,
   "metadata": {},
   "outputs": [],
   "source": [
    "#retweets containing low-credible URLs, labelled if the retweets point a suspended accounts\n",
    "urls_us_edgelist = pd.concat([read_data_urls(period, \"US\").query(\"LC\") \\\n",
    "                              .assign(period = period, suspended_RT = lambda x: x[\"user_RT\"] \\\n",
    "                                      .isin(suspended_users)) for period in periods])"
   ]
  },
  {
   "cell_type": "code",
   "execution_count": 349,
   "metadata": {},
   "outputs": [
    {
     "name": "stdout",
     "output_type": "stream",
     "text": [
      "Proportion of Retweets containing Low-Credible Domains that come from suspended accounts\n"
     ]
    },
    {
     "data": {
      "text/plain": [
       "period\n",
       "period1    0.736502\n",
       "period2    0.561260\n",
       "period3    0.554022\n",
       "period4    0.109487\n",
       "Name: True, dtype: float64"
      ]
     },
     "execution_count": 349,
     "metadata": {},
     "output_type": "execute_result"
    }
   ],
   "source": [
    "print(\"Proportion of Retweets containing Low-Credible Domains that come from suspended accounts\")\n",
    "urls_us_edgelist.groupby([\"period\", \"suspended_RT\"]).count()[\"urls\"].unstack() \\\n",
    ".apply(lambda x: x / x.sum(), axis = 1)[True]"
   ]
  },
  {
   "cell_type": "markdown",
   "metadata": {},
   "source": [
    "It is very high until period3. So, Twitter suspended accounts that were successfull in spreading misinformation to the rest of the network."
   ]
  },
  {
   "cell_type": "markdown",
   "metadata": {},
   "source": [
    "## Does misinformation imported by other countries from US decrease?"
   ]
  },
  {
   "cell_type": "code",
   "execution_count": 350,
   "metadata": {},
   "outputs": [
    {
     "data": {
      "text/html": [
       "<div>\n",
       "<style scoped>\n",
       "    .dataframe tbody tr th:only-of-type {\n",
       "        vertical-align: middle;\n",
       "    }\n",
       "\n",
       "    .dataframe tbody tr th {\n",
       "        vertical-align: top;\n",
       "    }\n",
       "\n",
       "    .dataframe thead th {\n",
       "        text-align: right;\n",
       "    }\n",
       "</style>\n",
       "<table border=\"1\" class=\"dataframe\">\n",
       "  <thead>\n",
       "    <tr style=\"text-align: right;\">\n",
       "      <th></th>\n",
       "      <th>RT_user_screen_name</th>\n",
       "      <th>user_country_code</th>\n",
       "      <th>RT_user_country_code</th>\n",
       "      <th>urls</th>\n",
       "      <th>lang</th>\n",
       "      <th>domain</th>\n",
       "      <th>LC</th>\n",
       "      <th>neutral</th>\n",
       "      <th>period</th>\n",
       "    </tr>\n",
       "    <tr>\n",
       "      <th>user_screen_name</th>\n",
       "      <th></th>\n",
       "      <th></th>\n",
       "      <th></th>\n",
       "      <th></th>\n",
       "      <th></th>\n",
       "      <th></th>\n",
       "      <th></th>\n",
       "      <th></th>\n",
       "      <th></th>\n",
       "    </tr>\n",
       "  </thead>\n",
       "  <tbody>\n",
       "    <tr>\n",
       "      <th>SteeliestLlama</th>\n",
       "      <td>CoffeeShopRabbi</td>\n",
       "      <td>GB</td>\n",
       "      <td>US</td>\n",
       "      <td>https://twitter.com/NUCLEARnicole/status/11823...</td>\n",
       "      <td>da</td>\n",
       "      <td>twitter.com</td>\n",
       "      <td>False</td>\n",
       "      <td>True</td>\n",
       "      <td>period1</td>\n",
       "    </tr>\n",
       "    <tr>\n",
       "      <th>IntJewCon</th>\n",
       "      <td>CoffeeShopRabbi</td>\n",
       "      <td>GB</td>\n",
       "      <td>US</td>\n",
       "      <td>https://twitter.com/NUCLEARnicole/status/11823...</td>\n",
       "      <td>da</td>\n",
       "      <td>twitter.com</td>\n",
       "      <td>False</td>\n",
       "      <td>True</td>\n",
       "      <td>period1</td>\n",
       "    </tr>\n",
       "    <tr>\n",
       "      <th>TomVargheseJr</th>\n",
       "      <td>jennybencardino</td>\n",
       "      <td>US</td>\n",
       "      <td>CO</td>\n",
       "      <td>https://twitter.com/drianweissman/status/11832...</td>\n",
       "      <td>da</td>\n",
       "      <td>twitter.com</td>\n",
       "      <td>False</td>\n",
       "      <td>True</td>\n",
       "      <td>period1</td>\n",
       "    </tr>\n",
       "    <tr>\n",
       "      <th>DrIanWeissman</th>\n",
       "      <td>jennybencardino</td>\n",
       "      <td>US</td>\n",
       "      <td>CO</td>\n",
       "      <td>https://twitter.com/drianweissman/status/11832...</td>\n",
       "      <td>da</td>\n",
       "      <td>twitter.com</td>\n",
       "      <td>False</td>\n",
       "      <td>True</td>\n",
       "      <td>period1</td>\n",
       "    </tr>\n",
       "    <tr>\n",
       "      <th>SaludHEALTHinfo</th>\n",
       "      <td>jennybencardino</td>\n",
       "      <td>US</td>\n",
       "      <td>CO</td>\n",
       "      <td>https://twitter.com/drianweissman/status/11832...</td>\n",
       "      <td>da</td>\n",
       "      <td>twitter.com</td>\n",
       "      <td>False</td>\n",
       "      <td>True</td>\n",
       "      <td>period1</td>\n",
       "    </tr>\n",
       "  </tbody>\n",
       "</table>\n",
       "</div>"
      ],
      "text/plain": [
       "                 RT_user_screen_name user_country_code RT_user_country_code  \\\n",
       "user_screen_name                                                              \n",
       "SteeliestLlama       CoffeeShopRabbi                GB                   US   \n",
       "IntJewCon            CoffeeShopRabbi                GB                   US   \n",
       "TomVargheseJr        jennybencardino                US                   CO   \n",
       "DrIanWeissman        jennybencardino                US                   CO   \n",
       "SaludHEALTHinfo      jennybencardino                US                   CO   \n",
       "\n",
       "                                                               urls lang  \\\n",
       "user_screen_name                                                           \n",
       "SteeliestLlama    https://twitter.com/NUCLEARnicole/status/11823...   da   \n",
       "IntJewCon         https://twitter.com/NUCLEARnicole/status/11823...   da   \n",
       "TomVargheseJr     https://twitter.com/drianweissman/status/11832...   da   \n",
       "DrIanWeissman     https://twitter.com/drianweissman/status/11832...   da   \n",
       "SaludHEALTHinfo   https://twitter.com/drianweissman/status/11832...   da   \n",
       "\n",
       "                       domain     LC  neutral   period  \n",
       "user_screen_name                                        \n",
       "SteeliestLlama    twitter.com  False     True  period1  \n",
       "IntJewCon         twitter.com  False     True  period1  \n",
       "TomVargheseJr     twitter.com  False     True  period1  \n",
       "DrIanWeissman     twitter.com  False     True  period1  \n",
       "SaludHEALTHinfo   twitter.com  False     True  period1  "
      ]
     },
     "execution_count": 350,
     "metadata": {},
     "output_type": "execute_result"
    }
   ],
   "source": [
    "#retweets from one country to another containing urls\n",
    "#'neutral' urls are the ones pointing to social networks or url shorteners\n",
    "cross_urls_df = pd.read_csv(\"/home/jlenti/Files/cross_border_retweeted_urls_2403.csv\", index_col = 0)\n",
    "cross_urls_df.head()"
   ]
  },
  {
   "cell_type": "code",
   "execution_count": 306,
   "metadata": {},
   "outputs": [],
   "source": [
    "#filter retweets coming from US, that are not neutral, and count the proportion of low-credible\n",
    "LC_cross_prop = cross_urls_df.query(\"(RT_user_country_code == 'US')&(~neutral)\") \\\n",
    ".groupby([\"user_country_code\", \"period\"]).mean()[\"LC\"].reset_index()#.unstack()"
   ]
  },
  {
   "cell_type": "code",
   "execution_count": 351,
   "metadata": {},
   "outputs": [
    {
     "name": "stdout",
     "output_type": "stream",
     "text": [
      "Proportion of domains from US to other countries that are low-credible\n"
     ]
    },
    {
     "data": {
      "text/plain": [
       "period\n",
       "period1    0.183955\n",
       "period2    0.131033\n",
       "period3    0.141129\n",
       "period4    0.077070\n",
       "dtype: float64"
      ]
     },
     "execution_count": 351,
     "metadata": {},
     "output_type": "execute_result"
    }
   ],
   "source": [
    "print(\"Proportion of domains from US to other countries that are low-credible\")\n",
    "cross_urls_df.query(\"(RT_user_country_code == 'US')&(~neutral)\") \\\n",
    ".groupby([\"period\", \"LC\"]).count().unstack()[\"urls\"].apply(lambda x: x[True] / x.sum(), axis = 1)"
   ]
  },
  {
   "cell_type": "markdown",
   "metadata": {},
   "source": [
    "The suspension of the accounts by Twitter halved the proportion of low-credible domains in the other countries."
   ]
  },
  {
   "cell_type": "code",
   "execution_count": 308,
   "metadata": {},
   "outputs": [
    {
     "data": {
      "image/png": "[encoded data removed]",
      "text/plain": [
       "<Figure size 576x432 with 1 Axes>"
      ]
     },
     "metadata": {
      "needs_background": "light"
     },
     "output_type": "display_data"
    }
   ],
   "source": [
    "fig, axes = plt.subplots(1,1,figsize = [8, 6])\n",
    "\n",
    "sns.violinplot(data = LC_cross_prop, \n",
    "               x = \"period\", y = \"LC\")\n",
    "\n",
    "axes.set_xticklabels([\"PC\", \"PV\", \"VD\", \"VR\"], fontsize = 20)\n",
    "axes.set_xlabel(\"\")\n",
    "axes.set_ylabel(\"Proportion LC Domain\", fontsize = 20)\n",
    "plt.yticks(fontsize = 18)\n",
    "\n",
    "medians = []\n",
    "for k in range(4):\n",
    "    period = \"period\" + str(k + 1)\n",
    "    median = LC_cross_prop.query(\"period == @period\")[\"LC\"].median()\n",
    "    medians.append(median)\n",
    "    \n",
    "    sns.lineplot(x = [k - 0.2, k + 0.2], y = median, color = \"lightgrey\", linewidth = 2)\n"
   ]
  },
  {
   "cell_type": "code",
   "execution_count": 309,
   "metadata": {},
   "outputs": [
    {
     "data": {
      "text/plain": [
       "[0.10144927536231885,\n",
       " 0.12609970674486803,\n",
       " 0.11805555555555555,\n",
       " 0.06370816877987945]"
      ]
     },
     "execution_count": 309,
     "metadata": {},
     "output_type": "execute_result"
    }
   ],
   "source": [
    "medians"
   ]
  },
  {
   "cell_type": "markdown",
   "metadata": {},
   "source": [
    "#### And from Russia?"
   ]
  },
  {
   "cell_type": "code",
   "execution_count": 310,
   "metadata": {},
   "outputs": [
    {
     "data": {
      "text/plain": [
       "period\n",
       "period1    0.101266\n",
       "period2    0.020923\n",
       "period3    0.039339\n",
       "period4    0.061646\n",
       "dtype: float64"
      ]
     },
     "execution_count": 310,
     "metadata": {},
     "output_type": "execute_result"
    }
   ],
   "source": [
    "cross_urls_df.query(\"(RT_user_country_code == 'RU')&(~neutral)\") \\\n",
    ".groupby([\"period\", \"LC\"]).count().unstack()[\"urls\"].apply(lambda x: x[True] / x.sum(), axis = 1)"
   ]
  },
  {
   "cell_type": "markdown",
   "metadata": {},
   "source": [
    "The proportion of low-credible domains from Russia strongly increased in period4."
   ]
  },
  {
   "cell_type": "markdown",
   "metadata": {},
   "source": [
    "## What proportion of LC domains other countries import come from US?"
   ]
  },
  {
   "cell_type": "code",
   "execution_count": 311,
   "metadata": {
    "scrolled": true
   },
   "outputs": [
    {
     "data": {
      "text/html": [
       "<div>\n",
       "<style scoped>\n",
       "    .dataframe tbody tr th:only-of-type {\n",
       "        vertical-align: middle;\n",
       "    }\n",
       "\n",
       "    .dataframe tbody tr th {\n",
       "        vertical-align: top;\n",
       "    }\n",
       "\n",
       "    .dataframe thead th {\n",
       "        text-align: right;\n",
       "    }\n",
       "</style>\n",
       "<table border=\"1\" class=\"dataframe\">\n",
       "  <thead>\n",
       "    <tr style=\"text-align: right;\">\n",
       "      <th></th>\n",
       "      <th>RT_user_country_code</th>\n",
       "    </tr>\n",
       "    <tr>\n",
       "      <th>index</th>\n",
       "      <th></th>\n",
       "    </tr>\n",
       "  </thead>\n",
       "  <tbody>\n",
       "    <tr>\n",
       "      <th>US</th>\n",
       "      <td>0.406657</td>\n",
       "    </tr>\n",
       "    <tr>\n",
       "      <th>GB</th>\n",
       "      <td>0.123991</td>\n",
       "    </tr>\n",
       "    <tr>\n",
       "      <th>ES</th>\n",
       "      <td>0.069759</td>\n",
       "    </tr>\n",
       "    <tr>\n",
       "      <th>BR</th>\n",
       "      <td>0.048928</td>\n",
       "    </tr>\n",
       "    <tr>\n",
       "      <th>RU</th>\n",
       "      <td>0.039960</td>\n",
       "    </tr>\n",
       "    <tr>\n",
       "      <th>FR</th>\n",
       "      <td>0.039942</td>\n",
       "    </tr>\n",
       "    <tr>\n",
       "      <th>AR</th>\n",
       "      <td>0.034601</td>\n",
       "    </tr>\n",
       "    <tr>\n",
       "      <th>MX</th>\n",
       "      <td>0.032414</td>\n",
       "    </tr>\n",
       "    <tr>\n",
       "      <th>VE</th>\n",
       "      <td>0.026814</td>\n",
       "    </tr>\n",
       "    <tr>\n",
       "      <th>CA</th>\n",
       "      <td>0.025356</td>\n",
       "    </tr>\n",
       "    <tr>\n",
       "      <th>DE</th>\n",
       "      <td>0.021091</td>\n",
       "    </tr>\n",
       "    <tr>\n",
       "      <th>CO</th>\n",
       "      <td>0.017866</td>\n",
       "    </tr>\n",
       "    <tr>\n",
       "      <th>CL</th>\n",
       "      <td>0.017146</td>\n",
       "    </tr>\n",
       "    <tr>\n",
       "      <th>IT</th>\n",
       "      <td>0.016581</td>\n",
       "    </tr>\n",
       "    <tr>\n",
       "      <th>AU</th>\n",
       "      <td>0.014101</td>\n",
       "    </tr>\n",
       "    <tr>\n",
       "      <th>IE</th>\n",
       "      <td>0.010024</td>\n",
       "    </tr>\n",
       "    <tr>\n",
       "      <th>UY</th>\n",
       "      <td>0.009170</td>\n",
       "    </tr>\n",
       "    <tr>\n",
       "      <th>NL</th>\n",
       "      <td>0.007808</td>\n",
       "    </tr>\n",
       "    <tr>\n",
       "      <th>PT</th>\n",
       "      <td>0.006875</td>\n",
       "    </tr>\n",
       "    <tr>\n",
       "      <th>PL</th>\n",
       "      <td>0.006343</td>\n",
       "    </tr>\n",
       "    <tr>\n",
       "      <th>CU</th>\n",
       "      <td>0.004344</td>\n",
       "    </tr>\n",
       "    <tr>\n",
       "      <th>PE</th>\n",
       "      <td>0.004255</td>\n",
       "    </tr>\n",
       "    <tr>\n",
       "      <th>GR</th>\n",
       "      <td>0.003897</td>\n",
       "    </tr>\n",
       "    <tr>\n",
       "      <th>TR</th>\n",
       "      <td>0.003492</td>\n",
       "    </tr>\n",
       "    <tr>\n",
       "      <th>EC</th>\n",
       "      <td>0.003304</td>\n",
       "    </tr>\n",
       "    <tr>\n",
       "      <th>NZ</th>\n",
       "      <td>0.002478</td>\n",
       "    </tr>\n",
       "    <tr>\n",
       "      <th>PA</th>\n",
       "      <td>0.002250</td>\n",
       "    </tr>\n",
       "    <tr>\n",
       "      <th>PY</th>\n",
       "      <td>0.000553</td>\n",
       "    </tr>\n",
       "  </tbody>\n",
       "</table>\n",
       "</div>"
      ],
      "text/plain": [
       "       RT_user_country_code\n",
       "index                      \n",
       "US                 0.406657\n",
       "GB                 0.123991\n",
       "ES                 0.069759\n",
       "BR                 0.048928\n",
       "RU                 0.039960\n",
       "FR                 0.039942\n",
       "AR                 0.034601\n",
       "MX                 0.032414\n",
       "VE                 0.026814\n",
       "CA                 0.025356\n",
       "DE                 0.021091\n",
       "CO                 0.017866\n",
       "CL                 0.017146\n",
       "IT                 0.016581\n",
       "AU                 0.014101\n",
       "IE                 0.010024\n",
       "UY                 0.009170\n",
       "NL                 0.007808\n",
       "PT                 0.006875\n",
       "PL                 0.006343\n",
       "CU                 0.004344\n",
       "PE                 0.004255\n",
       "GR                 0.003897\n",
       "TR                 0.003492\n",
       "EC                 0.003304\n",
       "NZ                 0.002478\n",
       "PA                 0.002250\n",
       "PY                 0.000553"
      ]
     },
     "execution_count": 311,
     "metadata": {},
     "output_type": "execute_result"
    }
   ],
   "source": [
    "cross_urls_df.query(\"(user_country_code != 'US')&(~LC)\").RT_user_country_code.value_counts().reset_index().set_index(\"index\").apply(lambda x: x / x.sum())"
   ]
  },
  {
   "cell_type": "code",
   "execution_count": 352,
   "metadata": {},
   "outputs": [
    {
     "name": "stdout",
     "output_type": "stream",
     "text": [
      "Proportion of URLs from US to among cross-countries URLs to other countries\n"
     ]
    },
    {
     "data": {
      "text/plain": [
       "period\n",
       "period1    0.629074\n",
       "period2    0.399584\n",
       "period3    0.463503\n",
       "period4    0.383777\n",
       "dtype: float64"
      ]
     },
     "execution_count": 352,
     "metadata": {},
     "output_type": "execute_result"
    }
   ],
   "source": [
    "print(\"Proportion of URLs from US to among cross-countries URLs to other countries\")\n",
    "cross_urls_df.query(\"(user_country_code != 'US')\").groupby([\"period\", \"RT_user_country_code\"]) \\\n",
    ".count().unstack().fillna(0)[\"urls\"].apply(lambda x: x[\"US\"] / x.sum(), axis = 1)"
   ]
  },
  {
   "cell_type": "code",
   "execution_count": 353,
   "metadata": {},
   "outputs": [
    {
     "name": "stdout",
     "output_type": "stream",
     "text": [
      "Proportion of URLs from US to among low-credible cross-countries URLs to other countries\n"
     ]
    },
    {
     "data": {
      "text/plain": [
       "period\n",
       "period1    0.929669\n",
       "period2    0.786644\n",
       "period3    0.714904\n",
       "period4    0.527126\n",
       "dtype: float64"
      ]
     },
     "execution_count": 353,
     "metadata": {},
     "output_type": "execute_result"
    }
   ],
   "source": [
    "print(\"Proportion of URLs from US to among low-credible cross-countries URLs to other countries\")\n",
    "cross_urls_df.query(\"(LC)&(user_country_code != 'US')\").groupby([\"period\", \"RT_user_country_code\"]) \\\n",
    ".count().unstack().fillna(0)[\"urls\"].apply(lambda x: x[\"US\"] / x.sum(), axis = 1)"
   ]
  },
  {
   "cell_type": "markdown",
   "metadata": {},
   "source": [
    "Misinformation is much more likely to come from US with respect to regular information flow."
   ]
  },
  {
   "cell_type": "markdown",
   "metadata": {},
   "source": [
    "## Does misinformation imported by other countries come from suspended accounts?"
   ]
  },
  {
   "cell_type": "code",
   "execution_count": 354,
   "metadata": {},
   "outputs": [
    {
     "name": "stdout",
     "output_type": "stream",
     "text": [
      "Proportion of tweets coming from suspended accounts among the cross-country retweets from US containing low-credible domains\n"
     ]
    },
    {
     "data": {
      "text/html": [
       "<div>\n",
       "<style scoped>\n",
       "    .dataframe tbody tr th:only-of-type {\n",
       "        vertical-align: middle;\n",
       "    }\n",
       "\n",
       "    .dataframe tbody tr th {\n",
       "        vertical-align: top;\n",
       "    }\n",
       "\n",
       "    .dataframe thead th {\n",
       "        text-align: right;\n",
       "    }\n",
       "</style>\n",
       "<table border=\"1\" class=\"dataframe\">\n",
       "  <thead>\n",
       "    <tr style=\"text-align: right;\">\n",
       "      <th>suspended_RT</th>\n",
       "      <th>False</th>\n",
       "      <th>True</th>\n",
       "    </tr>\n",
       "    <tr>\n",
       "      <th>period</th>\n",
       "      <th></th>\n",
       "      <th></th>\n",
       "    </tr>\n",
       "  </thead>\n",
       "  <tbody>\n",
       "    <tr>\n",
       "      <th>period1</th>\n",
       "      <td>0.195168</td>\n",
       "      <td>0.804832</td>\n",
       "    </tr>\n",
       "    <tr>\n",
       "      <th>period2</th>\n",
       "      <td>0.301045</td>\n",
       "      <td>0.698955</td>\n",
       "    </tr>\n",
       "    <tr>\n",
       "      <th>period3</th>\n",
       "      <td>0.331112</td>\n",
       "      <td>0.668888</td>\n",
       "    </tr>\n",
       "    <tr>\n",
       "      <th>period4</th>\n",
       "      <td>0.843825</td>\n",
       "      <td>0.156175</td>\n",
       "    </tr>\n",
       "  </tbody>\n",
       "</table>\n",
       "</div>"
      ],
      "text/plain": [
       "suspended_RT     False      True\n",
       "period                          \n",
       "period1       0.195168  0.804832\n",
       "period2       0.301045  0.698955\n",
       "period3       0.331112  0.668888\n",
       "period4       0.843825  0.156175"
      ]
     },
     "execution_count": 354,
     "metadata": {},
     "output_type": "execute_result"
    }
   ],
   "source": [
    "print(\"Proportion of tweets coming from suspended accounts among the cross-country retweets from US containing low-credible domains\")\n",
    "cross_urls_df.query(\"RT_user_country_code == 'US'\").query(\"LC\") \\\n",
    ".assign(suspended_RT = lambda x: x[\"RT_user_screen_name\"].isin(suspended_users)) \\\n",
    ".groupby([\"period\", \"suspended_RT\"]).count()[\"urls\"].unstack().apply(lambda x: x / x.sum(), axis = 1)"
   ]
  },
  {
   "cell_type": "markdown",
   "metadata": {},
   "source": [
    "Until period3 most of the misinformation imported by other countries from US was coming from suspended accounts.\n",
    "US suspended accounts were very successfull in spreading misinformation to other countries."
   ]
  },
  {
   "cell_type": "markdown",
   "metadata": {},
   "source": [
    "## Does misinformation decrease in other countries?"
   ]
  },
  {
   "cell_type": "code",
   "execution_count": 355,
   "metadata": {},
   "outputs": [
    {
     "data": {
      "text/html": [
       "<div>\n",
       "<style scoped>\n",
       "    .dataframe tbody tr th:only-of-type {\n",
       "        vertical-align: middle;\n",
       "    }\n",
       "\n",
       "    .dataframe tbody tr th {\n",
       "        vertical-align: top;\n",
       "    }\n",
       "\n",
       "    .dataframe thead th {\n",
       "        text-align: right;\n",
       "    }\n",
       "</style>\n",
       "<table border=\"1\" class=\"dataframe\">\n",
       "  <thead>\n",
       "    <tr style=\"text-align: right;\">\n",
       "      <th></th>\n",
       "      <th>user</th>\n",
       "      <th>country</th>\n",
       "      <th>lang</th>\n",
       "      <th>urls</th>\n",
       "      <th>domain</th>\n",
       "      <th>LC</th>\n",
       "      <th>period</th>\n",
       "    </tr>\n",
       "  </thead>\n",
       "  <tbody>\n",
       "    <tr>\n",
       "      <th>0</th>\n",
       "      <td>Just4TheCause</td>\n",
       "      <td>US</td>\n",
       "      <td>da</td>\n",
       "      <td>https://www.ncbi.nlm.nih.gov/pubmed/19880568?f...</td>\n",
       "      <td>ncbi.nlm.nih.gov</td>\n",
       "      <td>False</td>\n",
       "      <td>period1</td>\n",
       "    </tr>\n",
       "    <tr>\n",
       "      <th>2</th>\n",
       "      <td>karykruger</td>\n",
       "      <td>US</td>\n",
       "      <td>da</td>\n",
       "      <td>https://www.distractify.com/p/hypocat-vaccine?...</td>\n",
       "      <td>distractify.com</td>\n",
       "      <td>False</td>\n",
       "      <td>period1</td>\n",
       "    </tr>\n",
       "    <tr>\n",
       "      <th>3</th>\n",
       "      <td>frankshrum</td>\n",
       "      <td>US</td>\n",
       "      <td>da</td>\n",
       "      <td>https://e.vnexpress.net/news/news/twins-die-af...</td>\n",
       "      <td>e.vnexpress.net</td>\n",
       "      <td>False</td>\n",
       "      <td>period1</td>\n",
       "    </tr>\n",
       "    <tr>\n",
       "      <th>4</th>\n",
       "      <td>Jankowski79</td>\n",
       "      <td>US</td>\n",
       "      <td>da</td>\n",
       "      <td>https://www.fda.gov/vaccines-blood-biologics/s...</td>\n",
       "      <td>fda.gov</td>\n",
       "      <td>False</td>\n",
       "      <td>period1</td>\n",
       "    </tr>\n",
       "    <tr>\n",
       "      <th>6</th>\n",
       "      <td>towarzysz_polak</td>\n",
       "      <td>US</td>\n",
       "      <td>de</td>\n",
       "      <td>https://www.spiegel.de/gesundheit/diagnose/tk-...</td>\n",
       "      <td>spiegel.de</td>\n",
       "      <td>False</td>\n",
       "      <td>period1</td>\n",
       "    </tr>\n",
       "  </tbody>\n",
       "</table>\n",
       "</div>"
      ],
      "text/plain": [
       "              user country lang  \\\n",
       "0    Just4TheCause      US   da   \n",
       "2       karykruger      US   da   \n",
       "3       frankshrum      US   da   \n",
       "4      Jankowski79      US   da   \n",
       "6  towarzysz_polak      US   de   \n",
       "\n",
       "                                                urls            domain     LC  \\\n",
       "0  https://www.ncbi.nlm.nih.gov/pubmed/19880568?f...  ncbi.nlm.nih.gov  False   \n",
       "2  https://www.distractify.com/p/hypocat-vaccine?...   distractify.com  False   \n",
       "3  https://e.vnexpress.net/news/news/twins-die-af...   e.vnexpress.net  False   \n",
       "4  https://www.fda.gov/vaccines-blood-biologics/s...           fda.gov  False   \n",
       "6  https://www.spiegel.de/gesundheit/diagnose/tk-...        spiegel.de  False   \n",
       "\n",
       "    period  \n",
       "0  period1  \n",
       "2  period1  \n",
       "3  period1  \n",
       "4  period1  \n",
       "6  period1  "
      ]
     },
     "execution_count": 355,
     "metadata": {},
     "output_type": "execute_result"
    }
   ],
   "source": [
    "#dataframe with all the urls tweeted, with True/False label for low-credible\n",
    "countries_urls = pd.concat([read_data(period, country, \"\", \"url\").query(\"domain not in @neutrals\") \\\n",
    "                            .assign(LC = lambda x: x[\"domain\"].isin(blacklist), period = period, \n",
    "                                    country = country)\n",
    "                            for country in countries\n",
    "                            for period in periods\n",
    "                           ])\n",
    "countries_urls.head()"
   ]
  },
  {
   "cell_type": "code",
   "execution_count": null,
   "metadata": {},
   "outputs": [],
   "source": []
  },
  {
   "cell_type": "code",
   "execution_count": 368,
   "metadata": {},
   "outputs": [
    {
     "name": "stdout",
     "output_type": "stream",
     "text": [
      "Proportion of low-credible domains\n"
     ]
    },
    {
     "data": {
      "text/html": [
       "<div>\n",
       "<style scoped>\n",
       "    .dataframe tbody tr th:only-of-type {\n",
       "        vertical-align: middle;\n",
       "    }\n",
       "\n",
       "    .dataframe tbody tr th {\n",
       "        vertical-align: top;\n",
       "    }\n",
       "\n",
       "    .dataframe thead th {\n",
       "        text-align: right;\n",
       "    }\n",
       "</style>\n",
       "<table border=\"1\" class=\"dataframe\">\n",
       "  <thead>\n",
       "    <tr style=\"text-align: right;\">\n",
       "      <th></th>\n",
       "      <th>country</th>\n",
       "      <th>period</th>\n",
       "      <th>LC</th>\n",
       "    </tr>\n",
       "  </thead>\n",
       "  <tbody>\n",
       "    <tr>\n",
       "      <th>0</th>\n",
       "      <td>AU</td>\n",
       "      <td>period1</td>\n",
       "      <td>0.093655</td>\n",
       "    </tr>\n",
       "    <tr>\n",
       "      <th>1</th>\n",
       "      <td>AU</td>\n",
       "      <td>period2</td>\n",
       "      <td>0.083493</td>\n",
       "    </tr>\n",
       "    <tr>\n",
       "      <th>2</th>\n",
       "      <td>AU</td>\n",
       "      <td>period3</td>\n",
       "      <td>0.133385</td>\n",
       "    </tr>\n",
       "    <tr>\n",
       "      <th>3</th>\n",
       "      <td>AU</td>\n",
       "      <td>period4</td>\n",
       "      <td>0.068644</td>\n",
       "    </tr>\n",
       "    <tr>\n",
       "      <th>4</th>\n",
       "      <td>CA</td>\n",
       "      <td>period1</td>\n",
       "      <td>0.123140</td>\n",
       "    </tr>\n",
       "  </tbody>\n",
       "</table>\n",
       "</div>"
      ],
      "text/plain": [
       "  country   period        LC\n",
       "0      AU  period1  0.093655\n",
       "1      AU  period2  0.083493\n",
       "2      AU  period3  0.133385\n",
       "3      AU  period4  0.068644\n",
       "4      CA  period1  0.123140"
      ]
     },
     "execution_count": 368,
     "metadata": {},
     "output_type": "execute_result"
    }
   ],
   "source": [
    "#filter the countries speaking one of the languages we have low-credible domains\n",
    "data = (countries_urls[countries_urls[\"country\"].isin([\"GB\", \"IE\", \"CA\", \"AU\", \"NZ\", \"FR\", \"IT\", \"GR\"])].groupby([\"country\", \"period\", \"LC\"]).count()[\"urls\"].unstack() - \\\n",
    "(cross_urls_df[cross_urls_df[\"user_country_code\"].isin([\"GB\", \"IE\", \"CA\", \"AU\", \"NZ\", \"FR\", \"IT\", \"GR\"])] \\\n",
    ".query(\"~neutral\").rename(columns = {\"user_country_code\": \"country\"}).groupby([\"country\", \"period\", \"LC\"]).count().unstack()[\"urls\"])) \\\n",
    ".apply(lambda x: x / x.sum(), axis = 1)[True].reset_index().rename(columns = {True: \"LC\"})\n",
    "print(\"Proportion of low-credible domains\")\n",
    "data.head()"
   ]
  },
  {
   "cell_type": "code",
   "execution_count": 369,
   "metadata": {},
   "outputs": [
    {
     "data": {
      "image/png": "[encoded data removed]",
      "text/plain": [
       "<Figure size 576x432 with 1 Axes>"
      ]
     },
     "metadata": {
      "needs_background": "light"
     },
     "output_type": "display_data"
    }
   ],
   "source": [
    "fig, axes = plt.subplots(1,1,figsize = [8, 6])\n",
    "\n",
    "sns.violinplot(data = data, \n",
    "               x = \"period\", y = \"LC\")\n",
    "\n",
    "axes.set_xticklabels([\"PC\", \"PV\", \"VD\", \"VR\"], fontsize = 20)\n",
    "axes.set_xlabel(\"\")\n",
    "axes.set_ylabel(\"Proportion LC Domain\", fontsize = 20)\n",
    "plt.yticks(fontsize = 18)\n",
    "\n",
    "medians = []\n",
    "for k in range(4):\n",
    "    period = \"period\" + str(k + 1)\n",
    "    median = data.query(\"period == @period\")[\"LC\"].median()\n",
    "    medians.append(median)\n",
    "    \n",
    "    sns.lineplot(x = [k - 0.2, k + 0.2], y = median, color = \"lightgrey\", linewidth = 2)\n",
    "\n"
   ]
  },
  {
   "cell_type": "code",
   "execution_count": 370,
   "metadata": {},
   "outputs": [
    {
     "data": {
      "text/plain": [
       "Ttest_indResult(statistic=-2.44596153739191, pvalue=0.020527418872675954)"
      ]
     },
     "execution_count": 370,
     "metadata": {},
     "output_type": "execute_result"
    }
   ],
   "source": [
    "ttest_ind(data.query(\"period == 'period4'\")[\"LC\"], data.query(\"period != 'period4'\")[\"LC\"])"
   ]
  },
  {
   "cell_type": "markdown",
   "metadata": {},
   "source": [
    "p-value < 0.05\n",
    "\n",
    "The proportion of low-credible domains in period4 is significantly lower than in other periods."
   ]
  },
  {
   "cell_type": "code",
   "execution_count": null,
   "metadata": {},
   "outputs": [],
   "source": []
  },
  {
   "cell_type": "code",
   "execution_count": null,
   "metadata": {},
   "outputs": [],
   "source": []
  },
  {
   "cell_type": "code",
   "execution_count": null,
   "metadata": {},
   "outputs": [],
   "source": []
  },
  {
   "cell_type": "code",
   "execution_count": null,
   "metadata": {},
   "outputs": [],
   "source": []
  },
  {
   "cell_type": "code",
   "execution_count": null,
   "metadata": {},
   "outputs": [],
   "source": []
  }
 ],
 "metadata": {
  "kernelspec": {
   "display_name": "Python 3",
   "language": "python",
   "name": "python3"
  },
  "language_info": {
   "codemirror_mode": {
    "name": "ipython",
    "version": 3
   },
   "file_extension": ".py",
   "mimetype": "text/x-python",
   "name": "python",
   "nbconvert_exporter": "python",
   "pygments_lexer": "ipython3",
   "version": "3.8.5"
  }
 },
 "nbformat": 4,
 "nbformat_minor": 4
}
