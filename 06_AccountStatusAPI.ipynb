{
 "cells": [
  {
   "cell_type": "markdown",
   "metadata": {},
   "source": [
    "# Account Status\n",
    "In this notebook we query the status of the users in the RT network with the Authors API.\n",
    "\n",
    "- If the user is found, the API returns the info about its account\n",
    "- If the user is suspended, it returns error \"account suspended\"\n",
    "- If the user deleted the account itself, the API does not find him\n",
    "\n",
    "By distinguishing between the type of error, we can find the status of all the users.\n",
    "\n",
    "We save dataframes with columns user - account status in folder_EU_AM\n",
    "\n",
    "The limit for the API is 450 request every 5 minutes, so, when I reach the limit, I sleep the program for 5 minutes before resuming. \n"
   ]
  },
  {
   "cell_type": "code",
   "execution_count": 10,
   "metadata": {},
   "outputs": [],
   "source": [
    "import pandas as pd\n",
    "from glob import glob\n",
    "import numpy as np\n",
    "import tweepy\n",
    "import json\n",
    "import time\n",
    "import matplotlib.pyplot as plt\n",
    "from pandas.core.common import flatten\n",
    "import collections"
   ]
  },
  {
   "cell_type": "code",
   "execution_count": 6,
   "metadata": {},
   "outputs": [],
   "source": [
    "folder_EU_AM = \"/data/public/jlenti/multilang-vax/EuropeAmerica_RTCO\"\n",
    "periods = [\"period1\", \"period2\", \"period3\", \"period4\"]\n",
    "#dataframes with all the pairs lang-countries, with the selected countries\n",
    "selected_pairs = pd.read_csv(\"/home/jlenti/Files/country_langs_selected_2104.csv\", index_col = 0)\n"
   ]
  },
  {
   "cell_type": "code",
   "execution_count": 2,
   "metadata": {},
   "outputs": [],
   "source": [
    "#keys and tokens for Twitter Streaming API\n",
    "consumer_key = \"k1yozn6RVRi8SZPUe2DYYRHEc\"\n",
    "\n",
    "consumer_secret = \"m2S73Xz5NCPeMogXvmEP5ResTFf9BiKTJSytkgBtInMWHndhFT\"\n",
    "access_token = \"1397491324203544577-UBmwMXd9RGwyY2WF9fM78KAvBkyGh2\"\n",
    "access_token_secret = \"UfsydKasrsKObUhPpHKE1YZHOhegKiutvQqCSXBIbds9A\"\n",
    "\n",
    "auth = tweepy.OAuthHandler(consumer_key, consumer_secret)\n",
    "auth.set_access_token(access_token, access_token_secret)\n",
    "api = tweepy.API(auth)\n"
   ]
  },
  {
   "cell_type": "code",
   "execution_count": 5,
   "metadata": {},
   "outputs": [],
   "source": [
    "def users_status_list(usr):\n",
    "    users_status = []\n",
    "    for user in usr:\n",
    "            #need a while cycle to repeat uncompleted iterations. When I exceed API limit it return a rate error.\n",
    "            #when such error raises I repeat the iteration (after 5 minutes)\n",
    "            #completed T/F is used to decide when to repeat the iteration\n",
    "            completed = False\n",
    "            while not completed:\n",
    "                try:\n",
    "                    #retrieve with API \n",
    "                    usr_api = api.get_user(user)\n",
    "                    #if everything ok the user exists, and I label user as \"found\"\n",
    "                    users_status.append((user, \"found\"))\n",
    "                    completed = True\n",
    "                except tweepy.TweepError as e:\n",
    "                    #it gives error, \"username is suspended\" if the user has been suspended\n",
    "                    if \"suspended\" in str(e):\n",
    "                        users_status.append((user, \"suspended\"))\n",
    "                        completed = True\n",
    "                    #it gives error \"username not found\" if it does not exist and it is not suspended (may be deleted)\n",
    "                    elif \"not found\" in str(e):\n",
    "                        users_status.append((user, \"not found\"))\n",
    "                        completed = True\n",
    "                    #when I exceed API limit I sleep the program for 5 minutes and repeat the step (completed is False)\n",
    "                    elif \"Rate limit exceeded\" in str(e):\n",
    "                        print(\"Sleep \", len(users_status))\n",
    "                        time.sleep(60*5)\n",
    "    return users_status\n",
    "    "
   ]
  },
  {
   "cell_type": "markdown",
   "metadata": {},
   "source": [
    "## Example"
   ]
  },
  {
   "cell_type": "code",
   "execution_count": 20,
   "metadata": {},
   "outputs": [],
   "source": [
    "country, lang = \"IT\", \"it\"\n",
    "period = \"period1\"\n",
    "\n",
    "#users = pd.read_csv(sorted(glob()))"
   ]
  },
  {
   "cell_type": "code",
   "execution_count": 22,
   "metadata": {},
   "outputs": [],
   "source": [
    "#keep only 40 users to fast the example\n",
    "users = pd.read_csv(sorted(glob(\"/\".join([folder_EU_AM, period, \"*\".join([country, lang, \"RT\", \"com\", \"\"])])))[0])[\"user\"].tolist()[:40]"
   ]
  },
  {
   "cell_type": "code",
   "execution_count": 23,
   "metadata": {},
   "outputs": [],
   "source": [
    "status = users_status_list(users)"
   ]
  },
  {
   "cell_type": "code",
   "execution_count": 26,
   "metadata": {},
   "outputs": [
    {
     "data": {
      "text/html": [
       "<div>\n",
       "<style scoped>\n",
       "    .dataframe tbody tr th:only-of-type {\n",
       "        vertical-align: middle;\n",
       "    }\n",
       "\n",
       "    .dataframe tbody tr th {\n",
       "        vertical-align: top;\n",
       "    }\n",
       "\n",
       "    .dataframe thead th {\n",
       "        text-align: right;\n",
       "    }\n",
       "</style>\n",
       "<table border=\"1\" class=\"dataframe\">\n",
       "  <thead>\n",
       "    <tr style=\"text-align: right;\">\n",
       "      <th></th>\n",
       "      <th>user</th>\n",
       "      <th>status</th>\n",
       "    </tr>\n",
       "  </thead>\n",
       "  <tbody>\n",
       "    <tr>\n",
       "      <th>0</th>\n",
       "      <td>000Salvatore</td>\n",
       "      <td>suspended</td>\n",
       "    </tr>\n",
       "    <tr>\n",
       "      <th>1</th>\n",
       "      <td>CriticaScient</td>\n",
       "      <td>found</td>\n",
       "    </tr>\n",
       "    <tr>\n",
       "      <th>2</th>\n",
       "      <td>DavideFalchieri</td>\n",
       "      <td>not found</td>\n",
       "    </tr>\n",
       "    <tr>\n",
       "      <th>3</th>\n",
       "      <td>FmMosca</td>\n",
       "      <td>suspended</td>\n",
       "    </tr>\n",
       "    <tr>\n",
       "      <th>4</th>\n",
       "      <td>GavinoSanna1967</td>\n",
       "      <td>found</td>\n",
       "    </tr>\n",
       "  </tbody>\n",
       "</table>\n",
       "</div>"
      ],
      "text/plain": [
       "              user     status\n",
       "0     000Salvatore  suspended\n",
       "1    CriticaScient      found\n",
       "2  DavideFalchieri  not found\n",
       "3          FmMosca  suspended\n",
       "4  GavinoSanna1967      found"
      ]
     },
     "execution_count": 26,
     "metadata": {},
     "output_type": "execute_result"
    }
   ],
   "source": [
    "users_status = pd.DataFrame(status, columns = [\"user\", \"status\"])\n",
    "users_status.head()"
   ]
  },
  {
   "cell_type": "markdown",
   "metadata": {},
   "source": [
    "## All countries"
   ]
  },
  {
   "cell_type": "code",
   "execution_count": null,
   "metadata": {},
   "outputs": [],
   "source": [
    "for period in periods:\n",
    "    for _, (country, lang) in selected_pairs.iterrows():\n",
    "        #extract all users in RT network and CO network\n",
    "        RT_users = pd.read_csv(sorted(glob(\"/\".join([folder_EU_AM, period, \"*\". \\\n",
    "                                                     join([country, lang, \"RT\", \"com\", \"\"])])))[0])[\"user\"].tolist()\n",
    "        CO_users = pd.read_csv(sorted(glob(\"/\".join([folder_EU_AM, period, \"*\". \\\n",
    "                                                     join([country, lang, \"CO\", \"com\", \"\"])])))[0])[\"user\"].tolist()\n",
    "        users = set(RT_users)|set(CO_users)\n",
    "        #read the account status from previous periods, same country, to find users that we aljust know the status\n",
    "        previous_users_satus = pd.concat([pd.read_csv(file).query(\"user in @users\")\n",
    "                                    for file in sorted(glob(\"/\".join([folder_EU_AM, \"*\", country + \"*status*\"])))\n",
    "                                   ])\n",
    "        #since the procedure is very time consuming, we request the status only of the users we don't know yet\n",
    "        new_users = set(users) - set(previous_users[user])\n",
    "        #request the status\n",
    "        new_status = users_status_list(users)\n",
    "        #build the pandas dataframe\n",
    "        new_users_status = pd.DataFrame(status, columns = [\"user\", \"status\"])\n",
    "        #create a dataframe with the users status of the users in all the periods we know\n",
    "        users_status = pd.concat([previous_users_status, new_users_status])\n",
    "        #save the dataframe        \n",
    "        users_status.to_csv(\"/\".join([folder_EU_AM, period, \"_\".join(country, lang, period, \"user\", \"status.csv\")]))        \n",
    "        "
   ]
  },
  {
   "cell_type": "code",
   "execution_count": null,
   "metadata": {},
   "outputs": [],
   "source": []
  },
  {
   "cell_type": "code",
   "execution_count": null,
   "metadata": {},
   "outputs": [],
   "source": []
  },
  {
   "cell_type": "code",
   "execution_count": null,
   "metadata": {},
   "outputs": [],
   "source": []
  }
 ],
 "metadata": {
  "kernelspec": {
   "display_name": "Python 3",
   "language": "python",
   "name": "python3"
  },
  "language_info": {
   "codemirror_mode": {
    "name": "ipython",
    "version": 3
   },
   "file_extension": ".py",
   "mimetype": "text/x-python",
   "name": "python",
   "nbconvert_exporter": "python",
   "pygments_lexer": "ipython3",
   "version": "3.8.5"
  }
 },
 "nbformat": 4,
 "nbformat_minor": 4
}
