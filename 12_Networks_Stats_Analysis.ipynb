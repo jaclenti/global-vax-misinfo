{
 "cells": [
  {
   "cell_type": "markdown",
   "metadata": {},
   "source": [
    "# 12 Networks Statistics Analysis\n",
    "In previous notebook, we extracted all the stats about network properties of RT networks, for each country, each period, as well as some statistics of users behaviours or account status and comparison novax community and rest of the network.\n",
    "Here, we perform some simple analysis to describe networks over time, in different countries. "
   ]
  },
  {
   "cell_type": "code",
   "execution_count": 1,
   "metadata": {},
   "outputs": [],
   "source": [
    "import pandas as pd\n",
    "import random\n",
    "from glob import glob\n",
    "from scipy.stats import ttest_ind, gaussian_kde\n",
    "import numpy as np\n",
    "import seaborn as sns\n",
    "\n",
    "import matplotlib.patches as mpatches\n",
    "from matplotlib.ticker import LogFormatterExponent, EngFormatter\n",
    "from matplotlib.colors import LogNorm, SymLogNorm, Normalize, ListedColormap, TwoSlopeNorm\n",
    "import matplotlib.dates as mdates\n",
    "from matplotlib.cm import get_cmap\n",
    "from matplotlib.ticker import PercentFormatter\n",
    "from matplotlib.patches import Rectangle\n",
    "import matplotlib.pyplot as plt"
   ]
  },
  {
   "cell_type": "code",
   "execution_count": 2,
   "metadata": {},
   "outputs": [],
   "source": [
    "#stats are stored in this dataframe\n",
    "info_df = pd.read_csv(\"/home/jlenti/Files/info_df_NoVaxCommunities_Summary_0104.csv\", index_col = [0,1])\n",
    "\n",
    "#data on edges and users are stored in this folder\n",
    "folder = \"/data/public/jlenti/multilang-vax/EuropeAmerica_RTCO\"\n",
    "plots_folder = \"/home/jlenti/plots/NoVax_Communities\"\n",
    "\n",
    "#list of novax communities\n",
    "#i transform it into a dataframe with columns (id, country, period, community)\n",
    "#novax_com = pd.read_csv(\"/home/jlenti/Files/novax_communities_thres066_0402.csv\", index_col = 0).apply(lambda x: pd.Series([x[0]] + x[0].split(\"_\"), index = [\"com\", \"country\", \"period\", \"community\"]), axis = 1)\n",
    "novax_com = pd.read_csv(\"/home/jlenti/Files/novax_communities_9tot_antivax_0902.csv\", index_col = 0).apply(lambda x: pd.Series([x[0]] + x[0].split(\"_\"), index = [\"com\", \"country\", \"period\", \"community\"]), axis = 1)\n",
    "\n",
    "#list of all countries (size ordered)\n",
    "countries = [\"US\", \"BR\", \"AR\", \"GB\", \"ES\", \"MX\", \"FR\", \"CA\", \"TR\", \"VE\", \"AU\", \"CO\", \"IT\", \"CL\", \"DE\",\n",
    "             \"PT\", \"IE\", \"PY\", \"EC\", \"RU\", \"UY\", \"NZ\", \"PL\", \"NL\", \"PE\", \"CU\", \"PA\", \"GR\"]\n",
    "#sorted by language\n",
    "lang_sort = [\"US\", \"IE\", \"GB\", \"CA\", \"NZ\", \"AU\", \"FR\", \"IT\", \"PL\", \"NL\", \"DE\", \"RU\", \"TR\", \n",
    "             \"BR\", \"PT\", \"GR\", \"AR\", \"ES\", \"MX\",\"VE\", \"CO\", \"CL\",\n",
    "             \"PY\", \"EC\", \"UY\", \"PE\", \"CU\", \"PA\"]\n",
    "#countries speaking english or italian, the ones with a list of low-credible domains\n",
    "LC_countries = [\"IT\", \"US\", \"GB\", \"AU\", \"NZ\", \"IE\"]\n",
    "#countries with a novax community, sorted by language\n",
    "lang_sort_novax = [\"US\", \"GB\", \"IE\", \"AU\", \"NZ\", \"CA\", \"DE\", \"FR\", \"GR\", \"IT\",\n",
    "                   \"NL\", \"PL\", \"RU\",  \"BR\", \"PA\", \"CU\", \"ES\", \"UY\"]\n",
    "#countries with filter on weight\n",
    "filtered_countries = [\"BR\", \"ES\", \"GB\", \"MX\", \"US\"]\n",
    "#named periods\n",
    "periods = [\"period\" + str(u + 1) for u in range(4)]\n"
   ]
  },
  {
   "cell_type": "code",
   "execution_count": 88,
   "metadata": {},
   "outputs": [],
   "source": [
    "en_countries = [\"US\", \"GB\", \"CA\", \"IE\", \"AU\", \"NZ\"]\n",
    "es_countries = [\"AR\", \"ES\", \"MX\",\"VE\", \"CO\", \"CL\",\"PY\", \"EC\", \"UY\", \"PE\", \"CU\", \"PA\"]"
   ]
  },
  {
   "cell_type": "code",
   "execution_count": 3,
   "metadata": {
    "scrolled": true
   },
   "outputs": [
    {
     "data": {
      "text/html": [
       "<div>\n",
       "<style scoped>\n",
       "    .dataframe tbody tr th:only-of-type {\n",
       "        vertical-align: middle;\n",
       "    }\n",
       "\n",
       "    .dataframe tbody tr th {\n",
       "        vertical-align: top;\n",
       "    }\n",
       "\n",
       "    .dataframe thead th {\n",
       "        text-align: right;\n",
       "    }\n",
       "</style>\n",
       "<table border=\"1\" class=\"dataframe\">\n",
       "  <thead>\n",
       "    <tr style=\"text-align: right;\">\n",
       "      <th></th>\n",
       "      <th>com</th>\n",
       "      <th>country</th>\n",
       "      <th>period</th>\n",
       "      <th>community</th>\n",
       "    </tr>\n",
       "  </thead>\n",
       "  <tbody>\n",
       "    <tr>\n",
       "      <th>0</th>\n",
       "      <td>AU_1_7</td>\n",
       "      <td>AU</td>\n",
       "      <td>1</td>\n",
       "      <td>7</td>\n",
       "    </tr>\n",
       "    <tr>\n",
       "      <th>1</th>\n",
       "      <td>AU_1_8</td>\n",
       "      <td>AU</td>\n",
       "      <td>1</td>\n",
       "      <td>8</td>\n",
       "    </tr>\n",
       "    <tr>\n",
       "      <th>2</th>\n",
       "      <td>AU_2_2</td>\n",
       "      <td>AU</td>\n",
       "      <td>2</td>\n",
       "      <td>2</td>\n",
       "    </tr>\n",
       "    <tr>\n",
       "      <th>3</th>\n",
       "      <td>AU_3_2</td>\n",
       "      <td>AU</td>\n",
       "      <td>3</td>\n",
       "      <td>2</td>\n",
       "    </tr>\n",
       "    <tr>\n",
       "      <th>4</th>\n",
       "      <td>AU_4_5</td>\n",
       "      <td>AU</td>\n",
       "      <td>4</td>\n",
       "      <td>5</td>\n",
       "    </tr>\n",
       "    <tr>\n",
       "      <th>5</th>\n",
       "      <td>BR_2_2</td>\n",
       "      <td>BR</td>\n",
       "      <td>2</td>\n",
       "      <td>2</td>\n",
       "    </tr>\n",
       "    <tr>\n",
       "      <th>6</th>\n",
       "      <td>BR_3_2</td>\n",
       "      <td>BR</td>\n",
       "      <td>3</td>\n",
       "      <td>2</td>\n",
       "    </tr>\n",
       "    <tr>\n",
       "      <th>7</th>\n",
       "      <td>CA_1_2</td>\n",
       "      <td>CA</td>\n",
       "      <td>1</td>\n",
       "      <td>2</td>\n",
       "    </tr>\n",
       "    <tr>\n",
       "      <th>8</th>\n",
       "      <td>CA_2_2</td>\n",
       "      <td>CA</td>\n",
       "      <td>2</td>\n",
       "      <td>2</td>\n",
       "    </tr>\n",
       "    <tr>\n",
       "      <th>9</th>\n",
       "      <td>CA_3_2</td>\n",
       "      <td>CA</td>\n",
       "      <td>3</td>\n",
       "      <td>2</td>\n",
       "    </tr>\n",
       "    <tr>\n",
       "      <th>10</th>\n",
       "      <td>CL_3_2</td>\n",
       "      <td>CL</td>\n",
       "      <td>3</td>\n",
       "      <td>2</td>\n",
       "    </tr>\n",
       "    <tr>\n",
       "      <th>11</th>\n",
       "      <td>CU_1_4</td>\n",
       "      <td>CU</td>\n",
       "      <td>1</td>\n",
       "      <td>4</td>\n",
       "    </tr>\n",
       "    <tr>\n",
       "      <th>12</th>\n",
       "      <td>CU_3_7</td>\n",
       "      <td>CU</td>\n",
       "      <td>3</td>\n",
       "      <td>7</td>\n",
       "    </tr>\n",
       "    <tr>\n",
       "      <th>13</th>\n",
       "      <td>DE_1_3</td>\n",
       "      <td>DE</td>\n",
       "      <td>1</td>\n",
       "      <td>3</td>\n",
       "    </tr>\n",
       "    <tr>\n",
       "      <th>14</th>\n",
       "      <td>DE_1_5</td>\n",
       "      <td>DE</td>\n",
       "      <td>1</td>\n",
       "      <td>5</td>\n",
       "    </tr>\n",
       "    <tr>\n",
       "      <th>15</th>\n",
       "      <td>DE_2_2</td>\n",
       "      <td>DE</td>\n",
       "      <td>2</td>\n",
       "      <td>2</td>\n",
       "    </tr>\n",
       "    <tr>\n",
       "      <th>16</th>\n",
       "      <td>DE_3_3</td>\n",
       "      <td>DE</td>\n",
       "      <td>3</td>\n",
       "      <td>3</td>\n",
       "    </tr>\n",
       "    <tr>\n",
       "      <th>17</th>\n",
       "      <td>DE_4_2</td>\n",
       "      <td>DE</td>\n",
       "      <td>4</td>\n",
       "      <td>2</td>\n",
       "    </tr>\n",
       "    <tr>\n",
       "      <th>18</th>\n",
       "      <td>ES_2_2</td>\n",
       "      <td>ES</td>\n",
       "      <td>2</td>\n",
       "      <td>2</td>\n",
       "    </tr>\n",
       "    <tr>\n",
       "      <th>19</th>\n",
       "      <td>ES_3_3</td>\n",
       "      <td>ES</td>\n",
       "      <td>3</td>\n",
       "      <td>3</td>\n",
       "    </tr>\n",
       "    <tr>\n",
       "      <th>20</th>\n",
       "      <td>FR_2_1</td>\n",
       "      <td>FR</td>\n",
       "      <td>2</td>\n",
       "      <td>1</td>\n",
       "    </tr>\n",
       "    <tr>\n",
       "      <th>21</th>\n",
       "      <td>FR_3_3</td>\n",
       "      <td>FR</td>\n",
       "      <td>3</td>\n",
       "      <td>3</td>\n",
       "    </tr>\n",
       "    <tr>\n",
       "      <th>22</th>\n",
       "      <td>GB_1_5</td>\n",
       "      <td>GB</td>\n",
       "      <td>1</td>\n",
       "      <td>5</td>\n",
       "    </tr>\n",
       "    <tr>\n",
       "      <th>23</th>\n",
       "      <td>GB_1_6</td>\n",
       "      <td>GB</td>\n",
       "      <td>1</td>\n",
       "      <td>6</td>\n",
       "    </tr>\n",
       "    <tr>\n",
       "      <th>24</th>\n",
       "      <td>GB_2_2</td>\n",
       "      <td>GB</td>\n",
       "      <td>2</td>\n",
       "      <td>2</td>\n",
       "    </tr>\n",
       "    <tr>\n",
       "      <th>25</th>\n",
       "      <td>GB_2_3</td>\n",
       "      <td>GB</td>\n",
       "      <td>2</td>\n",
       "      <td>3</td>\n",
       "    </tr>\n",
       "    <tr>\n",
       "      <th>26</th>\n",
       "      <td>GB_3_2</td>\n",
       "      <td>GB</td>\n",
       "      <td>3</td>\n",
       "      <td>2</td>\n",
       "    </tr>\n",
       "    <tr>\n",
       "      <th>27</th>\n",
       "      <td>GB_4_2</td>\n",
       "      <td>GB</td>\n",
       "      <td>4</td>\n",
       "      <td>2</td>\n",
       "    </tr>\n",
       "    <tr>\n",
       "      <th>28</th>\n",
       "      <td>GR_2_4</td>\n",
       "      <td>GR</td>\n",
       "      <td>2</td>\n",
       "      <td>4</td>\n",
       "    </tr>\n",
       "    <tr>\n",
       "      <th>29</th>\n",
       "      <td>GR_3_3</td>\n",
       "      <td>GR</td>\n",
       "      <td>3</td>\n",
       "      <td>3</td>\n",
       "    </tr>\n",
       "    <tr>\n",
       "      <th>30</th>\n",
       "      <td>GR_4_4</td>\n",
       "      <td>GR</td>\n",
       "      <td>4</td>\n",
       "      <td>4</td>\n",
       "    </tr>\n",
       "    <tr>\n",
       "      <th>31</th>\n",
       "      <td>IE_1_2</td>\n",
       "      <td>IE</td>\n",
       "      <td>1</td>\n",
       "      <td>2</td>\n",
       "    </tr>\n",
       "    <tr>\n",
       "      <th>32</th>\n",
       "      <td>IE_2_2</td>\n",
       "      <td>IE</td>\n",
       "      <td>2</td>\n",
       "      <td>2</td>\n",
       "    </tr>\n",
       "    <tr>\n",
       "      <th>33</th>\n",
       "      <td>IE_3_3</td>\n",
       "      <td>IE</td>\n",
       "      <td>3</td>\n",
       "      <td>3</td>\n",
       "    </tr>\n",
       "    <tr>\n",
       "      <th>34</th>\n",
       "      <td>IE_4_4</td>\n",
       "      <td>IE</td>\n",
       "      <td>4</td>\n",
       "      <td>4</td>\n",
       "    </tr>\n",
       "    <tr>\n",
       "      <th>35</th>\n",
       "      <td>IT_1_1</td>\n",
       "      <td>IT</td>\n",
       "      <td>1</td>\n",
       "      <td>1</td>\n",
       "    </tr>\n",
       "    <tr>\n",
       "      <th>36</th>\n",
       "      <td>IT_2_2</td>\n",
       "      <td>IT</td>\n",
       "      <td>2</td>\n",
       "      <td>2</td>\n",
       "    </tr>\n",
       "    <tr>\n",
       "      <th>37</th>\n",
       "      <td>IT_3_2</td>\n",
       "      <td>IT</td>\n",
       "      <td>3</td>\n",
       "      <td>2</td>\n",
       "    </tr>\n",
       "    <tr>\n",
       "      <th>38</th>\n",
       "      <td>NL_1_2</td>\n",
       "      <td>NL</td>\n",
       "      <td>1</td>\n",
       "      <td>2</td>\n",
       "    </tr>\n",
       "    <tr>\n",
       "      <th>39</th>\n",
       "      <td>NL_2_1</td>\n",
       "      <td>NL</td>\n",
       "      <td>2</td>\n",
       "      <td>1</td>\n",
       "    </tr>\n",
       "    <tr>\n",
       "      <th>40</th>\n",
       "      <td>NL_2_3</td>\n",
       "      <td>NL</td>\n",
       "      <td>2</td>\n",
       "      <td>3</td>\n",
       "    </tr>\n",
       "    <tr>\n",
       "      <th>41</th>\n",
       "      <td>NL_3_2</td>\n",
       "      <td>NL</td>\n",
       "      <td>3</td>\n",
       "      <td>2</td>\n",
       "    </tr>\n",
       "    <tr>\n",
       "      <th>42</th>\n",
       "      <td>NL_3_4</td>\n",
       "      <td>NL</td>\n",
       "      <td>3</td>\n",
       "      <td>4</td>\n",
       "    </tr>\n",
       "    <tr>\n",
       "      <th>43</th>\n",
       "      <td>NL_4_2</td>\n",
       "      <td>NL</td>\n",
       "      <td>4</td>\n",
       "      <td>2</td>\n",
       "    </tr>\n",
       "    <tr>\n",
       "      <th>44</th>\n",
       "      <td>NZ_1_4</td>\n",
       "      <td>NZ</td>\n",
       "      <td>1</td>\n",
       "      <td>4</td>\n",
       "    </tr>\n",
       "    <tr>\n",
       "      <th>45</th>\n",
       "      <td>NZ_2_2</td>\n",
       "      <td>NZ</td>\n",
       "      <td>2</td>\n",
       "      <td>2</td>\n",
       "    </tr>\n",
       "    <tr>\n",
       "      <th>46</th>\n",
       "      <td>NZ_3_2</td>\n",
       "      <td>NZ</td>\n",
       "      <td>3</td>\n",
       "      <td>2</td>\n",
       "    </tr>\n",
       "    <tr>\n",
       "      <th>47</th>\n",
       "      <td>NZ_4_3</td>\n",
       "      <td>NZ</td>\n",
       "      <td>4</td>\n",
       "      <td>3</td>\n",
       "    </tr>\n",
       "    <tr>\n",
       "      <th>48</th>\n",
       "      <td>PA_3_2</td>\n",
       "      <td>PA</td>\n",
       "      <td>3</td>\n",
       "      <td>2</td>\n",
       "    </tr>\n",
       "    <tr>\n",
       "      <th>49</th>\n",
       "      <td>PL_2_2</td>\n",
       "      <td>PL</td>\n",
       "      <td>2</td>\n",
       "      <td>2</td>\n",
       "    </tr>\n",
       "    <tr>\n",
       "      <th>50</th>\n",
       "      <td>PL_3_2</td>\n",
       "      <td>PL</td>\n",
       "      <td>3</td>\n",
       "      <td>2</td>\n",
       "    </tr>\n",
       "    <tr>\n",
       "      <th>51</th>\n",
       "      <td>PL_4_3</td>\n",
       "      <td>PL</td>\n",
       "      <td>4</td>\n",
       "      <td>3</td>\n",
       "    </tr>\n",
       "    <tr>\n",
       "      <th>52</th>\n",
       "      <td>RU_3_3</td>\n",
       "      <td>RU</td>\n",
       "      <td>3</td>\n",
       "      <td>3</td>\n",
       "    </tr>\n",
       "    <tr>\n",
       "      <th>53</th>\n",
       "      <td>TR_3_2</td>\n",
       "      <td>TR</td>\n",
       "      <td>3</td>\n",
       "      <td>2</td>\n",
       "    </tr>\n",
       "    <tr>\n",
       "      <th>54</th>\n",
       "      <td>US_1_2</td>\n",
       "      <td>US</td>\n",
       "      <td>1</td>\n",
       "      <td>2</td>\n",
       "    </tr>\n",
       "    <tr>\n",
       "      <th>55</th>\n",
       "      <td>US_2_2</td>\n",
       "      <td>US</td>\n",
       "      <td>2</td>\n",
       "      <td>2</td>\n",
       "    </tr>\n",
       "    <tr>\n",
       "      <th>56</th>\n",
       "      <td>US_3_2</td>\n",
       "      <td>US</td>\n",
       "      <td>3</td>\n",
       "      <td>2</td>\n",
       "    </tr>\n",
       "    <tr>\n",
       "      <th>57</th>\n",
       "      <td>UY_4_4</td>\n",
       "      <td>UY</td>\n",
       "      <td>4</td>\n",
       "      <td>4</td>\n",
       "    </tr>\n",
       "  </tbody>\n",
       "</table>\n",
       "</div>"
      ],
      "text/plain": [
       "       com country period community\n",
       "0   AU_1_7      AU      1         7\n",
       "1   AU_1_8      AU      1         8\n",
       "2   AU_2_2      AU      2         2\n",
       "3   AU_3_2      AU      3         2\n",
       "4   AU_4_5      AU      4         5\n",
       "5   BR_2_2      BR      2         2\n",
       "6   BR_3_2      BR      3         2\n",
       "7   CA_1_2      CA      1         2\n",
       "8   CA_2_2      CA      2         2\n",
       "9   CA_3_2      CA      3         2\n",
       "10  CL_3_2      CL      3         2\n",
       "11  CU_1_4      CU      1         4\n",
       "12  CU_3_7      CU      3         7\n",
       "13  DE_1_3      DE      1         3\n",
       "14  DE_1_5      DE      1         5\n",
       "15  DE_2_2      DE      2         2\n",
       "16  DE_3_3      DE      3         3\n",
       "17  DE_4_2      DE      4         2\n",
       "18  ES_2_2      ES      2         2\n",
       "19  ES_3_3      ES      3         3\n",
       "20  FR_2_1      FR      2         1\n",
       "21  FR_3_3      FR      3         3\n",
       "22  GB_1_5      GB      1         5\n",
       "23  GB_1_6      GB      1         6\n",
       "24  GB_2_2      GB      2         2\n",
       "25  GB_2_3      GB      2         3\n",
       "26  GB_3_2      GB      3         2\n",
       "27  GB_4_2      GB      4         2\n",
       "28  GR_2_4      GR      2         4\n",
       "29  GR_3_3      GR      3         3\n",
       "30  GR_4_4      GR      4         4\n",
       "31  IE_1_2      IE      1         2\n",
       "32  IE_2_2      IE      2         2\n",
       "33  IE_3_3      IE      3         3\n",
       "34  IE_4_4      IE      4         4\n",
       "35  IT_1_1      IT      1         1\n",
       "36  IT_2_2      IT      2         2\n",
       "37  IT_3_2      IT      3         2\n",
       "38  NL_1_2      NL      1         2\n",
       "39  NL_2_1      NL      2         1\n",
       "40  NL_2_3      NL      2         3\n",
       "41  NL_3_2      NL      3         2\n",
       "42  NL_3_4      NL      3         4\n",
       "43  NL_4_2      NL      4         2\n",
       "44  NZ_1_4      NZ      1         4\n",
       "45  NZ_2_2      NZ      2         2\n",
       "46  NZ_3_2      NZ      3         2\n",
       "47  NZ_4_3      NZ      4         3\n",
       "48  PA_3_2      PA      3         2\n",
       "49  PL_2_2      PL      2         2\n",
       "50  PL_3_2      PL      3         2\n",
       "51  PL_4_3      PL      4         3\n",
       "52  RU_3_3      RU      3         3\n",
       "53  TR_3_2      TR      3         2\n",
       "54  US_1_2      US      1         2\n",
       "55  US_2_2      US      2         2\n",
       "56  US_3_2      US      3         2\n",
       "57  UY_4_4      UY      4         4"
      ]
     },
     "execution_count": 3,
     "metadata": {},
     "output_type": "execute_result"
    }
   ],
   "source": [
    "novax_com"
   ]
  },
  {
   "cell_type": "code",
   "execution_count": 144,
   "metadata": {
    "scrolled": true
   },
   "outputs": [
    {
     "data": {
      "text/html": [
       "<div>\n",
       "<style scoped>\n",
       "    .dataframe tbody tr th:only-of-type {\n",
       "        vertical-align: middle;\n",
       "    }\n",
       "\n",
       "    .dataframe tbody tr th {\n",
       "        vertical-align: top;\n",
       "    }\n",
       "\n",
       "    .dataframe thead th {\n",
       "        text-align: right;\n",
       "    }\n",
       "</style>\n",
       "<table border=\"1\" class=\"dataframe\">\n",
       "  <thead>\n",
       "    <tr style=\"text-align: right;\">\n",
       "      <th>period</th>\n",
       "      <th>period1</th>\n",
       "      <th>period2</th>\n",
       "      <th>period3</th>\n",
       "      <th>period4</th>\n",
       "    </tr>\n",
       "    <tr>\n",
       "      <th>country</th>\n",
       "      <th></th>\n",
       "      <th></th>\n",
       "      <th></th>\n",
       "      <th></th>\n",
       "    </tr>\n",
       "  </thead>\n",
       "  <tbody>\n",
       "    <tr>\n",
       "      <th>AR</th>\n",
       "      <td>True</td>\n",
       "      <td>True</td>\n",
       "      <td>True</td>\n",
       "      <td>True</td>\n",
       "    </tr>\n",
       "    <tr>\n",
       "      <th>AU</th>\n",
       "      <td>False</td>\n",
       "      <td>False</td>\n",
       "      <td>False</td>\n",
       "      <td>False</td>\n",
       "    </tr>\n",
       "    <tr>\n",
       "      <th>BR</th>\n",
       "      <td>True</td>\n",
       "      <td>False</td>\n",
       "      <td>False</td>\n",
       "      <td>True</td>\n",
       "    </tr>\n",
       "    <tr>\n",
       "      <th>CA</th>\n",
       "      <td>False</td>\n",
       "      <td>False</td>\n",
       "      <td>False</td>\n",
       "      <td>True</td>\n",
       "    </tr>\n",
       "    <tr>\n",
       "      <th>CL</th>\n",
       "      <td>True</td>\n",
       "      <td>True</td>\n",
       "      <td>False</td>\n",
       "      <td>True</td>\n",
       "    </tr>\n",
       "    <tr>\n",
       "      <th>CO</th>\n",
       "      <td>True</td>\n",
       "      <td>True</td>\n",
       "      <td>True</td>\n",
       "      <td>True</td>\n",
       "    </tr>\n",
       "    <tr>\n",
       "      <th>CU</th>\n",
       "      <td>False</td>\n",
       "      <td>True</td>\n",
       "      <td>False</td>\n",
       "      <td>True</td>\n",
       "    </tr>\n",
       "    <tr>\n",
       "      <th>DE</th>\n",
       "      <td>False</td>\n",
       "      <td>False</td>\n",
       "      <td>False</td>\n",
       "      <td>False</td>\n",
       "    </tr>\n",
       "    <tr>\n",
       "      <th>EC</th>\n",
       "      <td>True</td>\n",
       "      <td>True</td>\n",
       "      <td>True</td>\n",
       "      <td>True</td>\n",
       "    </tr>\n",
       "    <tr>\n",
       "      <th>ES</th>\n",
       "      <td>True</td>\n",
       "      <td>False</td>\n",
       "      <td>False</td>\n",
       "      <td>True</td>\n",
       "    </tr>\n",
       "    <tr>\n",
       "      <th>FR</th>\n",
       "      <td>True</td>\n",
       "      <td>False</td>\n",
       "      <td>False</td>\n",
       "      <td>True</td>\n",
       "    </tr>\n",
       "    <tr>\n",
       "      <th>GB</th>\n",
       "      <td>False</td>\n",
       "      <td>False</td>\n",
       "      <td>False</td>\n",
       "      <td>False</td>\n",
       "    </tr>\n",
       "    <tr>\n",
       "      <th>GR</th>\n",
       "      <td>True</td>\n",
       "      <td>False</td>\n",
       "      <td>False</td>\n",
       "      <td>False</td>\n",
       "    </tr>\n",
       "    <tr>\n",
       "      <th>IE</th>\n",
       "      <td>False</td>\n",
       "      <td>False</td>\n",
       "      <td>False</td>\n",
       "      <td>False</td>\n",
       "    </tr>\n",
       "    <tr>\n",
       "      <th>IT</th>\n",
       "      <td>False</td>\n",
       "      <td>False</td>\n",
       "      <td>False</td>\n",
       "      <td>True</td>\n",
       "    </tr>\n",
       "    <tr>\n",
       "      <th>MX</th>\n",
       "      <td>True</td>\n",
       "      <td>True</td>\n",
       "      <td>True</td>\n",
       "      <td>True</td>\n",
       "    </tr>\n",
       "    <tr>\n",
       "      <th>NL</th>\n",
       "      <td>False</td>\n",
       "      <td>False</td>\n",
       "      <td>False</td>\n",
       "      <td>False</td>\n",
       "    </tr>\n",
       "    <tr>\n",
       "      <th>NZ</th>\n",
       "      <td>False</td>\n",
       "      <td>False</td>\n",
       "      <td>False</td>\n",
       "      <td>False</td>\n",
       "    </tr>\n",
       "    <tr>\n",
       "      <th>PA</th>\n",
       "      <td>True</td>\n",
       "      <td>True</td>\n",
       "      <td>False</td>\n",
       "      <td>True</td>\n",
       "    </tr>\n",
       "    <tr>\n",
       "      <th>PE</th>\n",
       "      <td>True</td>\n",
       "      <td>True</td>\n",
       "      <td>True</td>\n",
       "      <td>True</td>\n",
       "    </tr>\n",
       "    <tr>\n",
       "      <th>PL</th>\n",
       "      <td>True</td>\n",
       "      <td>False</td>\n",
       "      <td>False</td>\n",
       "      <td>False</td>\n",
       "    </tr>\n",
       "    <tr>\n",
       "      <th>PT</th>\n",
       "      <td>True</td>\n",
       "      <td>True</td>\n",
       "      <td>True</td>\n",
       "      <td>True</td>\n",
       "    </tr>\n",
       "    <tr>\n",
       "      <th>PY</th>\n",
       "      <td>True</td>\n",
       "      <td>True</td>\n",
       "      <td>True</td>\n",
       "      <td>True</td>\n",
       "    </tr>\n",
       "    <tr>\n",
       "      <th>RU</th>\n",
       "      <td>True</td>\n",
       "      <td>True</td>\n",
       "      <td>False</td>\n",
       "      <td>True</td>\n",
       "    </tr>\n",
       "    <tr>\n",
       "      <th>TR</th>\n",
       "      <td>True</td>\n",
       "      <td>True</td>\n",
       "      <td>False</td>\n",
       "      <td>True</td>\n",
       "    </tr>\n",
       "    <tr>\n",
       "      <th>US</th>\n",
       "      <td>False</td>\n",
       "      <td>False</td>\n",
       "      <td>False</td>\n",
       "      <td>True</td>\n",
       "    </tr>\n",
       "    <tr>\n",
       "      <th>UY</th>\n",
       "      <td>True</td>\n",
       "      <td>True</td>\n",
       "      <td>True</td>\n",
       "      <td>False</td>\n",
       "    </tr>\n",
       "    <tr>\n",
       "      <th>VE</th>\n",
       "      <td>True</td>\n",
       "      <td>True</td>\n",
       "      <td>True</td>\n",
       "      <td>True</td>\n",
       "    </tr>\n",
       "  </tbody>\n",
       "</table>\n",
       "</div>"
      ],
      "text/plain": [
       "period   period1  period2  period3  period4\n",
       "country                                    \n",
       "AR          True     True     True     True\n",
       "AU         False    False    False    False\n",
       "BR          True    False    False     True\n",
       "CA         False    False    False     True\n",
       "CL          True     True    False     True\n",
       "CO          True     True     True     True\n",
       "CU         False     True    False     True\n",
       "DE         False    False    False    False\n",
       "EC          True     True     True     True\n",
       "ES          True    False    False     True\n",
       "FR          True    False    False     True\n",
       "GB         False    False    False    False\n",
       "GR          True    False    False    False\n",
       "IE         False    False    False    False\n",
       "IT         False    False    False     True\n",
       "MX          True     True     True     True\n",
       "NL         False    False    False    False\n",
       "NZ         False    False    False    False\n",
       "PA          True     True    False     True\n",
       "PE          True     True     True     True\n",
       "PL          True    False    False    False\n",
       "PT          True     True     True     True\n",
       "PY          True     True     True     True\n",
       "RU          True     True    False     True\n",
       "TR          True     True    False     True\n",
       "US         False    False    False     True\n",
       "UY          True     True     True    False\n",
       "VE          True     True     True     True"
      ]
     },
     "execution_count": 144,
     "metadata": {},
     "output_type": "execute_result"
    }
   ],
   "source": [
    "#df with networks that do not have a novax community\n",
    "novax_condition = info_df[\"tot_novax\"].unstack().isna()\n",
    "novax_condition"
   ]
  },
  {
   "cell_type": "code",
   "execution_count": 50,
   "metadata": {},
   "outputs": [
    {
     "data": {
      "text/plain": [
       "Index(['tot_users', 'activity', 'density', 'avg_urls', 'avg_youtube',\n",
       "       'prop_antivax_labels', 'nmi_RTCO', 'ami_RTCO', 'LC_prop', 'susp_users',\n",
       "       'notfound_users', 'coms', 'tot_novax', 'tot_provax', 'prop_antivax',\n",
       "       'novax_activity', 'provax_activity', 'novax_density', 'provax_density',\n",
       "       'novax_urls', 'provax_urls', 'novax_youtube', 'provax_youtube',\n",
       "       'novax_gov', 'provax_gov', 'novax_LC_prop', 'provax_LC_prop',\n",
       "       'susp_novax', 'susp_provax', 'notfound_novax', 'notfound_provax',\n",
       "       'activity_ratio', 'density_ratio', 'urls_ratio', 'youtube_ratio',\n",
       "       'LC_prop_ratio', 'susp_ratio', 'notfound_ratio', 'rwc_novax'],\n",
       "      dtype='object')"
      ]
     },
     "execution_count": 50,
     "metadata": {},
     "output_type": "execute_result"
    }
   ],
   "source": [
    "info_df.columns"
   ]
  },
  {
   "cell_type": "markdown",
   "metadata": {},
   "source": [
    "## Networks with a novax community vs network without a novax community"
   ]
  },
  {
   "cell_type": "code",
   "execution_count": 241,
   "metadata": {},
   "outputs": [
    {
     "name": "stderr",
     "output_type": "stream",
     "text": [
      "<ipython-input-241-52cda6008547>:1: FutureWarning: Dropping of nuisance columns in DataFrame reductions (with 'numeric_only=None') is deprecated; in a future version this will raise TypeError.  Select only valid columns before calling the reduction.\n",
      "  pd.DataFrame({\"novax\": info_df.unstack().mask(novax_condition).stack().mean(),\n",
      "<ipython-input-241-52cda6008547>:2: FutureWarning: Dropping of nuisance columns in DataFrame reductions (with 'numeric_only=None') is deprecated; in a future version this will raise TypeError.  Select only valid columns before calling the reduction.\n",
      "  \"other\": info_df.unstack().mask(~novax_condition).stack().mean()}).dropna()\n"
     ]
    },
    {
     "data": {
      "text/html": [
       "<div>\n",
       "<style scoped>\n",
       "    .dataframe tbody tr th:only-of-type {\n",
       "        vertical-align: middle;\n",
       "    }\n",
       "\n",
       "    .dataframe tbody tr th {\n",
       "        vertical-align: top;\n",
       "    }\n",
       "\n",
       "    .dataframe thead th {\n",
       "        text-align: right;\n",
       "    }\n",
       "</style>\n",
       "<table border=\"1\" class=\"dataframe\">\n",
       "  <thead>\n",
       "    <tr style=\"text-align: right;\">\n",
       "      <th></th>\n",
       "      <th>novax</th>\n",
       "      <th>other</th>\n",
       "    </tr>\n",
       "  </thead>\n",
       "  <tbody>\n",
       "    <tr>\n",
       "      <th>activity</th>\n",
       "      <td>5.514933</td>\n",
       "      <td>5.404962</td>\n",
       "    </tr>\n",
       "    <tr>\n",
       "      <th>ami_RTCO</th>\n",
       "      <td>0.264220</td>\n",
       "      <td>0.199610</td>\n",
       "    </tr>\n",
       "    <tr>\n",
       "      <th>avg_urls</th>\n",
       "      <td>2.089432</td>\n",
       "      <td>1.336010</td>\n",
       "    </tr>\n",
       "    <tr>\n",
       "      <th>avg_youtube</th>\n",
       "      <td>0.073843</td>\n",
       "      <td>0.023050</td>\n",
       "    </tr>\n",
       "    <tr>\n",
       "      <th>density</th>\n",
       "      <td>0.000341</td>\n",
       "      <td>0.000446</td>\n",
       "    </tr>\n",
       "    <tr>\n",
       "      <th>nmi_RTCO</th>\n",
       "      <td>0.268093</td>\n",
       "      <td>0.213734</td>\n",
       "    </tr>\n",
       "    <tr>\n",
       "      <th>notfound_users</th>\n",
       "      <td>0.128040</td>\n",
       "      <td>0.128377</td>\n",
       "    </tr>\n",
       "    <tr>\n",
       "      <th>novax_gov</th>\n",
       "      <td>0.021647</td>\n",
       "      <td>0.009463</td>\n",
       "    </tr>\n",
       "    <tr>\n",
       "      <th>prop_antivax_labels</th>\n",
       "      <td>0.253766</td>\n",
       "      <td>0.069361</td>\n",
       "    </tr>\n",
       "    <tr>\n",
       "      <th>provax_gov</th>\n",
       "      <td>0.008375</td>\n",
       "      <td>0.006857</td>\n",
       "    </tr>\n",
       "    <tr>\n",
       "      <th>susp_users</th>\n",
       "      <td>0.041388</td>\n",
       "      <td>0.031396</td>\n",
       "    </tr>\n",
       "    <tr>\n",
       "      <th>tot_users</th>\n",
       "      <td>30545.634615</td>\n",
       "      <td>37488.966667</td>\n",
       "    </tr>\n",
       "  </tbody>\n",
       "</table>\n",
       "</div>"
      ],
      "text/plain": [
       "                            novax         other\n",
       "activity                 5.514933      5.404962\n",
       "ami_RTCO                 0.264220      0.199610\n",
       "avg_urls                 2.089432      1.336010\n",
       "avg_youtube              0.073843      0.023050\n",
       "density                  0.000341      0.000446\n",
       "nmi_RTCO                 0.268093      0.213734\n",
       "notfound_users           0.128040      0.128377\n",
       "novax_gov                0.021647      0.009463\n",
       "prop_antivax_labels      0.253766      0.069361\n",
       "provax_gov               0.008375      0.006857\n",
       "susp_users               0.041388      0.031396\n",
       "tot_users            30545.634615  37488.966667"
      ]
     },
     "execution_count": 241,
     "metadata": {},
     "output_type": "execute_result"
    }
   ],
   "source": [
    "pd.DataFrame({\"novax\": info_df.unstack().mask(novax_condition).stack().mean(), \n",
    "              \"other\": info_df.unstack().mask(~novax_condition).stack().mean()}).dropna()"
   ]
  },
  {
   "cell_type": "code",
   "execution_count": 112,
   "metadata": {},
   "outputs": [],
   "source": [
    "title_fsize = 23\n",
    "yticks_fsize = 19\n",
    "xticks_fsize = 19\n",
    "cbar_fsize = 15"
   ]
  },
  {
   "cell_type": "markdown",
   "metadata": {},
   "source": [
    "## Users per network"
   ]
  },
  {
   "cell_type": "code",
   "execution_count": 209,
   "metadata": {},
   "outputs": [
    {
     "data": {
      "text/plain": [
       "Text(0.5, 1.0, 'Total number of users')"
      ]
     },
     "execution_count": 209,
     "metadata": {},
     "output_type": "execute_result"
    },
    {
     "data": {
      "image/png": "[encoded data removed]",
      "text/plain": [
       "<Figure size 600x400 with 1 Axes>"
      ]
     },
     "metadata": {},
     "output_type": "display_data"
    }
   ],
   "source": [
    "fig, axes = plt.subplots(1,1, figsize = [6, 4])\n",
    "\n",
    "sns.boxplot(data = info_df[\"tot_users\"].unstack())\n",
    "axes.set_xticks(np.arange(0,4))\n",
    "axes.set_xticklabels(periods, fontsize = xticks_fsize)\n",
    "axes.yaxis.set_major_formatter(EngFormatter())\n",
    "axes.set_xlabel(\"\")\n",
    "axes.set_ylabel(\"\")\n",
    "plt.yticks(fontsize = yticks_fsize)\n",
    "axes.set_title(\"Total number of users\", fontsize = title_fsize)"
   ]
  },
  {
   "cell_type": "markdown",
   "metadata": {},
   "source": [
    "## Novax communities per period"
   ]
  },
  {
   "cell_type": "code",
   "execution_count": 208,
   "metadata": {},
   "outputs": [
    {
     "name": "stderr",
     "output_type": "stream",
     "text": [
      "<ipython-input-208-4b2c97fe58ae>:13: UserWarning: Matplotlib is currently using module://ipykernel.pylab.backend_inline, which is a non-GUI backend, so cannot show the figure.\n",
      "  fig.show()\n"
     ]
    },
    {
     "data": {
      "image/png": "[encoded data removed]",
      "text/plain": [
       "<Figure size 500x300 with 1 Axes>"
      ]
     },
     "metadata": {},
     "output_type": "display_data"
    }
   ],
   "source": [
    "fig, axes = plt.subplots(1,1, figsize = [5, 3])\n",
    "\n",
    "D = (~info_df[\"tot_novax\"].isna()).unstack().sum().reset_index().rename(columns = {0: \"novax_coms\"})\n",
    "sns.barplot(data = D, x = \"period\", y = \"novax_coms\")\n",
    "\n",
    "axes.set_title(\"#NoVax Communities\", fontsize = title_fsize)\n",
    "axes.set_xlabel(\"\")\n",
    "axes.set_ylabel(\"\")\n",
    "axes.set_yticks(np.arange(0,21,5))\n",
    "plt.xticks(fontsize = xticks_fsize - 3)\n",
    "plt.yticks(fontsize = yticks_fsize - 4)\n",
    "\n",
    "fig.show()\n"
   ]
  },
  {
   "cell_type": "markdown",
   "metadata": {},
   "source": [
    "Periods 2 and 3 have the highest numbers of novax communities."
   ]
  },
  {
   "cell_type": "markdown",
   "metadata": {},
   "source": [
    "## Users per side"
   ]
  },
  {
   "cell_type": "code",
   "execution_count": 193,
   "metadata": {},
   "outputs": [],
   "source": [
    "#i define with mpatches a red patch with label \"No-Vax\" for the legend\n",
    "novax_patch = mpatches.Patch(color = \"darkred\", label = \"No-Vax\")\n",
    "provax_patch = mpatches.Patch(color = \"navy\", label = \"Other\")\n",
    "\n",
    "sns.set_palette([\"darkred\", \"navy\"])\n",
    "\n",
    "leg_fsize = 20"
   ]
  },
  {
   "cell_type": "code",
   "execution_count": 199,
   "metadata": {},
   "outputs": [
    {
     "name": "stderr",
     "output_type": "stream",
     "text": [
      "<ipython-input-199-e5ba496cf1b9>:16: UserWarning: Matplotlib is currently using module://ipykernel.pylab.backend_inline, which is a non-GUI backend, so cannot show the figure.\n",
      "  fig.show()\n"
     ]
    },
    {
     "data": {
      "image/png": "[encoded data removed]",
      "text/plain": [
       "<Figure size 1400x500 with 1 Axes>"
      ]
     },
     "metadata": {},
     "output_type": "display_data"
    }
   ],
   "source": [
    "fig, axes = plt.subplots(1,1, figsize = [14, 5])\n",
    "\n",
    "D = info_df[[\"tot_novax\", \"tot_provax\"]].stack().reset_index().rename(columns = {\"level_2\": \"Side\", 0: \"users\"})\n",
    "\n",
    "sns.barplot(data = D, x = \"country\", y = \"users\", hue = \"Side\")\n",
    "axes.yaxis.set_major_formatter(EngFormatter())\n",
    "plt.xticks(fontsize = xticks_fsize)\n",
    "plt.yticks(fontsize = yticks_fsize)\n",
    "\n",
    "axes.set_xlabel(\"\")\n",
    "axes.set_ylabel(\"\")\n",
    "\n",
    "plt.legend(handles = [novax_patch, provax_patch], fontsize = leg_fsize, loc = \"upper right\")\n",
    "\n",
    "axes.set_title(\"#Users per side\", fontsize = title_fsize)\n",
    "fig.show()"
   ]
  },
  {
   "cell_type": "code",
   "execution_count": 200,
   "metadata": {},
   "outputs": [],
   "source": [
    "sns.reset_defaults()"
   ]
  },
  {
   "cell_type": "markdown",
   "metadata": {},
   "source": [
    "## NMI"
   ]
  },
  {
   "cell_type": "code",
   "execution_count": 205,
   "metadata": {},
   "outputs": [
    {
     "data": {
      "image/png": "[encoded data removed]",
      "text/plain": [
       "<Figure size 400x600 with 2 Axes>"
      ]
     },
     "metadata": {},
     "output_type": "display_data"
    }
   ],
   "source": [
    "fig, axes = plt.subplots(1,1, figsize = [4, 6])\n",
    "\n",
    "D = info_df[\"nmi_RTCO\"].unstack().loc[lang_sort]\n",
    "sns.heatmap(data = D, cmap = \"Reds\")\n",
    "axes.set_xticklabels(periods, fontsize = 11)\n",
    "axes.set_xlabel(\"\")\n",
    "axes.set_ylabel(\"\")\n",
    "plt.yticks(fontsize = 14, rotation = 0)\n",
    "axes.set_title(\"NMI\", fontsize = title_fsize)\n",
    "\n",
    "cbar = axes.collections[0].colorbar\n",
    "cbar.ax.tick_params(labelsize = cbar_fsize) \n",
    "\n",
    "#I create a dashed transparent patch as before correspinding to the network with a novax community\n",
    "for _, (__, country, per, _) in novax_com.iterrows():\n",
    "    row = [i for i, x in enumerate(D.index == country) if x][0]\n",
    "    col = periods.index(\"period\" + per)\n",
    "    axes.add_patch(Rectangle((col, row), 1, 1, hatch = \"//\",\n",
    "                           edgecolor = \"darkgrey\", fill = False, lw = 0.))\n"
   ]
  },
  {
   "cell_type": "code",
   "execution_count": 73,
   "metadata": {},
   "outputs": [
    {
     "data": {
      "text/plain": [
       "period\n",
       "period1    0.251321\n",
       "period2    0.240139\n",
       "period3    0.229073\n",
       "period4    0.235356\n",
       "dtype: float64"
      ]
     },
     "execution_count": 73,
     "metadata": {},
     "output_type": "execute_result"
    }
   ],
   "source": [
    "info_df[\"nmi_RTCO\"].unstack().mean()"
   ]
  },
  {
   "cell_type": "markdown",
   "metadata": {},
   "source": [
    "The Normalized Mutual Information (that is the similarity between the partitions obtained in the hierarchical clustering on RT and CO networks, a measure of the Echo Chambers Effect) does not change over time."
   ]
  },
  {
   "cell_type": "markdown",
   "metadata": {},
   "source": [
    "But it sees to be darker in the top rows (English speaking countries), and lower in bottom rows (Spanish speaking countries). "
   ]
  },
  {
   "cell_type": "code",
   "execution_count": 94,
   "metadata": {},
   "outputs": [
    {
     "name": "stdout",
     "output_type": "stream",
     "text": [
      "Average NMI 0.239\n",
      "Average NMI English speaking countries 0.338\n",
      "Average NMI Spanish speaking countries 0.166\n"
     ]
    }
   ],
   "source": [
    "print(\"Average NMI\", round(info_df[\"nmi_RTCO\"].mean(), 3))\n",
    "print(\"Average NMI English speaking countries\", round(info_df.loc[en_countries, \"nmi_RTCO\"].mean(), 3))\n",
    "print(\"Average NMI Spanish speaking countries\", round(info_df.loc[es_countries, \"nmi_RTCO\"].mean(), 3))\n"
   ]
  },
  {
   "cell_type": "markdown",
   "metadata": {},
   "source": [
    "#### Is NMI stronger in English speaking countries?"
   ]
  },
  {
   "cell_type": "code",
   "execution_count": 98,
   "metadata": {},
   "outputs": [
    {
     "data": {
      "text/plain": [
       "Ttest_indResult(statistic=2.85847189786576, pvalue=0.005093042843525993)"
      ]
     },
     "execution_count": 98,
     "metadata": {},
     "output_type": "execute_result"
    }
   ],
   "source": [
    "ttest_ind(info_df.query(\"country in @en_countries\")[\"nmi_RTCO\"], info_df.query(\"country not in @en_countries\")[\"nmi_RTCO\"])"
   ]
  },
  {
   "cell_type": "markdown",
   "metadata": {},
   "source": [
    "p < 0.0001 \n",
    "\n",
    "Yes"
   ]
  },
  {
   "cell_type": "markdown",
   "metadata": {},
   "source": [
    "#### Is NMI lower in Spanish speaking countries?"
   ]
  },
  {
   "cell_type": "code",
   "execution_count": 99,
   "metadata": {},
   "outputs": [
    {
     "data": {
      "text/plain": [
       "Ttest_indResult(statistic=-3.5556106593969163, pvalue=0.0005573278565078506)"
      ]
     },
     "execution_count": 99,
     "metadata": {},
     "output_type": "execute_result"
    }
   ],
   "source": [
    "ttest_ind(info_df.query(\"country in @es_countries\")[\"nmi_RTCO\"], info_df.query(\"country not in @es_countries\")[\"nmi_RTCO\"])"
   ]
  },
  {
   "cell_type": "markdown",
   "metadata": {},
   "source": [
    "p < 0.0001\n",
    "\n",
    "Yes"
   ]
  },
  {
   "cell_type": "markdown",
   "metadata": {},
   "source": [
    "#### Is NMI stronger in networks with a novax community?"
   ]
  },
  {
   "cell_type": "code",
   "execution_count": 147,
   "metadata": {},
   "outputs": [
    {
     "name": "stdout",
     "output_type": "stream",
     "text": [
      "Average NMI network with a novax community 0.268\n",
      "Average NMI network without a novax community 0.214\n"
     ]
    }
   ],
   "source": [
    "print(\"Average NMI network with a novax community\", round(info_df[\"nmi_RTCO\"].unstack().mask(novax_condition).stack().mean(), 3))\n",
    "print(\"Average NMI network without a novax community\", round(info_df[\"nmi_RTCO\"].unstack().mask(~novax_condition).stack().mean(), 3))"
   ]
  },
  {
   "cell_type": "code",
   "execution_count": 148,
   "metadata": {},
   "outputs": [
    {
     "data": {
      "text/plain": [
       "Ttest_indResult(statistic=1.4626506094394927, pvalue=0.14641435962724744)"
      ]
     },
     "execution_count": 148,
     "metadata": {},
     "output_type": "execute_result"
    }
   ],
   "source": [
    "ttest_ind(info_df[\"nmi_RTCO\"].unstack().mask(novax_condition).stack(), \n",
    "          info_df[\"nmi_RTCO\"].unstack().mask(~novax_condition).stack())"
   ]
  },
  {
   "cell_type": "markdown",
   "metadata": {},
   "source": [
    "Not statistically significant."
   ]
  },
  {
   "cell_type": "markdown",
   "metadata": {},
   "source": [
    "## Proportion Antivax Labels\n",
    "Let us investigate the proportion of antivax labels obtained at the 1st round of labeling."
   ]
  },
  {
   "cell_type": "code",
   "execution_count": 150,
   "metadata": {},
   "outputs": [
    {
     "data": {
      "image/png": "[encoded data removed]",
      "text/plain": [
       "<Figure size 360x576 with 2 Axes>"
      ]
     },
     "metadata": {
      "needs_background": "light"
     },
     "output_type": "display_data"
    }
   ],
   "source": [
    "fig, axes = plt.subplots(1,1, figsize = [5, 8])\n",
    "\n",
    "D = info_df[\"prop_antivax_labels\"].unstack().loc[lang_sort]\n",
    "sns.heatmap(data = D, cmap = \"Reds\")\n",
    "axes.set_xticks(np.arange(0,4))\n",
    "axes.set_xticklabels(periods, fontsize = 14)\n",
    "axes.set_xlabel(\"\")\n",
    "axes.set_ylabel(\"\")\n",
    "plt.yticks(fontsize = 14, rotation = 0)\n",
    "axes.set_title(\"Proportion Antivax Labels\", fontsize = title_fsize)\n",
    "\n",
    "cbar = axes.collections[0].colorbar\n",
    "cbar.ax.tick_params(labelsize = cbar_fsize) \n",
    "\n",
    "#I create a dashed transparent patch as before correspinding to the network with a novax community\n",
    "for _, (__, country, per, _) in novax_com.iterrows():\n",
    "    row = [i for i, x in enumerate(D.index == country) if x][0]\n",
    "    col = periods.index(\"period\" + per)\n",
    "    axes.add_patch(Rectangle((col, row), 1, 1, hatch = \"//\",\n",
    "                           edgecolor = \"darkgrey\", fill = False, lw = 0.))\n"
   ]
  },
  {
   "cell_type": "code",
   "execution_count": 154,
   "metadata": {},
   "outputs": [
    {
     "name": "stdout",
     "output_type": "stream",
     "text": [
      "Average Proportion Antivax Labels network with a novax community 0.254\n",
      "Average Proportion Antivax Labels network without a novax community 0.069\n"
     ]
    }
   ],
   "source": [
    "print(\"Average Proportion Antivax Labels network with a novax community\", round(info_df[\"prop_antivax_labels\"].unstack().mask(novax_condition).stack().mean(), 3))\n",
    "print(\"Average Proportion Antivax Labels network without a novax community\", round(info_df[\"prop_antivax_labels\"].unstack().mask(~novax_condition).stack().mean(), 3))"
   ]
  },
  {
   "cell_type": "markdown",
   "metadata": {},
   "source": [
    "Novax labels are strongly clustered, there are not networks with many antivax labels and not a novax community, that are networks with novax labels distributed in all the communities."
   ]
  },
  {
   "cell_type": "markdown",
   "metadata": {},
   "source": [
    "## Comparison Novax vs Other"
   ]
  },
  {
   "cell_type": "code",
   "execution_count": 246,
   "metadata": {},
   "outputs": [
    {
     "data": {
      "text/html": [
       "<div>\n",
       "<style scoped>\n",
       "    .dataframe tbody tr th:only-of-type {\n",
       "        vertical-align: middle;\n",
       "    }\n",
       "\n",
       "    .dataframe tbody tr th {\n",
       "        vertical-align: top;\n",
       "    }\n",
       "\n",
       "    .dataframe thead th {\n",
       "        text-align: right;\n",
       "    }\n",
       "</style>\n",
       "<table border=\"1\" class=\"dataframe\">\n",
       "  <thead>\n",
       "    <tr style=\"text-align: right;\">\n",
       "      <th></th>\n",
       "      <th>novax</th>\n",
       "      <th>other</th>\n",
       "    </tr>\n",
       "  </thead>\n",
       "  <tbody>\n",
       "    <tr>\n",
       "      <th>Users</th>\n",
       "      <td>8412.711538</td>\n",
       "      <td>22132.923077</td>\n",
       "    </tr>\n",
       "    <tr>\n",
       "      <th>Retweets</th>\n",
       "      <td>8.081526</td>\n",
       "      <td>4.699849</td>\n",
       "    </tr>\n",
       "    <tr>\n",
       "      <th>Density</th>\n",
       "      <td>0.003322</td>\n",
       "      <td>0.000381</td>\n",
       "    </tr>\n",
       "    <tr>\n",
       "      <th>Urls</th>\n",
       "      <td>3.631013</td>\n",
       "      <td>1.658618</td>\n",
       "    </tr>\n",
       "    <tr>\n",
       "      <th>YouTube</th>\n",
       "      <td>0.250399</td>\n",
       "      <td>0.021342</td>\n",
       "    </tr>\n",
       "    <tr>\n",
       "      <th>Low-credible_prop</th>\n",
       "      <td>0.175071</td>\n",
       "      <td>0.016488</td>\n",
       "    </tr>\n",
       "    <tr>\n",
       "      <th>Suspended_Accounts</th>\n",
       "      <td>0.133359</td>\n",
       "      <td>0.018204</td>\n",
       "    </tr>\n",
       "    <tr>\n",
       "      <th>NotFound_Accounts</th>\n",
       "      <td>0.255437</td>\n",
       "      <td>0.096353</td>\n",
       "    </tr>\n",
       "  </tbody>\n",
       "</table>\n",
       "</div>"
      ],
      "text/plain": [
       "                          novax         other\n",
       "Users               8412.711538  22132.923077\n",
       "Retweets               8.081526      4.699849\n",
       "Density                0.003322      0.000381\n",
       "Urls                   3.631013      1.658618\n",
       "YouTube                0.250399      0.021342\n",
       "Low-credible_prop      0.175071      0.016488\n",
       "Suspended_Accounts     0.133359      0.018204\n",
       "NotFound_Accounts      0.255437      0.096353"
      ]
     },
     "execution_count": 246,
     "metadata": {},
     "output_type": "execute_result"
    }
   ],
   "source": [
    "pd.DataFrame({\"novax\": info_df.rename(columns = {\"tot_novax\": \"Users\", \"novax_activity\": \"Retweets\", \"novax_density\": \"Density\",\n",
    "                         \"novax_urls\": \"Urls\", \"novax_youtube\": \"YouTube\", \"novax_LC_prop\": \"Low-credible_prop\",\n",
    "                         \"susp_novax\": \"Suspended_Accounts\", \"notfound_novax\": \"NotFound_Accounts\"}) \\\n",
    "              [[\"Users\", \"Retweets\", \"Density\", \"Urls\", \"YouTube\", \"Low-credible_prop\", \n",
    "                \"Suspended_Accounts\", \"NotFound_Accounts\"]].mean(),\n",
    "    \"other\": info_df.rename(columns = {\"tot_provax\": \"Users\", \"provax_activity\": \"Retweets\", \"provax_density\": \"Density\",\n",
    "                         \"provax_urls\": \"Urls\", \"provax_youtube\": \"YouTube\", \"provax_LC_prop\": \"Low-credible_prop\",\n",
    "                         \"susp_provax\": \"Suspended_Accounts\", \"notfound_provax\": \"NotFound_Accounts\"}) \\\n",
    "              [[\"Users\", \"Retweets\", \"Density\", \"Urls\", \"YouTube\", \"Low-credible_prop\", \n",
    "                \"Suspended_Accounts\", \"NotFound_Accounts\"]].mean()})"
   ]
  },
  {
   "cell_type": "markdown",
   "metadata": {},
   "source": [
    "Users in NoVax community seem to retweet more, be more densely connected, share more URLs and Youtube videos, share more low-credible domains, be more likely to be suspended and unexisting."
   ]
  },
  {
   "cell_type": "markdown",
   "metadata": {},
   "source": [
    "## Activity NoVax/Other\n",
    "Compare the average number retweets, urls, youtube, LC domains shared by user in no-vax community and in rest of the networks.\n",
    "\n",
    "We want to show that users in no-vax communities are more active than users in the same networks not in no-vax communities.\n",
    "\n",
    "#### Average Retweets per user"
   ]
  },
  {
   "cell_type": "code",
   "execution_count": 5,
   "metadata": {},
   "outputs": [
    {
     "name": "stdout",
     "output_type": "stream",
     "text": [
      "Average Retweets of a novax user: 6.91\n",
      "Average Retweets of a provax user: 4.28\n"
     ]
    }
   ],
   "source": [
    "print(\"Average Retweets of a novax user:\", round(info_df.query(\"country not in @filtered_countries\")[\"novax_activity\"].mean(), 2))\n",
    "print(\"Average Retweets of a provax user:\", round(info_df.query(\"country not in @filtered_countries\")[\"provax_activity\"].mean(), 2))"
   ]
  },
  {
   "cell_type": "markdown",
   "metadata": {},
   "source": [
    "Do users in no-vax communities share significantly more retweets?"
   ]
  },
  {
   "cell_type": "code",
   "execution_count": 6,
   "metadata": {},
   "outputs": [
    {
     "data": {
      "text/plain": [
       "Ttest_indResult(statistic=3.491048464327829, pvalue=0.0007123271762243807)"
      ]
     },
     "execution_count": 6,
     "metadata": {},
     "output_type": "execute_result"
    }
   ],
   "source": [
    "ttest_ind(info_df[\"novax_activity\"].dropna(), info_df[\"provax_activity\"].dropna())"
   ]
  },
  {
   "cell_type": "markdown",
   "metadata": {},
   "source": [
    "p < 0.05\n",
    "\n",
    "Users in no-vax community share significantly more retweets."
   ]
  },
  {
   "cell_type": "markdown",
   "metadata": {},
   "source": [
    "#### Average URL and YouTube per user"
   ]
  },
  {
   "cell_type": "code",
   "execution_count": 8,
   "metadata": {},
   "outputs": [
    {
     "name": "stdout",
     "output_type": "stream",
     "text": [
      "Average URLs shared by a novax user: 3.63\n",
      "Average URLs shared by a provax user: 1.66\n",
      "\n",
      "Average YouTube URLs shared by a novax user: 0.2504\n",
      "Average YouTube URLs shared by a provax user: 0.0213\n"
     ]
    }
   ],
   "source": [
    "print(\"Average URLs shared by a novax user:\", round(info_df[\"novax_urls\"].mean(), 2))\n",
    "print(\"Average URLs shared by a provax user:\", round(info_df[\"provax_urls\"].mean(), 2))\n",
    "print(\"\")\n",
    "print(\"Average YouTube URLs shared by a novax user:\", round(info_df[\"novax_youtube\"].mean(), 4))\n",
    "print(\"Average YouTube URLs shared by a provax user:\", round(info_df[\"provax_youtube\"].mean(), 4))"
   ]
  },
  {
   "cell_type": "code",
   "execution_count": 9,
   "metadata": {},
   "outputs": [
    {
     "data": {
      "text/plain": [
       "Ttest_indResult(statistic=4.74426854086801, pvalue=6.828169682647264e-06)"
      ]
     },
     "execution_count": 9,
     "metadata": {},
     "output_type": "execute_result"
    }
   ],
   "source": [
    "ttest_ind(info_df[\"novax_urls\"].dropna(), info_df[\"provax_urls\"].dropna())"
   ]
  },
  {
   "cell_type": "code",
   "execution_count": 10,
   "metadata": {},
   "outputs": [
    {
     "data": {
      "text/plain": [
       "Ttest_indResult(statistic=9.872411171430672, pvalue=1.5605575753985928e-16)"
      ]
     },
     "execution_count": 10,
     "metadata": {},
     "output_type": "execute_result"
    }
   ],
   "source": [
    "ttest_ind(info_df[\"novax_youtube\"].dropna(), info_df[\"provax_youtube\"].dropna())"
   ]
  },
  {
   "cell_type": "markdown",
   "metadata": {},
   "source": [
    "Users in no-vax communities share significantly more URLs and more YouTube videos than users in the rest of the networks."
   ]
  },
  {
   "cell_type": "markdown",
   "metadata": {},
   "source": [
    "#### Average proportion of low-credible domains\n",
    "We have a list of low-credible domains in English, French, Italian and Greek.\n",
    "\n",
    "So, we filter the countries speaking one of this languages, and we analyse the proportion of links shared coming from one of these domains. \n",
    "To compute this proportion, we excluded all the neutral domains (urls pointing to social networks, urls shorteners...)."
   ]
  },
  {
   "cell_type": "code",
   "execution_count": 11,
   "metadata": {},
   "outputs": [
    {
     "name": "stdout",
     "output_type": "stream",
     "text": [
      "Average LC domains in novax community: 26.0%\n",
      "Average LC domains in provax community: 2.4%\n"
     ]
    }
   ],
   "source": [
    "LC_countries = [\"US\", \"GB\", \"CA\", \"IE\", \"AU\", \"NZ\", \"IT\", \"FR\", \"GR\"]\n",
    "print(\"Average LC domains in novax community:\", str(round(info_df[\"novax_LC_prop\"].dropna().loc[LC_countries].mean() * 100, 1)) + \"%\")\n",
    "print(\"Average LC domains in provax community:\", str(round(info_df[\"provax_LC_prop\"].dropna().loc[LC_countries].mean() * 100, 1)) + \"%\")"
   ]
  },
  {
   "cell_type": "code",
   "execution_count": 12,
   "metadata": {},
   "outputs": [
    {
     "data": {
      "text/plain": [
       "Ttest_indResult(statistic=14.343761854133716, pvalue=1.441968635695734e-20)"
      ]
     },
     "execution_count": 12,
     "metadata": {},
     "output_type": "execute_result"
    }
   ],
   "source": [
    "ttest_ind(info_df[\"novax_LC_prop\"].dropna().loc[LC_countries].dropna(), info_df[\"provax_LC_prop\"].dropna().loc[LC_countries].dropna())"
   ]
  },
  {
   "cell_type": "markdown",
   "metadata": {},
   "source": [
    "Users in no-vax communities share significantly more LC domains than the rest of the networks."
   ]
  },
  {
   "cell_type": "code",
   "execution_count": 212,
   "metadata": {},
   "outputs": [],
   "source": [
    "#normalization to transform the variables in log scale, centered in 1, \n",
    "\n",
    "class MidpointLogNorm(SymLogNorm):\n",
    "    \"\"\"\n",
    "    Normalise the colorbar so that diverging bars work there way either side from a prescribed midpoint value)\n",
    "    e.g. im=ax1.imshow(array, norm=MidpointNormalize(midpoint=0.,vmin=-100, vmax=100))\n",
    "\n",
    "    All arguments are the same as SymLogNorm, except for midpoint    \n",
    "    \"\"\"\n",
    "    def __init__(self, lin_thres = 10**-10, lin_scale = 10**-11, midpoint = None, vmin = None, vmax = None):\n",
    "        self.midpoint = midpoint\n",
    "        self.lin_thres = lin_thres\n",
    "        self.lin_scale = lin_scale\n",
    "        #fraction of the cmap that the linear component occupies\n",
    "        self.linear_proportion = (lin_scale / (lin_scale + 1)) * 0.5\n",
    "        #print(self.linear_proportion)\n",
    "\n",
    "        SymLogNorm.__init__(self, lin_thres, lin_scale, vmin, vmax)\n",
    "\n",
    "    def __get_value__(self, v, log_val, clip=None):\n",
    "        if v < -self.lin_thres or v > self.lin_thres:\n",
    "            return log_val\n",
    "        \n",
    "        x = [-self.lin_thres, self.midpoint, self.lin_thres]\n",
    "        y = [0.5 - self.linear_proportion, 0.5, 0.5 + self.linear_proportion]\n",
    "        interpol = np.interp(v, x, y)\n",
    "        return interpol\n",
    "\n",
    "    def __call__(self, value, clip=None):\n",
    "        log_val = SymLogNorm.__call__(self, value)\n",
    "\n",
    "        out = [0] * len(value)\n",
    "        for i, v in enumerate(value):\n",
    "            out[i] = self.__get_value__(v, log_val[i])\n",
    "\n",
    "        return np.ma.masked_array(out)"
   ]
  },
  {
   "cell_type": "code",
   "execution_count": 215,
   "metadata": {},
   "outputs": [
    {
     "name": "stderr",
     "output_type": "stream",
     "text": [
      "<ipython-input-215-9b6e7b36779c>:44: UserWarning: This figure includes Axes that are not compatible with tight_layout, so results might be incorrect.\n",
      "  plt.tight_layout()\n",
      "<ipython-input-215-9b6e7b36779c>:46: UserWarning: Matplotlib is currently using module://ipykernel.pylab.backend_inline, which is a non-GUI backend, so cannot show the figure.\n",
      "  fig.show()\n"
     ]
    },
    {
     "data": {
      "image/png": "[encoded data removed]",
      "text/plain": [
       "<Figure size 1300x600 with 5 Axes>"
      ]
     },
     "metadata": {},
     "output_type": "display_data"
    }
   ],
   "source": [
    "xlab_fsize = 16\n",
    "cbar_fsize = 12\n",
    "xticks_fsize = 16\n",
    "\n",
    "df = info_df[[\"activity_ratio\", \"urls_ratio\", \"youtube_ratio\", \"LC_prop_ratio\"]].unstack().dropna(how = \"all\")\n",
    "df = df.loc[[u for u in lang_sort if u in df.index]].fillna(-1)\n",
    "rdgn = sns.diverging_palette(h_neg = 250, h_pos = 10, s = 99, l = 40, \n",
    "                             as_cmap = True, center = \"light\")\n",
    "lag_ratio_rb = MidpointLogNorm(midpoint = 10, vmin = 10**-2, vmax = 10**2)\n",
    "\n",
    "\n",
    "fig, axes = plt.subplots(1,4, figsize = (13, 6))\n",
    "cbar_ax = fig.add_axes([1.01, 0.15, .02, 0.8])\n",
    "\n",
    "for ax, var, title in zip(axes.ravel(), [\"activity_ratio\", \"urls_ratio\", \"youtube_ratio\", \"LC_prop_ratio\"],\n",
    "                  [\"Retweets\", \"URLs\", \"YouTube\", \"LC Domains\"]):\n",
    "    sns.heatmap(df[var], cmap = rdgn, norm = lag_ratio_rb,\n",
    "                #matplotlib.colors.LogNorm(),\n",
    "                linewidths = 0.5, cbar = var == \"LC_prop_ratio\", ax = ax, cbar_ax = cbar_ax)\n",
    "    sns.heatmap(df[var], mask = df[var] > -1,#((df != 0)&(~df.isna())&(~np.isinf(df))),\n",
    "                linewidths = 0.5,\n",
    "                cmap = ListedColormap([\"lightgrey\"]), \n",
    "                cbar = False, ax = ax)\n",
    "    \n",
    "    ax.set_title(title, fontsize = 18)\n",
    "    ax.set_ylabel(\"\", fontsize = 18)\n",
    "    ax.set_xlabel(\"\", fontsize = 18)\n",
    "    #cbar = ax.collections[0].colorbar\n",
    "    #set ticks on colorbar with % format\n",
    "    #cbar.ax.yaxis.set_major_formatter(PercentFormatter(1, 0))\n",
    "    #cbar.ax.set_ylim([max(D.min().min(), 0), D.max().max()])\n",
    "\n",
    "    ax.set_xticklabels([\"PC\", \"PV\", \"VD\", \"VR\"], fontsize = xticks_fsize)\n",
    "    \n",
    "\n",
    "    if var == \"LC_prop_ratio\":\n",
    "        cbar = ax.collections[0].colorbar\n",
    "        cbar.ax.tick_params(labelsize = cbar_fsize) \n",
    "\n",
    "plt.tight_layout()\n",
    "\n",
    "fig.show()"
   ]
  },
  {
   "cell_type": "markdown",
   "metadata": {},
   "source": [
    "## RWC"
   ]
  },
  {
   "cell_type": "code",
   "execution_count": 217,
   "metadata": {},
   "outputs": [
    {
     "data": {
      "image/png": "[encoded data removed]",
      "text/plain": [
       "<Figure size 400x600 with 2 Axes>"
      ]
     },
     "metadata": {},
     "output_type": "display_data"
    }
   ],
   "source": [
    "fig, axes = plt.subplots(1,1, figsize = [4, 6])\n",
    "\n",
    "D = info_df[\"rwc_novax\"].unstack().loc[lang_sort]\n",
    "sns.heatmap(data = D, cmap = \"Reds\")\n",
    "axes.set_xticklabels(periods, fontsize = 11)\n",
    "axes.set_xlabel(\"\")\n",
    "axes.set_ylabel(\"\")\n",
    "plt.yticks(fontsize = 14, rotation = 0)\n",
    "axes.set_title(\"RWC\", fontsize = title_fsize)\n",
    "\n",
    "cbar = axes.collections[0].colorbar\n",
    "cbar.ax.tick_params(labelsize = cbar_fsize) \n",
    "\n"
   ]
  },
  {
   "cell_type": "code",
   "execution_count": 219,
   "metadata": {},
   "outputs": [
    {
     "data": {
      "text/plain": [
       "period\n",
       "period1    0.936926\n",
       "period2    0.843284\n",
       "period3    0.761870\n",
       "period4    0.725582\n",
       "dtype: float64"
      ]
     },
     "execution_count": 219,
     "metadata": {},
     "output_type": "execute_result"
    }
   ],
   "source": [
    "info_df[\"rwc_novax\"].unstack().mean()"
   ]
  },
  {
   "cell_type": "markdown",
   "metadata": {},
   "source": [
    "Is RWC decreasing?"
   ]
  },
  {
   "cell_type": "code",
   "execution_count": 250,
   "metadata": {},
   "outputs": [
    {
     "name": "stdout",
     "output_type": "stream",
     "text": [
      "Is RWC significantly decreasing from period 1 to period 2?\n",
      "\n",
      "Ttest_indResult(statistic=3.4562691405614037, pvalue=0.0022477351462251165)\n",
      "p < 0.01\n",
      "Yes\n"
     ]
    }
   ],
   "source": [
    "print(\"Is RWC significantly decreasing from period 1 to period 2?\")\n",
    "print(\"\")\n",
    "print(ttest_ind(info_df[\"rwc_novax\"].unstack()[\"period1\"].dropna(), info_df[\"rwc_novax\"].unstack()[\"period2\"].dropna()))\n",
    "print(\"p < 0.01\")\n",
    "print(\"Yes\")"
   ]
  },
  {
   "cell_type": "code",
   "execution_count": 251,
   "metadata": {},
   "outputs": [
    {
     "name": "stdout",
     "output_type": "stream",
     "text": [
      "Is RWC significantly decreasing from period 2 to period 3?\n",
      "\n",
      "Ttest_indResult(statistic=2.4606634646635785, pvalue=0.019639755695782923)\n",
      "p < 0.05\n",
      "Yes\n"
     ]
    }
   ],
   "source": [
    "print(\"Is RWC significantly decreasing from period 2 to period 3?\")\n",
    "print(\"\")\n",
    "print(ttest_ind(info_df[\"rwc_novax\"].unstack()[\"period2\"].dropna(), info_df[\"rwc_novax\"].unstack()[\"period3\"].dropna()))\n",
    "print(\"p < 0.05\")\n",
    "print(\"Yes\")"
   ]
  },
  {
   "cell_type": "code",
   "execution_count": 252,
   "metadata": {},
   "outputs": [
    {
     "name": "stdout",
     "output_type": "stream",
     "text": [
      "Is RWC significantly decreasing from period 3 to period 4?\n",
      "\n",
      "Ttest_indResult(statistic=0.8127331666923192, pvalue=0.4237508882202874)\n",
      "No\n"
     ]
    }
   ],
   "source": [
    "print(\"Is RWC significantly decreasing from period 3 to period 4?\")\n",
    "print(\"\")\n",
    "print(ttest_ind(info_df[\"rwc_novax\"].unstack()[\"period3\"].dropna(), info_df[\"rwc_novax\"].unstack()[\"period4\"].dropna()))\n",
    "print(\"No\")"
   ]
  },
  {
   "cell_type": "markdown",
   "metadata": {},
   "source": [
    "The polarization is decreasing from pre-COVID to COVID period, and from pre-vaccine to vaccine development."
   ]
  },
  {
   "cell_type": "code",
   "execution_count": null,
   "metadata": {},
   "outputs": [],
   "source": []
  },
  {
   "cell_type": "code",
   "execution_count": null,
   "metadata": {},
   "outputs": [],
   "source": []
  },
  {
   "cell_type": "code",
   "execution_count": null,
   "metadata": {},
   "outputs": [],
   "source": []
  },
  {
   "cell_type": "code",
   "execution_count": null,
   "metadata": {},
   "outputs": [],
   "source": []
  },
  {
   "cell_type": "code",
   "execution_count": null,
   "metadata": {},
   "outputs": [],
   "source": []
  }
 ],
 "metadata": {
  "kernelspec": {
   "display_name": "Python 3",
   "language": "python",
   "name": "python3"
  },
  "language_info": {
   "codemirror_mode": {
    "name": "ipython",
    "version": 3
   },
   "file_extension": ".py",
   "mimetype": "text/x-python",
   "name": "python",
   "nbconvert_exporter": "python",
   "pygments_lexer": "ipython3",
   "version": "3.8.5"
  }
 },
 "nbformat": 4,
 "nbformat_minor": 4
}
