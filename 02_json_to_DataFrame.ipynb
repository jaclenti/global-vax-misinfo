{
 "cells": [
  {
   "cell_type": "markdown",
   "metadata": {},
   "source": [
    "# json to DataFrame\n",
    "In this notebook, we create dataframes from the .json Twitter data.\n",
    "Tweets are extracted with Twitter API version 1.\n",
    "\n",
    "For each language we have daily files containing raw data.\n",
    "For each language we create daily files in .tsv as tables: each row is a tweet, and columns are all the attributes needed.\n",
    "\n",
    "Some files contain more languages, so we have to divide them by language.\n",
    "\n",
    "Given the json data:\n",
    "- we skip the malformatted files\n",
    "- we transform the entries in columns when possible\n",
    "- we do the same on the nested entries, such as user, retweeted_status, quoted_status\n",
    "- we do the same on the double nested entries, such as retweeted_status[user]\n",
    "- we extract urls and hashtags from entities\n",
    "- we geolocate the tweets with function find_location\n",
    "- save everything in .../DATA_clean/..."
   ]
  },
  {
   "cell_type": "code",
   "execution_count": 1,
   "metadata": {},
   "outputs": [],
   "source": [
    "from glob import glob\n",
    "import pandas as pd\n",
    "from pandas.core.common import flatten\n",
    "import json\n",
    "import csv\n",
    "import random\n",
    "import collections\n",
    "import gzip\n",
    "import numpy as np\n",
    "import os\n",
    "import pytz\n",
    "import time\n",
    "import re\n",
    "import datetime\n",
    "import unidecode \n",
    "from Geolocate_Text import find_location\n",
    "#import Geolocate_Text\n",
    "import unicodedata\n",
    "from nltk.corpus import stopwords\n",
    "from nltk.tokenize import RegexpTokenizer"
   ]
  },
  {
   "cell_type": "code",
   "execution_count": 4,
   "metadata": {},
   "outputs": [
    {
     "data": {
      "text/plain": [
       "'/data/fast/public/collections/multilang/DATA/vaccine/20190904_bg-pl-pt-fr.txt.gz'"
      ]
     },
     "execution_count": 4,
     "metadata": {},
     "output_type": "execute_result"
    }
   ],
   "source": [
    "#files to be read are stored in this folder as /date_lang.txt.gz\n",
    "#some files contain more languages, so we need to check the language for each tweet\n",
    "files = sorted(glob(\"/data/fast/public/collections/multilang/DATA/vaccine/*\"))\n",
    "files[0]"
   ]
  },
  {
   "cell_type": "code",
   "execution_count": 29,
   "metadata": {},
   "outputs": [],
   "source": [
    "langs = sorted(set([u.split(\"_\")[1][:2] for u in glob(\"/data/fast/public/collections/multilang/DATA/vaccine/*\")]))\n",
    "langs.remove(\"sk\") #sk and hr are empty\n",
    "langs.remove(\"hr\")"
   ]
  },
  {
   "cell_type": "code",
   "execution_count": 3,
   "metadata": {
    "scrolled": true
   },
   "outputs": [
    {
     "data": {
      "text/plain": [
       "{'created_at': 'Sun Sep 08 04:06:59 +0000 2019',\n",
       " 'id': 1170549063605006338,\n",
       " 'id_str': '1170549063605006338',\n",
       " 'text': '\"Die Masern Impfquote in der Ukraine war 2016 mit 31% die niedrigste von Europa, dennoch gab es keine signifikante… https://t.co/HUAlV7wNUE',\n",
       " 'source': '<a href=\"https://mobile.twitter.com\" rel=\"nofollow\">Twitter Web App</a>',\n",
       " 'truncated': True,\n",
       " 'in_reply_to_status_id': 1165015167337422851,\n",
       " 'in_reply_to_status_id_str': '1165015167337422851',\n",
       " 'in_reply_to_user_id': 1054605345082036226,\n",
       " 'in_reply_to_user_id_str': '1054605345082036226',\n",
       " 'in_reply_to_screen_name': 'DorisLa34916916',\n",
       " 'user': {'id': 1054605345082036226,\n",
       "  'id_str': '1054605345082036226',\n",
       "  'name': 'Doris Lang',\n",
       "  'screen_name': 'DorisLa34916916',\n",
       "  'location': '80638 München',\n",
       "  'url': None,\n",
       "  'description': 'T61 ist gefälscht & Tiere müssen weltweit beim Tierarzt verätzen & ersticken das CSU deckt. Seit 1961 bis heute! Habe Heimat verloren & soll verhaftet werden!',\n",
       "  'translator_type': 'none',\n",
       "  'protected': False,\n",
       "  'verified': False,\n",
       "  'followers_count': 20,\n",
       "  'friends_count': 0,\n",
       "  'listed_count': 0,\n",
       "  'favourites_count': 21798,\n",
       "  'statuses_count': 23294,\n",
       "  'created_at': 'Tue Oct 23 05:28:02 +0000 2018',\n",
       "  'utc_offset': None,\n",
       "  'time_zone': None,\n",
       "  'geo_enabled': False,\n",
       "  'lang': None,\n",
       "  'contributors_enabled': False,\n",
       "  'is_translator': False,\n",
       "  'profile_background_color': 'F5F8FA',\n",
       "  'profile_background_image_url': '',\n",
       "  'profile_background_image_url_https': '',\n",
       "  'profile_background_tile': False,\n",
       "  'profile_link_color': '1DA1F2',\n",
       "  'profile_sidebar_border_color': 'C0DEED',\n",
       "  'profile_sidebar_fill_color': 'DDEEF6',\n",
       "  'profile_text_color': '333333',\n",
       "  'profile_use_background_image': True,\n",
       "  'profile_image_url': 'http://pbs.twimg.com/profile_images/1055042093352148992/rRVbKHO3_normal.jpg',\n",
       "  'profile_image_url_https': 'https://pbs.twimg.com/profile_images/1055042093352148992/rRVbKHO3_normal.jpg',\n",
       "  'default_profile': True,\n",
       "  'default_profile_image': False,\n",
       "  'following': None,\n",
       "  'follow_request_sent': None,\n",
       "  'notifications': None},\n",
       " 'geo': None,\n",
       " 'coordinates': None,\n",
       " 'place': None,\n",
       " 'contributors': None,\n",
       " 'is_quote_status': False,\n",
       " 'extended_tweet': {'full_text': '\"Die Masern Impfquote in der Ukraine war 2016 mit 31% die niedrigste von Europa, dennoch gab es keine signifikante Anzahl von Masernfälle. Im Jahr 2017 wurden  90% der Kinder in der Ukraine geimpft. Seitdem hat es eine Explosion von Masernfällen gegeben..\" https://t.co/rAXz7sEp6w',\n",
       "  'display_text_range': [0, 280],\n",
       "  'entities': {'hashtags': [],\n",
       "   'urls': [{'url': 'https://t.co/rAXz7sEp6w',\n",
       "     'expanded_url': 'https://stichtingvaccinvrij.nl/wurden-die-12-000-masernfalle-in-der-ukraine-von-der-jungsten-impfkampagne-verursacht/',\n",
       "     'display_url': 'stichtingvaccinvrij.nl/wurden-die-12-…',\n",
       "     'indices': [257, 280]}],\n",
       "   'user_mentions': [],\n",
       "   'symbols': []}},\n",
       " 'quote_count': 0,\n",
       " 'reply_count': 0,\n",
       " 'retweet_count': 0,\n",
       " 'favorite_count': 0,\n",
       " 'entities': {'hashtags': [],\n",
       "  'urls': [{'url': 'https://t.co/HUAlV7wNUE',\n",
       "    'expanded_url': 'https://twitter.com/i/web/status/1170549063605006338',\n",
       "    'display_url': 'twitter.com/i/web/status/1…',\n",
       "    'indices': [116, 139]}],\n",
       "  'user_mentions': [],\n",
       "  'symbols': []},\n",
       " 'favorited': False,\n",
       " 'retweeted': False,\n",
       " 'possibly_sensitive': False,\n",
       " 'filter_level': 'low',\n",
       " 'lang': 'de',\n",
       " 'timestamp_ms': '1567915619170'}"
      ]
     },
     "execution_count": 3,
     "metadata": {},
     "output_type": "execute_result"
    }
   ],
   "source": [
    "files = sorted(glob(\"/data/fast/public/collections/multilang/DATA/vaccine/*\"))\n",
    "#how to read a .json file\n",
    "i = 0\n",
    "locs = []\n",
    "with gzip.open(files[24], \"rt\") as f:\n",
    "    for line in f:\n",
    "        tweet = json.loads(line)\n",
    "        url = tweet[\"entities\"][\"urls\"]\n",
    "        if url != []:\n",
    "            break\n",
    "tweet"
   ]
  },
  {
   "cell_type": "code",
   "execution_count": 5,
   "metadata": {},
   "outputs": [
    {
     "data": {
      "text/plain": [
       "dict_keys(['created_at', 'id', 'id_str', 'text', 'source', 'truncated', 'in_reply_to_status_id', 'in_reply_to_status_id_str', 'in_reply_to_user_id', 'in_reply_to_user_id_str', 'in_reply_to_screen_name', 'user', 'geo', 'coordinates', 'place', 'contributors', 'is_quote_status', 'extended_tweet', 'quote_count', 'reply_count', 'retweet_count', 'favorite_count', 'entities', 'favorited', 'retweeted', 'possibly_sensitive', 'filter_level', 'lang', 'timestamp_ms'])"
      ]
     },
     "execution_count": 5,
     "metadata": {},
     "output_type": "execute_result"
    }
   ],
   "source": [
    "#tweet features\n",
    "tweet.keys()"
   ]
  },
  {
   "cell_type": "code",
   "execution_count": 7,
   "metadata": {},
   "outputs": [
    {
     "data": {
      "text/plain": [
       "{'hashtags': [],\n",
       " 'urls': [{'url': 'https://t.co/HUAlV7wNUE',\n",
       "   'expanded_url': 'https://twitter.com/i/web/status/1170549063605006338',\n",
       "   'display_url': 'twitter.com/i/web/status/1…',\n",
       "   'indices': [116, 139]}],\n",
       " 'user_mentions': [],\n",
       " 'symbols': []}"
      ]
     },
     "execution_count": 7,
     "metadata": {},
     "output_type": "execute_result"
    }
   ],
   "source": [
    "#tweet nested features\n",
    "tweet[\"entities\"]"
   ]
  },
  {
   "cell_type": "code",
   "execution_count": 11,
   "metadata": {},
   "outputs": [],
   "source": [
    "twt_fields = [\"id_str\", \"created_at\", \"lang\"]\n",
    "\n",
    "usr_fields = [\"id_str\", \"name\", \"screen_name\", \"followers_count\",\"friends_count\", \n",
    "              \"favourites_count\", \"listed_count\", \"statuses_count\", \"verified\",\n",
    "              \"location\", \"created_at\", \"lang\"]\n",
    "\n",
    "QT_fields = [\"id_str\", \"created_at\", \"lang\"]\n",
    "\n",
    "QT_usr_fields = [\"id_str\", \"name\", \"screen_name\", \"location\"]\n",
    "\n",
    "RT_fields = [\"id_str\", \"created_at\", \"lang\"]\n",
    "\n",
    "RT_usr_fields = [\"id_str\", \"name\", \"screen_name\", \"location\"]\n",
    "\n",
    "cols = list(flatten([\"text\", twt_fields, \"hashtags\", [\"user_\" + field for field in usr_fields], \"real_location\", \"user_country_code\",\n",
    "                     \"QT_text\", [\"QT_\" + field for field in QT_fields], [\"QT_user_\" + field for field in QT_usr_fields],\n",
    "                     \"RT_text\", [\"RT_\" + field for field in RT_fields], [\"RT_user_\" + field for field in RT_usr_fields],\n",
    "                      \"RT_real_location\", \"RT_user_country_code\"\n",
    "                    ]))\n",
    "\n",
    "cols += [\"urls\"]"
   ]
  },
  {
   "cell_type": "markdown",
   "metadata": {},
   "source": [
    "Create an empty list outstr.\n",
    "Each new feature will be appended to the list, if exists, otherwise append \" \".\n",
    "\n",
    "We can create a pandas Series with index cols and entries outstr."
   ]
  },
  {
   "cell_type": "code",
   "execution_count": 12,
   "metadata": {},
   "outputs": [],
   "source": [
    "#return the most completed text of the tweet\n",
    "#if it is a retweet get the text from \"retweeted_status\"\n",
    "#if it has a long text, the full text is inside \"extended_text\"\n",
    "#otherwise it is in tweet[\"text\"]\n",
    "#if empty return \" \"\n",
    "def get_extended_text(tweet, outstr):\n",
    "    if \"retweeted_status\" in tweet:\n",
    "        txt = get_extended_text(tweet[\"retweeted_status\"], [])[0]\n",
    "    elif \"extended_tweet\" in tweet:\n",
    "        txt = tweet[\"extended_tweet\"][\"full_text\"]\n",
    "    elif \"text\" in tweet:\n",
    "        txt = tweet[\"text\"]\n",
    "    else:\n",
    "        txt = [\" \"]\n",
    "    outstr += [txt]\n",
    "    return outstr"
   ]
  },
  {
   "cell_type": "code",
   "execution_count": 13,
   "metadata": {},
   "outputs": [],
   "source": [
    "#used to extract all nested text features, such as tweet[\"retweeted_status\"][\"text\"]\n",
    "def get_nested_text(tweet, outstr, nested):\n",
    "    if nested in tweet:\n",
    "        outstr = get_extended_text(tweet[nested], outstr)\n",
    "    else:\n",
    "        outstr += [\" \"]\n",
    "    return outstr"
   ]
  },
  {
   "cell_type": "code",
   "execution_count": 14,
   "metadata": {},
   "outputs": [],
   "source": [
    "#extract simple features tweet[\"...\"]\n",
    "def get_fields(tweet, outstr, fields):\n",
    "    for field in fields:\n",
    "        if field in tweet:\n",
    "            outstr += [str(tweet[field]).replace(\"\\n\",\" \").replace(\"\\t\",\" \")]\n",
    "        else:\n",
    "            outstr += [\" \"]\n",
    "    return outstr        "
   ]
  },
  {
   "cell_type": "code",
   "execution_count": 15,
   "metadata": {},
   "outputs": [],
   "source": [
    "#extract nested features tweet[\"...\"][\"...\"] as strings\n",
    "def get_nested_fields(tweet, outstr, nested, fields):\n",
    "    for field in fields:\n",
    "        if nested in tweet:\n",
    "            if tweet[nested] != None:\n",
    "                if field in tweet[nested]:\n",
    "                    outstr += [str(tweet[nested][field]).replace(\"\\n\",\" \").replace(\"\\t\",\" \")]\n",
    "                else:\n",
    "                    outstr += [\" \"]\n",
    "            else:\n",
    "                outstr += [\" \"]\n",
    "        else:\n",
    "            outstr += [\" \"]\n",
    "    return outstr        "
   ]
  },
  {
   "cell_type": "code",
   "execution_count": 16,
   "metadata": {},
   "outputs": [],
   "source": [
    "#extract 2 nested features tweet[\"...\"][\"...\"][\"...\"]\n",
    "def get_2nested_fields(tweet, outstr, nested1, nested2, fields):\n",
    "    for field in fields:\n",
    "        if nested1 in tweet:\n",
    "            if nested2 in tweet[nested1]:\n",
    "                if field in tweet[nested1][nested2]:\n",
    "                    outstr += [str(tweet[nested1][nested2][field]).replace(\"\\n\",\" \").replace(\"\\t\",\" \")]\n",
    "                else:\n",
    "                    outstr += [\" \"]\n",
    "            else:\n",
    "                outstr += [\" \"]\n",
    "        else:\n",
    "            outstr += [\" \"]\n",
    "    return outstr        \n"
   ]
  },
  {
   "cell_type": "code",
   "execution_count": 17,
   "metadata": {},
   "outputs": [],
   "source": [
    "#hashtags are stored as lists in tweet[\"entities\"][\"hashtags\"]\n",
    "#extract hashtags in the form \"\" if no hashtag, \"hashtag1\", \"hashtag1,hastag2\" and so on\n",
    "def get_hashtags(tweet, outstr):\n",
    "    h = []\n",
    "    if \"entities\" in tweet:\n",
    "        if \"hashtags\" in tweet[\"entities\"]:\n",
    "            hashtags = tweet[\"entities\"][\"hashtags\"]\n",
    "            for hashtag in hashtags:\n",
    "                h += [hashtag[\"text\"]]\n",
    "    outstr += [\",\".join(h)]\n",
    "    return outstr"
   ]
  },
  {
   "cell_type": "code",
   "execution_count": 22,
   "metadata": {},
   "outputs": [],
   "source": [
    "#extract URL in the form \"\" if no URL, \"url1,url2\" and so on\n",
    "def get_url(tweet, outstr):\n",
    "    url_list = [u[\"expanded_url\"] for u in tweet[\"entities\"][\"urls\"]]\n",
    "    outstr += [\",\".join(url_list)]\n",
    "    return outstr\n"
   ]
  },
  {
   "cell_type": "code",
   "execution_count": 31,
   "metadata": {},
   "outputs": [],
   "source": [
    "#find_location returns location and country code, given a location string\n",
    "#input: roma, output: (Roma, IT) \n",
    "def get_location(tweet, outstr):\n",
    "    if \"location\" in tweet[\"user\"]:\n",
    "        loc_user = find_location(tweet[\"user\"][\"location\"])\n",
    "        outstr += [loc_user[0]]\n",
    "        outstr += [loc_user[1]]\n",
    "    else:\n",
    "        outstr += [\" \"]\n",
    "        outstr += [\" \"]\n",
    "    return outstr"
   ]
  },
  {
   "cell_type": "code",
   "execution_count": 24,
   "metadata": {},
   "outputs": [],
   "source": [
    "#locate also the retweeted user\n",
    "def get_RT_location(tweet, outstr):\n",
    "    if \"retweeted_status\" in tweet:\n",
    "        outstr = get_location(tweet[\"retweeted_status\"], outstr)\n",
    "    else:\n",
    "        outstr += [\" \"]\n",
    "        outstr += [\" \"]\n",
    "    return outstr"
   ]
  },
  {
   "cell_type": "code",
   "execution_count": 27,
   "metadata": {},
   "outputs": [],
   "source": [
    "def get_line(tweet):\n",
    "    outstr = []\n",
    "    outstr = get_extended_text(tweet, outstr)\n",
    "    outstr = get_fields(tweet, outstr, twt_fields)\n",
    "    outstr = get_hashtags(tweet, outstr)\n",
    "    outstr = get_nested_fields(tweet, outstr, \"user\", usr_fields)\n",
    "    outstr = get_location(tweet, outstr)\n",
    "    outstr = get_nested_text(tweet, outstr, \"quoted_status\")\n",
    "    outstr = get_nested_fields(tweet, outstr, \"quoted_status\", QT_fields)\n",
    "    outstr = get_2nested_fields(tweet, outstr, \"quoted_status\", \"user\", QT_usr_fields)\n",
    "    outstr = get_nested_text(tweet, outstr, \"retweeted_status\")\n",
    "    outstr = get_nested_fields(tweet, outstr, \"retweeted_status\", RT_fields)\n",
    "    outstr = get_2nested_fields(tweet, outstr, \"retweeted_status\", \"user\", RT_usr_fields)\n",
    "    outstr = get_RT_location(tweet, outstr)\n",
    "    outstr = get_url(tweet, outstr)\n",
    "    return outstr"
   ]
  },
  {
   "cell_type": "code",
   "execution_count": 28,
   "metadata": {
    "scrolled": true
   },
   "outputs": [
    {
     "data": {
      "text/plain": [
       "['\"Die Masern Impfquote in der Ukraine war 2016 mit 31% die niedrigste von Europa, dennoch gab es keine signifikante Anzahl von Masernfälle. Im Jahr 2017 wurden  90% der Kinder in der Ukraine geimpft. Seitdem hat es eine Explosion von Masernfällen gegeben..\" https://t.co/rAXz7sEp6w',\n",
       " '1170549063605006338',\n",
       " 'Sun Sep 08 04:06:59 +0000 2019',\n",
       " 'de',\n",
       " '',\n",
       " '1054605345082036226',\n",
       " 'Doris Lang',\n",
       " 'DorisLa34916916',\n",
       " '20',\n",
       " '0',\n",
       " '21798',\n",
       " '0',\n",
       " '23294',\n",
       " 'False',\n",
       " '80638 München',\n",
       " 'Tue Oct 23 05:28:02 +0000 2018',\n",
       " 'None',\n",
       " 'Kreisfreie Stadt München',\n",
       " 'DE',\n",
       " ' ',\n",
       " ' ',\n",
       " ' ',\n",
       " ' ',\n",
       " ' ',\n",
       " ' ',\n",
       " ' ',\n",
       " ' ',\n",
       " ' ',\n",
       " ' ',\n",
       " ' ',\n",
       " ' ',\n",
       " ' ',\n",
       " ' ',\n",
       " ' ',\n",
       " ' ',\n",
       " ' ',\n",
       " ' ',\n",
       " 'https://twitter.com/i/web/status/1170549063605006338']"
      ]
     },
     "execution_count": 28,
     "metadata": {},
     "output_type": "execute_result"
    }
   ],
   "source": [
    "get_line(tweet)"
   ]
  },
  {
   "cell_type": "code",
   "execution_count": 30,
   "metadata": {
    "scrolled": true
   },
   "outputs": [
    {
     "data": {
      "text/plain": [
       "text                     \"Die Masern Impfquote in der Ukraine war 2016 ...\n",
       "id_str                                                 1170549063605006338\n",
       "created_at                                  Sun Sep 08 04:06:59 +0000 2019\n",
       "lang                                                                    de\n",
       "hashtags                                                                  \n",
       "user_id_str                                            1054605345082036226\n",
       "user_name                                                       Doris Lang\n",
       "user_screen_name                                           DorisLa34916916\n",
       "user_followers_count                                                    20\n",
       "user_friends_count                                                       0\n",
       "user_favourites_count                                                21798\n",
       "user_listed_count                                                        0\n",
       "user_statuses_count                                                  23294\n",
       "user_verified                                                        False\n",
       "user_location                                                80638 München\n",
       "user_created_at                             Tue Oct 23 05:28:02 +0000 2018\n",
       "user_lang                                                             None\n",
       "real_location                                     Kreisfreie Stadt München\n",
       "user_country_code                                                       DE\n",
       "QT_text                                                                   \n",
       "QT_id_str                                                                 \n",
       "QT_created_at                                                             \n",
       "QT_lang                                                                   \n",
       "QT_user_id_str                                                            \n",
       "QT_user_name                                                              \n",
       "QT_user_screen_name                                                       \n",
       "QT_user_location                                                          \n",
       "RT_text                                                                   \n",
       "RT_id_str                                                                 \n",
       "RT_created_at                                                             \n",
       "RT_lang                                                                   \n",
       "RT_user_id_str                                                            \n",
       "RT_user_name                                                              \n",
       "RT_user_screen_name                                                       \n",
       "RT_user_location                                                          \n",
       "RT_real_location                                                          \n",
       "RT_user_country_code                                                      \n",
       "urls                     https://twitter.com/i/web/status/1170549063605...\n",
       "dtype: object"
      ]
     },
     "execution_count": 30,
     "metadata": {},
     "output_type": "execute_result"
    }
   ],
   "source": [
    "pd.Series(get_line(tweet), index = cols)"
   ]
  },
  {
   "cell_type": "code",
   "execution_count": null,
   "metadata": {},
   "outputs": [],
   "source": [
    "#input: path\n",
    "#open file, for each tweet check if:\n",
    "#- it has good format\n",
    "#- it is outside of 2020 Jan - 2020 Jun\n",
    "#create get_line()\n",
    "#save in tsv\n",
    "def json_tsv_parser(path, write_folder = \"/data/public/jlenti/multilang-vax/DATA_clean/\"):\n",
    "    with gzip.open(path, \"rt\") as this_file:    \n",
    "        err = 0\n",
    "        #use try/except procedure to skip the files without correct lines that are not json \n",
    "        try:\n",
    "            for line in this_file:\n",
    "                line = line.strip()\n",
    "                outstr = []\n",
    "                    \n",
    "                try:\n",
    "                    tweet = json.loads(line)\n",
    "                    #skip the lines that are not tweets (if some errors occurred, we have a number, 403 or other)\n",
    "                    if type(tweet) == int:\n",
    "                        continue\n",
    "                    #if created_at is not present there is some errore\n",
    "                    if \"created_at\" not in tweet:\n",
    "                        continue\n",
    "                    #we focus on Oct-Dec 2019 and Jul 2020-Mar 2021\n",
    "                    if (pd.to_datetime(tweet[\"created_at\"]) > datetime.datetime(2020,1,1).replace(tzinfo=pytz.UTC)) \\\n",
    "                    & (pd.to_datetime(tweet[\"created_at\"]) < datetime.datetime(2020,6,30).replace(tzinfo=pytz.UTC)):\n",
    "                        continue\n",
    "                    #read the lang to save the tweet in the correct folder\n",
    "                    lang = tweet[\"lang\"]\n",
    "                    \n",
    "                    outstr = get_line(tweet)\n",
    "                    \n",
    "                    #used to locate the tweet in correct folder\n",
    "                    right_date = str(pd.to_datetime(tweet[\"created_at\"]).strftime(\"%Y%m%d\")).strip()\n",
    "                    \n",
    "                    #save in the format /.../it/20201001-it.tsv\n",
    "                    write_path = \"/\".join([write_folder, lang, right_date + \"-\" + lang + \".tsv\"])\n",
    "                    \n",
    "                    #write_path = \"/home/jlenti/Sample_Data/{0}-{1}.tsv\".format(right_date, lang)\n",
    "                    \n",
    "                    with open(write_path, \"a+\") as out_file:\n",
    "                        tsv_writer = csv.writer(out_file, delimiter='\\t')\n",
    "                        tsv_writer.writerow(outstr)\n",
    "                    \n",
    "                except:\n",
    "                    #print(path.split(\"/\")[8][:11], \"err1\")\n",
    "                    err += 1\n",
    "            print(path.split(\"/\")[8][:11])\n",
    "        except:\n",
    "            print(path.split(\"/\")[8][:11], \"err2\")\n",
    "            err += 1"
   ]
  },
  {
   "cell_type": "code",
   "execution_count": null,
   "metadata": {},
   "outputs": [],
   "source": []
  },
  {
   "cell_type": "code",
   "execution_count": null,
   "metadata": {},
   "outputs": [],
   "source": []
  },
  {
   "cell_type": "code",
   "execution_count": null,
   "metadata": {},
   "outputs": [],
   "source": []
  },
  {
   "cell_type": "code",
   "execution_count": null,
   "metadata": {},
   "outputs": [],
   "source": []
  },
  {
   "cell_type": "code",
   "execution_count": null,
   "metadata": {},
   "outputs": [],
   "source": []
  },
  {
   "cell_type": "code",
   "execution_count": null,
   "metadata": {},
   "outputs": [],
   "source": []
  },
  {
   "cell_type": "code",
   "execution_count": null,
   "metadata": {},
   "outputs": [],
   "source": []
  },
  {
   "cell_type": "code",
   "execution_count": null,
   "metadata": {},
   "outputs": [],
   "source": []
  },
  {
   "cell_type": "code",
   "execution_count": null,
   "metadata": {},
   "outputs": [],
   "source": []
  }
 ],
 "metadata": {
  "kernelspec": {
   "display_name": "Python 3",
   "language": "python",
   "name": "python3"
  },
  "language_info": {
   "codemirror_mode": {
    "name": "ipython",
    "version": 3
   },
   "file_extension": ".py",
   "mimetype": "text/x-python",
   "name": "python",
   "nbconvert_exporter": "python",
   "pygments_lexer": "ipython3",
   "version": "3.8.5"
  }
 },
 "nbformat": 4,
 "nbformat_minor": 4
}
