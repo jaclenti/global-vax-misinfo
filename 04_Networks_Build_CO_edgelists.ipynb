{
 "cells": [
  {
   "cell_type": "markdown",
   "metadata": {},
   "source": [
    "# Networks Build - CO edgelists\n",
    "In this notebook we create the cosharing weighted edgelists for each country in each period and save them in the folder_EU_AM.\n",
    "\n",
    "- The CO network is an undirected network, where nodes are the users, and an edge with weight w connect two users that have shared w common URLs.\n",
    "- For each selected country, for each period, we create a dataframe with columns URL, domain, lang, country, users, where for each URL we associate a list of the users that have shared it.\n",
    "- Save it in folder_EU_AM in the format /.../period1/IT_it_period1_adj_CO_edges.csv.gz\n",
    "- From these, create the edgelists: for each row of the dataframe, for each combination of two users that have shared the same URL, create a row of the edgelist. Add the weight column counting the occurrences of the pairs of users\n",
    "- Save edgelist in folder_EU_AM, in the format /.../period1/IT_it_period1_CO_edges.csv.gz"
   ]
  },
  {
   "cell_type": "code",
   "execution_count": 77,
   "metadata": {},
   "outputs": [],
   "source": [
    "import pandas as pd\n",
    "from glob import glob\n",
    "from itertools import combinations, product\n",
    "from urllib.parse import urlparse"
   ]
  },
  {
   "cell_type": "code",
   "execution_count": 3,
   "metadata": {},
   "outputs": [],
   "source": [
    "periods = {\"period1\": [\"201910\",\"201911\",\"201912\"],\n",
    "           \"period2\": [\"202007\",\"202008\",\"202009\"], \n",
    "           \"period3\": [\"202010\",\"202011\",\"202012\"], \n",
    "           \"period4\":  [\"202101\",\"202102\",\"202103\"]}\n",
    "\n",
    "folder_DATA = \"/data/public/jlenti/multilang-vax/DATA_clean_url\"\n",
    "folder_EU_AM = \"/data/public/jlenti/multilang-vax/EuropeAmerica_RTCO\"\n",
    "neutrals = pd.read_csv(\"/home/jlenti/Files/neutral_domains_1309.txt\")[\"0\"].tolist()"
   ]
  },
  {
   "cell_type": "code",
   "execution_count": 80,
   "metadata": {},
   "outputs": [
    {
     "data": {
      "text/html": [
       "<div>\n",
       "<style scoped>\n",
       "    .dataframe tbody tr th:only-of-type {\n",
       "        vertical-align: middle;\n",
       "    }\n",
       "\n",
       "    .dataframe tbody tr th {\n",
       "        vertical-align: top;\n",
       "    }\n",
       "\n",
       "    .dataframe thead th {\n",
       "        text-align: right;\n",
       "    }\n",
       "</style>\n",
       "<table border=\"1\" class=\"dataframe\">\n",
       "  <thead>\n",
       "    <tr style=\"text-align: right;\">\n",
       "      <th></th>\n",
       "      <th>country</th>\n",
       "      <th>lang</th>\n",
       "    </tr>\n",
       "  </thead>\n",
       "  <tbody>\n",
       "    <tr>\n",
       "      <th>0</th>\n",
       "      <td>US</td>\n",
       "      <td>en</td>\n",
       "    </tr>\n",
       "    <tr>\n",
       "      <th>1</th>\n",
       "      <td>BR</td>\n",
       "      <td>pt</td>\n",
       "    </tr>\n",
       "    <tr>\n",
       "      <th>2</th>\n",
       "      <td>AR</td>\n",
       "      <td>es</td>\n",
       "    </tr>\n",
       "    <tr>\n",
       "      <th>3</th>\n",
       "      <td>GB</td>\n",
       "      <td>en</td>\n",
       "    </tr>\n",
       "    <tr>\n",
       "      <th>4</th>\n",
       "      <td>ES</td>\n",
       "      <td>es</td>\n",
       "    </tr>\n",
       "  </tbody>\n",
       "</table>\n",
       "</div>"
      ],
      "text/plain": [
       "  country lang\n",
       "0      US   en\n",
       "1      BR   pt\n",
       "2      AR   es\n",
       "3      GB   en\n",
       "4      ES   es"
      ]
     },
     "execution_count": 80,
     "metadata": {},
     "output_type": "execute_result"
    }
   ],
   "source": [
    "#dataframes with all the pairs lang-countries, with the selected countries\n",
    "selected_pairs = pd.read_csv(\"/home/jlenti/Files/country_langs_selected_2104.csv\", index_col = 0)\n",
    "selected_pairs.head()"
   ]
  },
  {
   "cell_type": "markdown",
   "metadata": {},
   "source": [
    "### Example - Italy period 1"
   ]
  },
  {
   "cell_type": "code",
   "execution_count": 7,
   "metadata": {},
   "outputs": [],
   "source": [
    "lang = \"it\"\n",
    "period = \"period1\"\n",
    "country = \"IT\""
   ]
  },
  {
   "cell_type": "code",
   "execution_count": 60,
   "metadata": {},
   "outputs": [],
   "source": [
    "#read data from folder_DATA, selecting only columns with user, country, lang, urls\n",
    "url_data = pd.concat([pd.read_csv(file, lineterminator = \"\\n\",\n",
    "                                  sep = \"\\t\", low_memory = False, \n",
    "                                  quoting = False, escapechar = None)\\\n",
    "                      [[\"user_screen_name\", \"user_country_code\", \"urls\", \"lang\"]] \n",
    "                      .dropna() #drop rows without a urls\n",
    "                      for month in periods[period] #for each month of the period\n",
    "                      for file in sorted(glob(\"/\".join([folder, lang, month + \"*\"])))]) #for all the file in the selected language\n"
   ]
  },
  {
   "cell_type": "code",
   "execution_count": 61,
   "metadata": {},
   "outputs": [
    {
     "data": {
      "text/plain": [
       "'http://ilpedante.org/post/esclusioni-scolastiche-e-vaccinazioni-uno-pseudopaper https://twitter.com/Agenzia_Italia/status/1180035408412979200'"
      ]
     },
     "execution_count": 61,
     "metadata": {},
     "output_type": "execute_result"
    }
   ],
   "source": [
    "#some tweets contains more than one urls, separated by a \" \", so i have to split them\n",
    "url_data.loc[882].head(1).loc[882, \"urls\"]"
   ]
  },
  {
   "cell_type": "code",
   "execution_count": 62,
   "metadata": {},
   "outputs": [],
   "source": [
    "url_data[\"urls\"] = url_data.apply(lambda x: x[\"urls\"].split(\" \"), axis = 1) #split urls separated by a space\n",
    "url_data = url_data.explode(\"urls\") #create one row per urls"
   ]
  },
  {
   "cell_type": "code",
   "execution_count": 64,
   "metadata": {},
   "outputs": [],
   "source": [
    "#extract the domain from the urls with urlparse()\n",
    "url_data[\"domain\"] = [urlparse(u).netloc for u in url_data[\"urls\"]]\n",
    "#if the domain has the form www.domain.com keep only domain.com\n",
    "url_data[\"domain\"] = url_data[\"domain\"].apply(lambda x: x[4:] if x[:4] == \"www.\" else x)\n",
    "#filter out domain pointing to urls shorteners or mainstream social networks\n",
    "url_data = url_data.query(\"domain not in @neutrals\")"
   ]
  },
  {
   "cell_type": "code",
   "execution_count": 67,
   "metadata": {},
   "outputs": [],
   "source": [
    "#create the dataframe only for one country\n",
    "url_data = url_data.query(\"user_country_code == @country\")"
   ]
  },
  {
   "cell_type": "code",
   "execution_count": 85,
   "metadata": {},
   "outputs": [
    {
     "data": {
      "text/html": [
       "<div>\n",
       "<style scoped>\n",
       "    .dataframe tbody tr th:only-of-type {\n",
       "        vertical-align: middle;\n",
       "    }\n",
       "\n",
       "    .dataframe tbody tr th {\n",
       "        vertical-align: top;\n",
       "    }\n",
       "\n",
       "    .dataframe thead th {\n",
       "        text-align: right;\n",
       "    }\n",
       "</style>\n",
       "<table border=\"1\" class=\"dataframe\">\n",
       "  <thead>\n",
       "    <tr style=\"text-align: right;\">\n",
       "      <th></th>\n",
       "      <th>urls</th>\n",
       "      <th>country</th>\n",
       "      <th>lang</th>\n",
       "      <th>domain</th>\n",
       "      <th>users</th>\n",
       "    </tr>\n",
       "  </thead>\n",
       "  <tbody>\n",
       "    <tr>\n",
       "      <th>0</th>\n",
       "      <td>http://A.Ge</td>\n",
       "      <td>IT</td>\n",
       "      <td>it</td>\n",
       "      <td>A.Ge</td>\n",
       "      <td>[academorosario]</td>\n",
       "    </tr>\n",
       "    <tr>\n",
       "      <th>1</th>\n",
       "      <td>http://ANSA.it</td>\n",
       "      <td>IT</td>\n",
       "      <td>it</td>\n",
       "      <td>ANSA.it</td>\n",
       "      <td>[OdontotecnicaF, giuliano4573, minarompa, cbat...</td>\n",
       "    </tr>\n",
       "    <tr>\n",
       "      <th>2</th>\n",
       "      <td>http://C.Li.Va</td>\n",
       "      <td>IT</td>\n",
       "      <td>it</td>\n",
       "      <td>C.Li.Va</td>\n",
       "      <td>[Clutcher]</td>\n",
       "    </tr>\n",
       "    <tr>\n",
       "      <th>3</th>\n",
       "      <td>http://C.VET</td>\n",
       "      <td>IT</td>\n",
       "      <td>it</td>\n",
       "      <td>C.VET</td>\n",
       "      <td>[Sissona]</td>\n",
       "    </tr>\n",
       "    <tr>\n",
       "      <th>4</th>\n",
       "      <td>http://CalabriaMagnifica.it</td>\n",
       "      <td>IT</td>\n",
       "      <td>it</td>\n",
       "      <td>CalabriaMagnifica.it</td>\n",
       "      <td>[Calab_Magnifica]</td>\n",
       "    </tr>\n",
       "  </tbody>\n",
       "</table>\n",
       "</div>"
      ],
      "text/plain": [
       "                          urls country lang                domain  \\\n",
       "0                  http://A.Ge      IT   it                  A.Ge   \n",
       "1               http://ANSA.it      IT   it               ANSA.it   \n",
       "2               http://C.Li.Va      IT   it               C.Li.Va   \n",
       "3                 http://C.VET      IT   it                 C.VET   \n",
       "4  http://CalabriaMagnifica.it      IT   it  CalabriaMagnifica.it   \n",
       "\n",
       "                                               users  \n",
       "0                                   [academorosario]  \n",
       "1  [OdontotecnicaF, giuliano4573, minarompa, cbat...  \n",
       "2                                         [Clutcher]  \n",
       "3                                          [Sissona]  \n",
       "4                                  [Calab_Magnifica]  "
      ]
     },
     "execution_count": 85,
     "metadata": {},
     "output_type": "execute_result"
    }
   ],
   "source": [
    "#group all the users that have shared the same URL (and have the same domain)\n",
    "#creating the column \"urls\", where we have the list of users that shared the same url\n",
    "hyper_url_data = url_data.groupby([\"urls\", \"domain\"]) \\\n",
    ".apply(lambda x: x[\"user_screen_name\"].unique()).reset_index().rename(columns = {0:\"users\"}) \\\n",
    ".assign(lang = lang, country = country)[[\"urls\", \"country\", \"lang\", \"domain\", \"users\"]]\n",
    "#save them\n",
    "#hyper_url_data.to_csv(folder_EU_AM + \"/{0}/{1}_{2}_{0}_adj_CO_edges.csv.gz\".format(period, country, lang), index = False)\n",
    "hyper_url_data.head()"
   ]
  },
  {
   "cell_type": "code",
   "execution_count": 86,
   "metadata": {},
   "outputs": [],
   "source": [
    "#for creating the edgelist filter only the URLs that have been shared by more than one user\n",
    "#that are the only URL that cause the creation of the links\n",
    "CO_url_data = hyper_url_data[hyper_url_data.apply(lambda x: len(x[\"users\"]) > 1, axis = 1)]"
   ]
  },
  {
   "cell_type": "code",
   "execution_count": 113,
   "metadata": {},
   "outputs": [],
   "source": [
    "#create a list that will be transformed in a dataframe with all the combinations of users that shared the same\n",
    "#urls\n",
    "cosharing_users = []\n",
    "for l in CO_url_data.iterrows():\n",
    "    l_urls, l_country, l_lang, l_dom, l_usr = l[1]\n",
    "    #combinations(l, k) return all the combination of size k from the list l\n",
    "    #so we can have the pairs of users that shared the same url from the list of users that shared the same url\n",
    "    for pair in combinations(l_usr, 2):\n",
    "        pair = sorted(pair) #since the links are undirected I want all of them in the same order, alphabetical\n",
    "        cosharing_users.append([pair[0], pair[1], l_urls, l_country, l_lang, l_dom])"
   ]
  },
  {
   "cell_type": "code",
   "execution_count": 114,
   "metadata": {},
   "outputs": [
    {
     "data": {
      "text/html": [
       "<div>\n",
       "<style scoped>\n",
       "    .dataframe tbody tr th:only-of-type {\n",
       "        vertical-align: middle;\n",
       "    }\n",
       "\n",
       "    .dataframe tbody tr th {\n",
       "        vertical-align: top;\n",
       "    }\n",
       "\n",
       "    .dataframe thead th {\n",
       "        text-align: right;\n",
       "    }\n",
       "</style>\n",
       "<table border=\"1\" class=\"dataframe\">\n",
       "  <thead>\n",
       "    <tr style=\"text-align: right;\">\n",
       "      <th></th>\n",
       "      <th>user1</th>\n",
       "      <th>user2</th>\n",
       "      <th>url</th>\n",
       "      <th>country</th>\n",
       "      <th>lang</th>\n",
       "      <th>domain</th>\n",
       "    </tr>\n",
       "  </thead>\n",
       "  <tbody>\n",
       "    <tr>\n",
       "      <th>0</th>\n",
       "      <td>OdontotecnicaF</td>\n",
       "      <td>giuliano4573</td>\n",
       "      <td>http://ANSA.it</td>\n",
       "      <td>IT</td>\n",
       "      <td>it</td>\n",
       "      <td>ANSA.it</td>\n",
       "    </tr>\n",
       "    <tr>\n",
       "      <th>1</th>\n",
       "      <td>OdontotecnicaF</td>\n",
       "      <td>minarompa</td>\n",
       "      <td>http://ANSA.it</td>\n",
       "      <td>IT</td>\n",
       "      <td>it</td>\n",
       "      <td>ANSA.it</td>\n",
       "    </tr>\n",
       "    <tr>\n",
       "      <th>2</th>\n",
       "      <td>OdontotecnicaF</td>\n",
       "      <td>cbatcaselli</td>\n",
       "      <td>http://ANSA.it</td>\n",
       "      <td>IT</td>\n",
       "      <td>it</td>\n",
       "      <td>ANSA.it</td>\n",
       "    </tr>\n",
       "    <tr>\n",
       "      <th>3</th>\n",
       "      <td>OdontotecnicaF</td>\n",
       "      <td>lillydessi</td>\n",
       "      <td>http://ANSA.it</td>\n",
       "      <td>IT</td>\n",
       "      <td>it</td>\n",
       "      <td>ANSA.it</td>\n",
       "    </tr>\n",
       "    <tr>\n",
       "      <th>4</th>\n",
       "      <td>OdontotecnicaF</td>\n",
       "      <td>carloerbaa</td>\n",
       "      <td>http://ANSA.it</td>\n",
       "      <td>IT</td>\n",
       "      <td>it</td>\n",
       "      <td>ANSA.it</td>\n",
       "    </tr>\n",
       "  </tbody>\n",
       "</table>\n",
       "</div>"
      ],
      "text/plain": [
       "            user1         user2             url country lang   domain\n",
       "0  OdontotecnicaF  giuliano4573  http://ANSA.it      IT   it  ANSA.it\n",
       "1  OdontotecnicaF     minarompa  http://ANSA.it      IT   it  ANSA.it\n",
       "2  OdontotecnicaF   cbatcaselli  http://ANSA.it      IT   it  ANSA.it\n",
       "3  OdontotecnicaF    lillydessi  http://ANSA.it      IT   it  ANSA.it\n",
       "4  OdontotecnicaF    carloerbaa  http://ANSA.it      IT   it  ANSA.it"
      ]
     },
     "execution_count": 114,
     "metadata": {},
     "output_type": "execute_result"
    }
   ],
   "source": [
    "CO_edgelist = pd.DataFrame(cosharing_users, columns = [\"user1\", \"user2\", \"url\", \"country\", \"lang\", \"domain\"])\n",
    "CO_edgelist.head() #capital letters are always before lowercase"
   ]
  },
  {
   "cell_type": "code",
   "execution_count": 125,
   "metadata": {},
   "outputs": [
    {
     "data": {
      "text/html": [
       "<div>\n",
       "<style scoped>\n",
       "    .dataframe tbody tr th:only-of-type {\n",
       "        vertical-align: middle;\n",
       "    }\n",
       "\n",
       "    .dataframe tbody tr th {\n",
       "        vertical-align: top;\n",
       "    }\n",
       "\n",
       "    .dataframe thead th {\n",
       "        text-align: right;\n",
       "    }\n",
       "</style>\n",
       "<table border=\"1\" class=\"dataframe\">\n",
       "  <thead>\n",
       "    <tr style=\"text-align: right;\">\n",
       "      <th></th>\n",
       "      <th>user1</th>\n",
       "      <th>user2</th>\n",
       "      <th>weight</th>\n",
       "    </tr>\n",
       "  </thead>\n",
       "  <tbody>\n",
       "    <tr>\n",
       "      <th>0</th>\n",
       "      <td>000Salvatore</td>\n",
       "      <td>AndreaLisi15</td>\n",
       "      <td>1</td>\n",
       "    </tr>\n",
       "    <tr>\n",
       "      <th>1</th>\n",
       "      <td>000Salvatore</td>\n",
       "      <td>IacobellisT</td>\n",
       "      <td>1</td>\n",
       "    </tr>\n",
       "    <tr>\n",
       "      <th>2</th>\n",
       "      <td>000Salvatore</td>\n",
       "      <td>MPaperoga</td>\n",
       "      <td>1</td>\n",
       "    </tr>\n",
       "    <tr>\n",
       "      <th>3</th>\n",
       "      <td>000Salvatore</td>\n",
       "      <td>alpardu</td>\n",
       "      <td>1</td>\n",
       "    </tr>\n",
       "    <tr>\n",
       "      <th>4</th>\n",
       "      <td>000Salvatore</td>\n",
       "      <td>angy_cocco</td>\n",
       "      <td>1</td>\n",
       "    </tr>\n",
       "  </tbody>\n",
       "</table>\n",
       "</div>"
      ],
      "text/plain": [
       "          user1         user2  weight\n",
       "0  000Salvatore  AndreaLisi15       1\n",
       "1  000Salvatore   IacobellisT       1\n",
       "2  000Salvatore     MPaperoga       1\n",
       "3  000Salvatore       alpardu       1\n",
       "4  000Salvatore    angy_cocco       1"
      ]
     },
     "execution_count": 125,
     "metadata": {},
     "output_type": "execute_result"
    }
   ],
   "source": [
    "#count rows and give weight to each link\n",
    "weighted_CO_edgelist = CO_edgelist.groupby([\"user1\", \"user2\"]).count()[\"url\"].reset_index().rename(columns = {\"url\": \"weight\"})\n",
    "#weighted_CO_edgelist.to_csv(folder_EU_AM + \"/{0}/{1}_{2}_{0}_CO_edges.csv.gz\".format(period, country, lang), index = False)\n",
    "weighted_CO_edgelist.head()"
   ]
  },
  {
   "cell_type": "markdown",
   "metadata": {},
   "source": [
    "## All countries - Periods"
   ]
  },
  {
   "cell_type": "code",
   "execution_count": 126,
   "metadata": {},
   "outputs": [],
   "source": [
    "for period in periods:\n",
    "    for _, (country, lang) in selected_pairs.iterrows():\n",
    "        #read data from folder_DATA, selecting only columns with user, country, lang, urls\n",
    "        url_data = pd.concat([pd.read_csv(file, lineterminator = \"\\n\",\n",
    "                                  sep = \"\\t\", low_memory = False, \n",
    "                                  quoting = False, escapechar = None)\\\n",
    "                      [[\"user_screen_name\", \"user_country_code\", \"urls\", \"lang\"]] \n",
    "                      .dropna() #drop rows without a urls\n",
    "                      for month in periods[period] #for each month of the period\n",
    "                      for file in sorted(glob(\"/\".join([folder, lang, month + \"*\"])))]) #for all the file in the selected language\n",
    "        url_data[\"urls\"] = url_data.apply(lambda x: x[\"urls\"].split(\" \"), axis = 1) #split urls separated by a space\n",
    "        url_data = url_data.explode(\"urls\") #create one row per urls\n",
    "        \n",
    "        #extract the domain from the urls with urlparse()\n",
    "        url_data[\"domain\"] = [urlparse(u).netloc for u in url_data[\"urls\"]]\n",
    "        #if the domain has the form www.domain.com keep only domain.com\n",
    "        url_data[\"domain\"] = url_data[\"domain\"].apply(lambda x: x[4:] if x[:4] == \"www.\" else x)\n",
    "        #filter out domain pointing to urls shorteners or mainstream social networks\n",
    "        url_data = url_data.query(\"domain not in @neutrals\")\n",
    "        #create the dataframe only for one country\n",
    "        url_data = url_data.query(\"user_country_code == @country\")\n",
    "        \n",
    "        #group all the users that have shared the same URL (and have the same domain)\n",
    "        #creating the column \"urls\", where we have the list of users that shared the same url\n",
    "        hyper_url_data = url_data.groupby([\"urls\", \"domain\"]) \\\n",
    "        .apply(lambda x: x[\"user_screen_name\"].unique()).reset_index().rename(columns = {0:\"users\"}) \\\n",
    "        .assign(lang = lang, country = country)[[\"urls\", \"country\", \"lang\", \"domain\", \"users\"]]\n",
    "        #save them\n",
    "        #hyper_url_data.to_csv(folder_EU_AM + \"/{0}/{1}_{2}_{0}_adj_CO_edges.csv.gz\".format(period, country, lang), index = False)\n",
    "\n",
    "        #for creating the edgelist filter only the URLs that have been shared by more than one user\n",
    "        #that are the only URL that cause the creation of the links\n",
    "        CO_url_data = hyper_url_data[hyper_url_data.apply(lambda x: len(x[\"users\"]) > 1, axis = 1)]\n",
    "        \n",
    "        #create a list that will be transformed in a dataframe with all the combinations of users that shared the same\n",
    "        #urls\n",
    "        cosharing_users = []\n",
    "        for l in CO_url_data.iterrows():\n",
    "            l_urls, l_country, l_lang, l_dom, l_usr = l[1]\n",
    "            #combinations(l, k) return all the combination of size k from the list l\n",
    "            #so we can have the pairs of users that shared the same url from the list of users that shared the same url\n",
    "            for pair in combinations(l_usr, 2):\n",
    "                pair = sorted(pair) #since the links are undirected I want all of them in the same order, alphabetical\n",
    "                cosharing_users.append([pair[0], pair[1], l_urls, l_country, l_lang, l_dom])\n",
    "        \n",
    "        CO_edgelist = pd.DataFrame(cosharing_users, columns = [\"user1\", \"user2\", \"url\", \"country\", \"lang\", \"domain\"])\n",
    "        \n",
    "        #count rows and give weight to each link\n",
    "        weighted_CO_edgelist = CO_edgelist.groupby([\"user1\", \"user2\"]).count()[\"url\"].reset_index().rename(columns = {\"url\": \"weight\"})\n",
    "        #weighted_CO_edgelist.to_csv(folder_EU_AM + \"/{0}/{1}_{2}_{0}_CO_edges.csv.gz\".format(period, country, lang), index = False)\n",
    "        "
   ]
  },
  {
   "cell_type": "code",
   "execution_count": null,
   "metadata": {},
   "outputs": [],
   "source": []
  },
  {
   "cell_type": "code",
   "execution_count": null,
   "metadata": {},
   "outputs": [],
   "source": []
  },
  {
   "cell_type": "code",
   "execution_count": null,
   "metadata": {},
   "outputs": [],
   "source": []
  },
  {
   "cell_type": "code",
   "execution_count": null,
   "metadata": {},
   "outputs": [],
   "source": []
  },
  {
   "cell_type": "code",
   "execution_count": null,
   "metadata": {},
   "outputs": [],
   "source": []
  },
  {
   "cell_type": "code",
   "execution_count": null,
   "metadata": {},
   "outputs": [],
   "source": []
  },
  {
   "cell_type": "code",
   "execution_count": null,
   "metadata": {},
   "outputs": [],
   "source": []
  }
 ],
 "metadata": {
  "kernelspec": {
   "display_name": "Python 3",
   "language": "python",
   "name": "python3"
  },
  "language_info": {
   "codemirror_mode": {
    "name": "ipython",
    "version": 3
   },
   "file_extension": ".py",
   "mimetype": "text/x-python",
   "name": "python",
   "nbconvert_exporter": "python",
   "pygments_lexer": "ipython3",
   "version": "3.8.5"
  }
 },
 "nbformat": 4,
 "nbformat_minor": 4
}
