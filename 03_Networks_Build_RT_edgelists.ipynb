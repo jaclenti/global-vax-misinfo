{
 "cells": [
  {
   "cell_type": "markdown",
   "metadata": {},
   "source": [
    "# Networks Build - RT edgelists\n",
    "In this notebook we create the retweets weighted edgelists for each country in each period and save them in the folder_EU_AM.\n",
    "\n",
    "- The RT network is a directed network, where nodes are the users, and an edge is a directed link that represent a user retweeting another. The weight of the edge is the number of retweets from a user to another.\n",
    "- For each selected country, for each period, we create an edgelist (filtering the tweets in the language selected)\n",
    "- All the dataframes are store in /data/public/jlenti/multilang-vax/EuropeAmerica_RTCO, in the format /.../period1/IT_it_period1_RT_edges.csv.gz\n"
   ]
  },
  {
   "cell_type": "code",
   "execution_count": 4,
   "metadata": {},
   "outputs": [],
   "source": [
    "import pandas as pd\n",
    "from glob import glob\n",
    "import numpy as np\n",
    "import networkx as nx"
   ]
  },
  {
   "cell_type": "code",
   "execution_count": 27,
   "metadata": {},
   "outputs": [],
   "source": [
    "periods = {\"period1\": [\"201910\",\"201911\",\"201912\"],\n",
    "           \"period2\": [\"202007\",\"202008\",\"202009\"], \n",
    "           \"period3\": [\"202010\",\"202011\",\"202012\"], \n",
    "           \"period4\": [\"202101\",\"202102\",\"202103\"]\n",
    "          }\n",
    "\n",
    "folder_EU_AM = \"/data/public/jlenti/multilang-vax/EuropeAmerica_RTCO\"\n",
    "folder_url = \"/data/public/jlenti/multilang-vax/DATA_clean_url\""
   ]
  },
  {
   "cell_type": "markdown",
   "metadata": {},
   "source": [
    "### Example"
   ]
  },
  {
   "cell_type": "code",
   "execution_count": 10,
   "metadata": {},
   "outputs": [],
   "source": [
    "#dataframe with rows user, country, RT_user, RT_country, lang\n",
    "c, l = \"NL\", \"nl\"\n",
    "\n",
    "RT_data = pd.concat([pd.read_csv(file, lineterminator = \"\\n\",\n",
    "           sep = \"\\t\", low_memory = False, quoting = False, escapechar = None)[[\"user_screen_name\", \"user_country_code\", \"RT_user_screen_name\", \"RT_user_country_code\", \"lang\"]].dropna()\n",
    "                      for file in sorted(glob(folder_url + \"/{0}/2019*\".format(l)))]).rename(columns = {\"user_country_code\": \"country\", \n",
    "                                                                                            \"RT_user_country_code\": \"country_RT\",\n",
    "                                                                                            \"user_screen_name\": \"user\",\n",
    "                                                                                            \"RT_user_screen_name\": \"user_RT\"})\n"
   ]
  },
  {
   "cell_type": "code",
   "execution_count": 15,
   "metadata": {},
   "outputs": [
    {
     "data": {
      "text/html": [
       "<div>\n",
       "<style scoped>\n",
       "    .dataframe tbody tr th:only-of-type {\n",
       "        vertical-align: middle;\n",
       "    }\n",
       "\n",
       "    .dataframe tbody tr th {\n",
       "        vertical-align: top;\n",
       "    }\n",
       "\n",
       "    .dataframe thead th {\n",
       "        text-align: right;\n",
       "    }\n",
       "</style>\n",
       "<table border=\"1\" class=\"dataframe\">\n",
       "  <thead>\n",
       "    <tr style=\"text-align: right;\">\n",
       "      <th></th>\n",
       "      <th>user</th>\n",
       "      <th>user_RT</th>\n",
       "      <th>weight</th>\n",
       "    </tr>\n",
       "  </thead>\n",
       "  <tbody>\n",
       "    <tr>\n",
       "      <th>0</th>\n",
       "      <td>020Ruijgrok</td>\n",
       "      <td>shossontwits</td>\n",
       "      <td>1</td>\n",
       "    </tr>\n",
       "    <tr>\n",
       "      <th>1</th>\n",
       "      <td>020tho</td>\n",
       "      <td>thiessenmark</td>\n",
       "      <td>1</td>\n",
       "    </tr>\n",
       "    <tr>\n",
       "      <th>2</th>\n",
       "      <td>030Binnenstad</td>\n",
       "      <td>hansdamen</td>\n",
       "      <td>2</td>\n",
       "    </tr>\n",
       "    <tr>\n",
       "      <th>3</th>\n",
       "      <td>0limpiaElena</td>\n",
       "      <td>VVD</td>\n",
       "      <td>2</td>\n",
       "    </tr>\n",
       "    <tr>\n",
       "      <th>4</th>\n",
       "      <td>0limpiaElena</td>\n",
       "      <td>VVDBunnik</td>\n",
       "      <td>4</td>\n",
       "    </tr>\n",
       "  </tbody>\n",
       "</table>\n",
       "</div>"
      ],
      "text/plain": [
       "            user       user_RT  weight\n",
       "0    020Ruijgrok  shossontwits       1\n",
       "1         020tho  thiessenmark       1\n",
       "2  030Binnenstad     hansdamen       2\n",
       "3   0limpiaElena           VVD       2\n",
       "4   0limpiaElena     VVDBunnik       4"
      ]
     },
     "execution_count": 15,
     "metadata": {},
     "output_type": "execute_result"
    }
   ],
   "source": [
    "edges = RT_data.query(\"(country == @c)&(country_RT == @c)&(lang == @l)\") \\\n",
    ".groupby([\"user\", \"user_RT\"]).count().rename(columns = {\"lang\": \"weight\"})[\"weight\"].reset_index()\n",
    "edges.head()"
   ]
  },
  {
   "cell_type": "markdown",
   "metadata": {},
   "source": [
    "## All RT Networks"
   ]
  },
  {
   "cell_type": "code",
   "execution_count": 12,
   "metadata": {},
   "outputs": [],
   "source": [
    "#dataframe with country-lang pairs we selected for the analysis\n",
    "selected_pairs = pd.read_csv(\"/home/jlenti/Files/country_langs_selected_2104.csv\", index_col = 0)"
   ]
  },
  {
   "cell_type": "code",
   "execution_count": 20,
   "metadata": {},
   "outputs": [],
   "source": [
    "langs_countries_list = selected_pairs.groupby(\"lang\").apply(lambda x: x[\"country\"].tolist()).reset_index()"
   ]
  },
  {
   "cell_type": "code",
   "execution_count": 23,
   "metadata": {},
   "outputs": [
    {
     "data": {
      "text/html": [
       "<div>\n",
       "<style scoped>\n",
       "    .dataframe tbody tr th:only-of-type {\n",
       "        vertical-align: middle;\n",
       "    }\n",
       "\n",
       "    .dataframe tbody tr th {\n",
       "        vertical-align: top;\n",
       "    }\n",
       "\n",
       "    .dataframe thead th {\n",
       "        text-align: right;\n",
       "    }\n",
       "</style>\n",
       "<table border=\"1\" class=\"dataframe\">\n",
       "  <thead>\n",
       "    <tr style=\"text-align: right;\">\n",
       "      <th></th>\n",
       "      <th>lang</th>\n",
       "      <th>0</th>\n",
       "    </tr>\n",
       "  </thead>\n",
       "  <tbody>\n",
       "    <tr>\n",
       "      <th>0</th>\n",
       "      <td>de</td>\n",
       "      <td>[DE]</td>\n",
       "    </tr>\n",
       "    <tr>\n",
       "      <th>1</th>\n",
       "      <td>el</td>\n",
       "      <td>[GR]</td>\n",
       "    </tr>\n",
       "    <tr>\n",
       "      <th>2</th>\n",
       "      <td>en</td>\n",
       "      <td>[US, GB, CA, AU, IE, NZ]</td>\n",
       "    </tr>\n",
       "    <tr>\n",
       "      <th>3</th>\n",
       "      <td>es</td>\n",
       "      <td>[AR, ES, MX, VE, CO, CL, PY, EC, UY, PE, CU, PA]</td>\n",
       "    </tr>\n",
       "    <tr>\n",
       "      <th>4</th>\n",
       "      <td>fr</td>\n",
       "      <td>[FR]</td>\n",
       "    </tr>\n",
       "    <tr>\n",
       "      <th>5</th>\n",
       "      <td>it</td>\n",
       "      <td>[IT]</td>\n",
       "    </tr>\n",
       "    <tr>\n",
       "      <th>6</th>\n",
       "      <td>nl</td>\n",
       "      <td>[NL]</td>\n",
       "    </tr>\n",
       "    <tr>\n",
       "      <th>7</th>\n",
       "      <td>pl</td>\n",
       "      <td>[PL]</td>\n",
       "    </tr>\n",
       "    <tr>\n",
       "      <th>8</th>\n",
       "      <td>pt</td>\n",
       "      <td>[BR, PT]</td>\n",
       "    </tr>\n",
       "    <tr>\n",
       "      <th>9</th>\n",
       "      <td>ru</td>\n",
       "      <td>[RU]</td>\n",
       "    </tr>\n",
       "    <tr>\n",
       "      <th>10</th>\n",
       "      <td>tr</td>\n",
       "      <td>[TR]</td>\n",
       "    </tr>\n",
       "  </tbody>\n",
       "</table>\n",
       "</div>"
      ],
      "text/plain": [
       "   lang                                                 0\n",
       "0    de                                              [DE]\n",
       "1    el                                              [GR]\n",
       "2    en                          [US, GB, CA, AU, IE, NZ]\n",
       "3    es  [AR, ES, MX, VE, CO, CL, PY, EC, UY, PE, CU, PA]\n",
       "4    fr                                              [FR]\n",
       "5    it                                              [IT]\n",
       "6    nl                                              [NL]\n",
       "7    pl                                              [PL]\n",
       "8    pt                                          [BR, PT]\n",
       "9    ru                                              [RU]\n",
       "10   tr                                              [TR]"
      ]
     },
     "execution_count": 23,
     "metadata": {},
     "output_type": "execute_result"
    }
   ],
   "source": [
    "langs_countries_list"
   ]
  },
  {
   "cell_type": "code",
   "execution_count": 26,
   "metadata": {},
   "outputs": [
    {
     "data": {
      "text/plain": [
       "(10,\n",
       " lang      tr\n",
       " 0       [TR]\n",
       " Name: 10, dtype: object)"
      ]
     },
     "execution_count": 26,
     "metadata": {},
     "output_type": "execute_result"
    }
   ],
   "source": [
    "for row in langs_countries_list.iterrows():\n",
    "    a = 0\n",
    "row"
   ]
  },
  {
   "cell_type": "code",
   "execution_count": null,
   "metadata": {},
   "outputs": [],
   "source": [
    "for period in periods:\n",
    "    print(period)\n",
    "    for  _, (lang, countries) in lang_countries_list.iterrows():\n",
    "        print(lang)\n",
    "        RT_data = pd.concat([pd.read_csv(file, lineterminator = \"\\n\",\n",
    "                                         sep = \"\\t\", low_memory = False,\n",
    "                                         quoting = False, escapechar = None)[[\"user_screen_name\", \"user_country_code\", \n",
    "                                                                              \"RT_user_screen_name\", \"RT_user_country_code\", \n",
    "                                                                              \"lang\"]].dropna().query(\"(user_country_code != ' ')&(RT_user_country_code != ' ')\")\n",
    "                             for month in periods[period]\n",
    "                             for file in sorted(glob(folder_url + \"/{1}/{0}*\".format(month, lang)))])\n",
    "        .rename(columns = {\"user_country_code\": \"country\",\n",
    "                           \"RT_user_country_code\": \"country_RT\",\n",
    "                           \"user_screen_name\": \"user\",\n",
    "                           \"RT_user_screen_name\": \"user_RT\"})\n",
    "        for country in countries:\n",
    "            edges = RT_data.query(\"(country == @country)&(country_RT == @country)&(lang == @lang)\") \\\n",
    "            .groupby([\"user\", \"user_RT\"]) \\\n",
    "            .count().rename(columns = {\"lang\": \"weight\"})[\"weight\"].reset_index()\n",
    "            \n",
    "            if len(edges[[\"user\", \"user_RT\"]]\n",
    "                   .stack()\n",
    "                   .unique()) > 200000:\n",
    "                edges = edges.query(\"weight > 1\")\n",
    "                print(country, lang, period, \"weight 1\")\n",
    "                \n",
    "            edges.to_csv(\"/\".join([folder_EU_AM, period, \"_\".join([country, lang, period, \"RT\", \"edges.csv.gz\"])]),\n",
    "                         compression = \"gzip\", index = False)"
   ]
  },
  {
   "cell_type": "code",
   "execution_count": null,
   "metadata": {},
   "outputs": [],
   "source": []
  },
  {
   "cell_type": "code",
   "execution_count": null,
   "metadata": {},
   "outputs": [],
   "source": []
  },
  {
   "cell_type": "code",
   "execution_count": null,
   "metadata": {},
   "outputs": [],
   "source": []
  }
 ],
 "metadata": {
  "kernelspec": {
   "display_name": "Python 3",
   "language": "python",
   "name": "python3"
  },
  "language_info": {
   "codemirror_mode": {
    "name": "ipython",
    "version": 3
   },
   "file_extension": ".py",
   "mimetype": "text/x-python",
   "name": "python",
   "nbconvert_exporter": "python",
   "pygments_lexer": "ipython3",
   "version": "3.8.5"
  }
 },
 "nbformat": 4,
 "nbformat_minor": 4
}
